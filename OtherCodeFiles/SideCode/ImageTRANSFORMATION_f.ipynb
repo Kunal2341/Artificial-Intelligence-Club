{
 "cells": [
  {
   "cell_type": "code",
   "execution_count": 1,
   "metadata": {},
   "outputs": [
    {
     "name": "stderr",
     "output_type": "stream",
     "text": [
      "/anaconda3/lib/python3.6/site-packages/h5py/__init__.py:36: FutureWarning: Conversion of the second argument of issubdtype from `float` to `np.floating` is deprecated. In future, it will be treated as `np.float64 == np.dtype(float).type`.\n",
      "  from ._conv import register_converters as _register_converters\n",
      "Using TensorFlow backend.\n"
     ]
    }
   ],
   "source": [
    "from keras.preprocessing import image\n",
    "import os\n",
    "import matplotlib.pyplot as plt\n",
    "from keras.preprocessing.image import ImageDataGenerator"
   ]
  },
  {
   "cell_type": "code",
   "execution_count": 2,
   "metadata": {},
   "outputs": [],
   "source": [
    "import numpy as np \n",
    "#import _pickle as cPickle from PIL \n",
    "#import Image \n",
    "import sys\n",
    "import os\n",
    "import cv2 "
   ]
  },
  {
   "cell_type": "markdown",
   "metadata": {},
   "source": [
    "# PART 1  "
   ]
  },
  {
   "cell_type": "markdown",
   "metadata": {},
   "source": [
    "# IMAGE RESIZING\n"
   ]
  },
  {
   "cell_type": "code",
   "execution_count": null,
   "metadata": {},
   "outputs": [],
   "source": [
    "os.chdir('/Users/NidhiAneja/Documents/AI/Cafeteria/OpenCV-Python-Series-master/src/images_phone/')\n",
    "execution_path = os.getcwd()\n",
    "trn_lst = os.path.join(execution_path, \"in_photos\")\n",
    "sz_lst = os.path.join(execution_path, \"sz_photos\")"
   ]
  },
  {
   "cell_type": "code",
   "execution_count": null,
   "metadata": {},
   "outputs": [],
   "source": [
    "if(os.path.exists(sz_lst) == False):\n",
    "    os.mkdir(sz_lst)"
   ]
  },
  {
   "cell_type": "code",
   "execution_count": null,
   "metadata": {},
   "outputs": [],
   "source": [
    "lst = os.listdir(os.path.join(execution_path, \"in_photos\"))\n",
    "lst = sorted(lst)\n",
    "del lst[0]\n",
    "lst"
   ]
  },
  {
   "cell_type": "code",
   "execution_count": null,
   "metadata": {},
   "outputs": [],
   "source": [
    "os.chdir('/Users/SA035G2/Documents/AI/IMAGES/sz_photos/')\n",
    "root_sz = '/Users/SA035G2/Documents/AI/IMAGES/sz_photos/'\n",
    "for i in range(len(lst)):\n",
    "    if(os.path.exists(lst[i]) == False):\n",
    "        os.mkdir(lst[i])\n",
    "    if(os.path.exists(os.path.join(root_sz, lst[i],lst[i])) == False):\n",
    "        os.mkdir(os.path.join(root_sz, lst[i],lst[i]))\n",
    "#os.chdir('/Users/SA035G2/Documents/AI/IMAGES/')"
   ]
  },
  {
   "cell_type": "code",
   "execution_count": null,
   "metadata": {},
   "outputs": [],
   "source": [
    "root = '/Users/NidhiAneja/Documents/AI/Cafeteria/OpenCV-Python-Series-master/src/images_phone/Aneesh/'\n",
    "for i in range(len(lst)):\n",
    "    root = '/Users/sa035g2/Documents/AI/IMAGES/'\n",
    "    all_files = os.listdir(os.path.join(root,'in_photos', lst[i], lst[i]))\n",
    "    all_files = sorted(all_files)\n",
    "    #del all_files[0]\n",
    "    #print(all_files)\n",
    "    for files in all_files:\n",
    "        imageX = cv2.imread(os.path.join(root, 'in_photos', lst[i], lst[i], files ) )\n",
    "        #print(imageX.shape)\n",
    "        r = 1280.0*2 / imageX.shape[1]\n",
    "        dim = (1280*2, int(imageX.shape[0] * r))\n",
    "        resized = cv2.resize(imageX, dim, interpolation = cv2.INTER_AREA)\n",
    "        print(resized.shape)\n",
    "        cv2.imwrite(os.path.join(root, 'sz_photos',lst[i],lst[i], files) ,resized)"
   ]
  },
  {
   "cell_type": "markdown",
   "metadata": {},
   "source": [
    "# PART 2"
   ]
  },
  {
   "cell_type": "markdown",
   "metadata": {},
   "source": [
    "# IMAGE TRANSFORMATION"
   ]
  },
  {
   "cell_type": "code",
   "execution_count": null,
   "metadata": {},
   "outputs": [],
   "source": [
    "DATASET_DIR = '/Users/SA035G2/Documents/AI/IMAGES/'"
   ]
  },
  {
   "cell_type": "code",
   "execution_count": null,
   "metadata": {},
   "outputs": [],
   "source": [
    "if(os.path.exists(DATASET_DIR) == False):\n",
    "    os.mkdir(DATASET_DIR)"
   ]
  },
  {
   "cell_type": "code",
   "execution_count": null,
   "metadata": {},
   "outputs": [],
   "source": [
    "os.chdir('/Users/SA035G2/Documents/AI/IMAGES/')\n",
    "execution_path = os.getcwd()\n",
    "trn_lst = os.path.join(execution_path, \"in_photos\")\n",
    "gen_lst = os.path.join(execution_path, \"out_photos\")"
   ]
  },
  {
   "cell_type": "code",
   "execution_count": null,
   "metadata": {},
   "outputs": [],
   "source": [
    "if(os.path.exists(gen_lst) == False):\n",
    "    os.mkdir(gen_lst)"
   ]
  },
  {
   "cell_type": "code",
   "execution_count": null,
   "metadata": {},
   "outputs": [],
   "source": [
    "lst = os.listdir(os.path.join(execution_path, \"in_photos\"))\n",
    "lst = os.listdir(os.path.join(execution_path, \"sz_photos\"))\n",
    "lst = sorted(lst)\n",
    "del lst[0]\n",
    "lst"
   ]
  },
  {
   "cell_type": "code",
   "execution_count": null,
   "metadata": {},
   "outputs": [],
   "source": [
    "os.chdir('/Users/SA035G2/Documents/AI/IMAGES/out_photos/')\n",
    "for i in range(len(lst)):\n",
    "    if(os.path.exists(lst[i]) == False):\n",
    "        os.mkdir(lst[i])\n",
    "os.chdir('/Users/SA035G2/Documents/AI/IMAGES/')"
   ]
  },
  {
   "cell_type": "code",
   "execution_count": null,
   "metadata": {},
   "outputs": [],
   "source": [
    "print(trn_lst)\n",
    "print(gen_lst)"
   ]
  },
  {
   "cell_type": "markdown",
   "metadata": {},
   "source": [
    "# transformation 1 "
   ]
  },
  {
   "cell_type": "code",
   "execution_count": null,
   "metadata": {},
   "outputs": [],
   "source": [
    "## TRANSFORMATION 1 (+15 degress)\n",
    "#(960, 1280, 3)\n",
    "# len(lst) 8 folders\n",
    "#value=[49,10,72,66, 81,10,71,71]\n",
    "\n",
    "# NUMBER OF FILES (PHOTOS) IN EACH FOLDER\n",
    "files_idx =[]\n",
    "for i in range(len(lst)):\n",
    "    root = '/Users/sa035g2/Documents/AI/IMAGES/sz_photos'\n",
    "    all_files = os.listdir(os.path.join(root, lst[i], lst[i]))\n",
    "    files_idx.append( len(all_files) )\n",
    "\n",
    "\n",
    "for i in range(len(lst)):\n",
    "    files_idx1 = files_idx[i] # new **\n",
    "    datagen = image.ImageDataGenerator(        \n",
    "        rotation_range= 15,\n",
    "        width_shift_range=0.2,\n",
    "        height_shift_range=0.2,\n",
    "        shear_range=0.2,\n",
    "        zoom_range=0.2,\n",
    "        horizontal_flip= True,\n",
    "        fill_mode='nearest')\n",
    "\n",
    "    gen_data = datagen.flow_from_directory(os.path.join(trn_lst, lst[i]), \n",
    "                                       batch_size=1, \n",
    "                                       shuffle=False, \n",
    "                                       save_to_dir= os.path.join(gen_lst, lst[i]),\n",
    "                                       save_prefix= 'TR',\n",
    "                                       target_size= (960, 1280))\n",
    "\n",
    "    order_list = list(np.random.permutation(100)) # give an shuffled numpy permutation number list\n",
    "    \n",
    "    for j in range(files_idx1):\n",
    "        gen_data.next()"
   ]
  },
  {
   "cell_type": "markdown",
   "metadata": {},
   "source": [
    "# transformation 2"
   ]
  },
  {
   "cell_type": "code",
   "execution_count": null,
   "metadata": {},
   "outputs": [],
   "source": [
    "# TRANSFORMATION 2 (-10 degress)\n",
    "#(960, 1280, 3)\n",
    "\n",
    "for i in range(len(lst)):\n",
    "    files_idx1 = files_idx[i] # new **\n",
    "    datagen = image.ImageDataGenerator(        \n",
    "        rotation_range= -10,\n",
    "        width_shift_range=0.2,\n",
    "        height_shift_range=0.2,\n",
    "        shear_range=0.2,\n",
    "        zoom_range=0.2,\n",
    "        horizontal_flip= True,\n",
    "        fill_mode='nearest')\n",
    "\n",
    "    gen_data = datagen.flow_from_directory(os.path.join(trn_lst, lst[i]), \n",
    "                                       batch_size=1, \n",
    "                                       shuffle=False, \n",
    "                                       save_to_dir= os.path.join(gen_lst, lst[i]),\n",
    "                                       save_prefix= 'TR',\n",
    "                                       target_size= (960, 1280))\n",
    "\n",
    "    order_list = list(np.random.permutation(100)) # give an shuffled numpy permutation number list\n",
    "    \n",
    "    for j in range(files_idx1):\n",
    "        gen_data.next()"
   ]
  },
  {
   "cell_type": "markdown",
   "metadata": {},
   "source": [
    "# CODE TO REARRANGE (k)"
   ]
  },
  {
   "cell_type": "code",
   "execution_count": null,
   "metadata": {},
   "outputs": [],
   "source": [
    "#...."
   ]
  },
  {
   "cell_type": "markdown",
   "metadata": {},
   "source": [
    "# REFERENCES (not used)"
   ]
  },
  {
   "cell_type": "code",
   "execution_count": null,
   "metadata": {},
   "outputs": [],
   "source": [
    "# FOR REF\n",
    "'''root = '/Users/sa035g2/Documents/AI/IMAGES/in_photos/SahilX/SahilX'\n",
    "for i in range(2):\n",
    "    imageX = cv2.imread(os.path.join(root, (str(i) + '.jpg') ) )\n",
    "    #print(imageX.shape)\n",
    "    r = 1280.0*2 / imageX.shape[1]\n",
    "    dim = (1280*2, int(imageX.shape[0] * r))\n",
    "    resized = cv2.resize(imageX, dim, interpolation = cv2.INTER_AREA)\n",
    "    print(resized.shape)\n",
    "    cv2.imwrite(os.path.join(root, ('sz' + str(i)  + '.jpg') ) ,resized)\n",
    "    '''"
   ]
  },
  {
   "cell_type": "code",
   "execution_count": null,
   "metadata": {},
   "outputs": [],
   "source": [
    "# FOR REF\n",
    "root = '/Users/sa035g2/Documents/AI/IMAGES/in_photos'\n",
    "all_files = os.listdir(os.path.join(root, 'Sahil', 'Sahil'))\n",
    "all_files\n",
    "all_files = sorted(all_files)\n",
    "del all_files[0]\n",
    "all_files\n"
   ]
  },
  {
   "cell_type": "code",
   "execution_count": null,
   "metadata": {},
   "outputs": [],
   "source": []
  },
  {
   "cell_type": "code",
   "execution_count": null,
   "metadata": {},
   "outputs": [],
   "source": [
    "# CODE TO REVIEW FOLDER STRUCTURE -not used here\n",
    "'''len(os.listdir(os.path.join(trn_lst, lst[0], lst[0]) ) )\n",
    "path, dirs, files = next(os.walk('/Users/SA035G2/Documents/AI/IMAGES/in_photos/SahilX/SahilX'))\n",
    "file_count = len(dirs)\n",
    "file_count'''"
   ]
  },
  {
   "cell_type": "code",
   "execution_count": null,
   "metadata": {},
   "outputs": [],
   "source": [
    "# IMAGE RESIZING OPTION 1\n",
    "img = image.load_img(os.path.join(img_path, '2.png'), target_size= (150, 150))\n",
    "x = image.img_to_array(img)\n",
    "x = x.reshape( (1, ) + x.shape) # reshapes to (1,150,150, 3)"
   ]
  },
  {
   "cell_type": "code",
   "execution_count": null,
   "metadata": {},
   "outputs": [],
   "source": [
    "'''root = '/Users/sa035g2/Documents/AI/IMAGES/SahilX/'\n",
    "imageX = cv2.imread(os.path.join(root, '0.jpg') )\n",
    "print(imageX.shape)\n",
    "r = 1280.0 / imageX.shape[1]\n",
    "dim = (1280, int(imageX.shape[0] * r))\n",
    "resized = cv2.resize(imageX, dim, interpolation = cv2.INTER_AREA)\n",
    "cv2.imwrite(os.path.join(root, '5.jpg'),resized)\n",
    "'''"
   ]
  },
  {
   "cell_type": "code",
   "execution_count": null,
   "metadata": {},
   "outputs": [],
   "source": [
    "# not used\n",
    "'''for i in range(current_batch_size):\n",
    "    img = array_to_img(batch_x[i], self.dim_ordering, scale=True)\n",
    "    fname = '{index}'.format(index=current_index + i)\n",
    "    img.save(os.path.join(self.save_to_dir, fname))\n",
    "    '''"
   ]
  },
  {
   "cell_type": "code",
   "execution_count": null,
   "metadata": {},
   "outputs": [],
   "source": [
    "# not used\n",
    "int_list = [5,10,1]\n",
    "for index, value in enumerate(int_list):\n",
    "    for j in range(value):\n",
    "        print(j)"
   ]
  },
  {
   "cell_type": "code",
   "execution_count": null,
   "metadata": {},
   "outputs": [],
   "source": [
    "COUNTER = [5,10,1,1,1,1,1,1]\n",
    "idx=1\n",
    "COUNTER = COUNTER[idx]\n",
    "COUNTER"
   ]
  },
  {
   "cell_type": "code",
   "execution_count": null,
   "metadata": {},
   "outputs": [],
   "source": [
    "int_list = [8, 23, 45, 12, 78]\n",
    "for index, value in enumerate(int_list):\n",
    "   print(index, value)"
   ]
  },
  {
   "cell_type": "code",
   "execution_count": null,
   "metadata": {},
   "outputs": [],
   "source": [
    "for j in range(1):\n",
    "    print(j)"
   ]
  }
 ],
 "metadata": {
  "kernelspec": {
   "display_name": "Python 3",
   "language": "python",
   "name": "python3"
  },
  "language_info": {
   "codemirror_mode": {
    "name": "ipython",
    "version": 3
   },
   "file_extension": ".py",
   "mimetype": "text/x-python",
   "name": "python",
   "nbconvert_exporter": "python",
   "pygments_lexer": "ipython3",
   "version": "3.6.5"
  }
 },
 "nbformat": 4,
 "nbformat_minor": 2
}
