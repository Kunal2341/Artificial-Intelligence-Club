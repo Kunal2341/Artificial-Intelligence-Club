{
 "cells": [
  {
   "cell_type": "code",
   "execution_count": 55,
   "metadata": {},
   "outputs": [],
   "source": [
    "from keras.preprocessing import image\n",
    "import os\n",
    "import matplotlib.pyplot as plt\n",
    "from keras.preprocessing.image import ImageDataGenerator\n",
    "import sys\n",
    "import numpy as np"
   ]
  },
  {
   "cell_type": "code",
   "execution_count": 56,
   "metadata": {},
   "outputs": [],
   "source": [
    "dir = '/Users/NidhiAneja/Documents/AI/Justin/OpenCV-Python-Series-master/src/images/Test_img_Output/'\n",
    "number_img = 3"
   ]
  },
  {
   "cell_type": "code",
   "execution_count": 57,
   "metadata": {},
   "outputs": [],
   "source": [
    "if(os.path.exists(dir) == False):\n",
    "    os.mkdir(dir)"
   ]
  },
  {
   "cell_type": "code",
   "execution_count": 58,
   "metadata": {},
   "outputs": [
    {
     "name": "stdout",
     "output_type": "stream",
     "text": [
      "/Users/NidhiAneja/Documents/AI/Justin/OpenCV-Python-Series-master/src/images\n"
     ]
    }
   ],
   "source": [
    "os.chdir('/Users/NidhiAneja/Documents/AI/Justin/OpenCV-Python-Series-master/src/images/')\n",
    "ex_path = os.getcwd()\n",
    "print(ex_path)\n",
    "in_img = os.path.join(ex_path, 'Test_img')\n",
    "out_img = os.path.join(ex_path, 'Test_img_Output')"
   ]
  },
  {
   "cell_type": "code",
   "execution_count": 59,
   "metadata": {},
   "outputs": [],
   "source": [
    "if(os.path.exists(out_img) == False):\n",
    "    os.mkdir(out_img)"
   ]
  },
  {
   "cell_type": "code",
   "execution_count": 60,
   "metadata": {},
   "outputs": [
    {
     "data": {
      "text/plain": [
       "['Kunal', 'Nikolaj-coster-waldau', 'Peter-dinklage', 'Sahil']"
      ]
     },
     "execution_count": 60,
     "metadata": {},
     "output_type": "execute_result"
    }
   ],
   "source": [
    "thelist = os.listdir(os.path.join(ex_path, \"Test_img\"))\n",
    "thelist = sorted(thelist)\n",
    "del thelist[0]\n",
    "thelist"
   ]
  },
  {
   "cell_type": "code",
   "execution_count": 61,
   "metadata": {},
   "outputs": [],
   "source": [
    "os.chdir('/Users/NidhiAneja/Documents/AI/Justin/OpenCV-Python-Series-master/src/images/Test_img_Output/')\n",
    "for i in range(len(thelist)):\n",
    "    os.mkdir(thelist[i])\n",
    "os.chdir('/Users/NidhiAneja/Documents/AI/Justin/OpenCV-Python-Series-master/src/images/')"
   ]
  },
  {
   "cell_type": "code",
   "execution_count": 62,
   "metadata": {},
   "outputs": [],
   "source": [
    "datagen = ImageDataGenerator(rotation_range = 40,\n",
    "                            width_shift_range = 0.2,\n",
    "                            height_shift_range = 0.2,\n",
    "                            shear_range = 0.2,\n",
    "                            zoom_range = 0.2,\n",
    "                            horizontal_flip = True,\n",
    "                            fill_mode = 'nearest')"
   ]
  },
  {
   "cell_type": "code",
   "execution_count": 68,
   "metadata": {},
   "outputs": [
    {
     "name": "stdout",
     "output_type": "stream",
     "text": [
      "Found 18 images belonging to 1 classes.\n",
      "Found 4 images belonging to 1 classes.\n",
      "Found 6 images belonging to 1 classes.\n",
      "Found 12 images belonging to 1 classes.\n"
     ]
    }
   ],
   "source": [
    "for i in range(len(thelist)):\n",
    "    datagen = image.ImageDataGenerator()\n",
    "    gen_data = datagen.flow_from_directory(os.path.join(in_img, thelist[i]),\n",
    "                                           batch_size = 1, \n",
    "                                           shuffle = False,\n",
    "                                           save_to_dir= os.path.join(out_img, thelist[i]),\n",
    "                                           save_prefix = 'test',\n",
    "                                           target_size=(244,244))\n",
    "    order_list = list(np.random.permutation(100))\n",
    "    for j in range(number_img):\n",
    "        gen_data.next()\n",
    "                                            "
   ]
  },
  {
   "cell_type": "code",
   "execution_count": null,
   "metadata": {},
   "outputs": [],
   "source": []
  }
 ],
 "metadata": {
  "kernelspec": {
   "display_name": "Python 3",
   "language": "python",
   "name": "python3"
  },
  "language_info": {
   "codemirror_mode": {
    "name": "ipython",
    "version": 3
   },
   "file_extension": ".py",
   "mimetype": "text/x-python",
   "name": "python",
   "nbconvert_exporter": "python",
   "pygments_lexer": "ipython3",
   "version": "3.6.5"
  }
 },
 "nbformat": 4,
 "nbformat_minor": 2
}
