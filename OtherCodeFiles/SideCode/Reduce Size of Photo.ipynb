{
 "cells": [
  {
   "cell_type": "markdown",
   "metadata": {},
   "source": [
    "# Reduce Size of Photo"
   ]
  },
  {
   "cell_type": "code",
   "execution_count": null,
   "metadata": {},
   "outputs": [],
   "source": [
    "#Rewriting image down scaling in a single block"
   ]
  },
  {
   "cell_type": "code",
   "execution_count": null,
   "metadata": {},
   "outputs": [],
   "source": [
    "import cv2\n",
    "import os "
   ]
  },
  {
   "cell_type": "code",
   "execution_count": null,
   "metadata": {},
   "outputs": [],
   "source": [
    "#what is the image size --- TEST --- \n",
    "root = '/Users/NidhiAneja/Documents/AI/Cafeteria/OpenCV-Python-Series-master/src/images/Kunal/'\n",
    "imageX = cv2.imread(os.path.join(root, '37.jpg'))\n",
    "imageX.shape"
   ]
  },
  {
   "cell_type": "code",
   "execution_count": null,
   "metadata": {},
   "outputs": [],
   "source": [
    "#--- this will change image size to a lower resolution. you can change r numerator \n",
    "# from 1280 to a some higher value.\n",
    "# code will overwright the previous image file."
   ]
  },
  {
   "cell_type": "code",
   "execution_count": null,
   "metadata": {},
   "outputs": [],
   "source": [
    "# ---- REAL THING ------"
   ]
  },
  {
   "cell_type": "code",
   "execution_count": null,
   "metadata": {},
   "outputs": [],
   "source": [
    "root = '/Users/NidhiAneja/Documents/AI/Cafeteria/OpenCV-Python-Series-master/src/images/Sahil/'\n",
    "imageX = cv2.imread(os.path.join(root, '53.jpg'))\n",
    "r = 1280.0/ imageX.shape[1]\n",
    "dim = (1280, int(imageX.shape[0] * r))\n",
    "resized = cv2.resize(imageX, dim, interpolation = cv2.INTER_AREA)\n",
    "cv2.imwrite(os.path.join(root, '53.jpg'),resized)"
   ]
  },
  {
   "cell_type": "code",
   "execution_count": null,
   "metadata": {},
   "outputs": [],
   "source": []
  },
  {
   "cell_type": "code",
   "execution_count": null,
   "metadata": {},
   "outputs": [],
   "source": [
    "count = 0\n",
    "folder = '/Users/NidhiAneja/Documents/AI/Cafeteria/OpenCV-Python-Series-master/src/images_phone/Aneesh/'\n",
    "for pics in folder: \n",
    "    imageX = cv2.imread(os.path.join(root, count))\n",
    "    count += 1\n",
    "    r = 1280.0/ imageX.shape[1]\n",
    "    dim = (1280, int(imageX.shape[0] * r))\n",
    "    resized = cv2.resize(imageX, dim, interpolation = cv2.INTER_AREA)\n",
    "    cv2.imwrite(os.path.join(root, count),resized)"
   ]
  },
  {
   "cell_type": "code",
   "execution_count": null,
   "metadata": {},
   "outputs": [],
   "source": [
    "for files in all_files:\n",
    "        imageX = cv2.imread(os.path.join(root, 'in_photos', lst[i], lst[i], files ) )\n",
    "        #print(imageX.shape)\n",
    "        r = 1280.0*2 / imageX.shape[1]\n",
    "        dim = (1280*2, int(imageX.shape[0] * r))\n",
    "        resized = cv2.resize(imageX, dim, interpolation = cv2.INTER_AREA)\n",
    "        print(resized.shape)\n",
    "        cv2.imwrite(os.path.join(root, 'sz_photos',lst[i],lst[i], files) ,resized)"
   ]
  },
  {
   "cell_type": "code",
   "execution_count": null,
   "metadata": {},
   "outputs": [],
   "source": []
  },
  {
   "cell_type": "code",
   "execution_count": null,
   "metadata": {},
   "outputs": [],
   "source": [
    "#other... need to move"
   ]
  },
  {
   "cell_type": "code",
   "execution_count": null,
   "metadata": {},
   "outputs": [],
   "source": []
  }
 ],
 "metadata": {
  "kernelspec": {
   "display_name": "Python 3",
   "language": "python",
   "name": "python3"
  },
  "language_info": {
   "codemirror_mode": {
    "name": "ipython",
    "version": 3
   },
   "file_extension": ".py",
   "mimetype": "text/x-python",
   "name": "python",
   "nbconvert_exporter": "python",
   "pygments_lexer": "ipython3",
   "version": "3.6.5"
  }
 },
 "nbformat": 4,
 "nbformat_minor": 2
}
