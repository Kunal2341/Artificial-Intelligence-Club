{
 "cells": [
  {
   "cell_type": "code",
   "execution_count": 34,
   "metadata": {},
   "outputs": [],
   "source": [
    "import cv2\n",
    "import time\n",
    "import numpy as np\n",
    "import datetime\n",
    "import random\n",
    "import os\n",
    "random.seed()\n",
    "now = str(datetime.datetime.now())\n",
    "now = now[:10] +\"_\"+ str(round(random.random(),3) )"
   ]
  },
  {
   "cell_type": "code",
   "execution_count": 35,
   "metadata": {},
   "outputs": [],
   "source": [
    "base_dir ='/Users/NidhiAneja/Documents/AI/Cafeteria/OpenCV-Python-Series-master/src_final/Othertest'\n",
    "os.chdir(base_dir)"
   ]
  },
  {
   "cell_type": "code",
   "execution_count": 36,
   "metadata": {},
   "outputs": [],
   "source": [
    "student_name = 'CAFETERIA'+\"__\" + now\n",
    "#---\n",
    "if not os.path.exists(student_name):\n",
    "        os.makedirs(student_name)\n",
    "#---\n",
    "nm1 = str(student_name)\n",
    "nm3 = '.mp4'\n",
    "mp4_file = \"\".join((nm1, nm3))"
   ]
  },
  {
   "cell_type": "code",
   "execution_count": 37,
   "metadata": {},
   "outputs": [],
   "source": [
    "def set_res(cap, res='720p'):    \n",
    "    #width, height = STD_DIMENSIONS['480p']\n",
    "    width, height = STD_DIMENSIONS['720p']\n",
    "    if res in STD_DIMENSIONS:\n",
    "        width, height = STD_DIMENSIONS[res]\n",
    "    cap.set(3, width)\n",
    "    cap.set(4, height)\n",
    "    return width, height"
   ]
  },
  {
   "cell_type": "code",
   "execution_count": 38,
   "metadata": {},
   "outputs": [],
   "source": [
    "STD_DIMENSIONS = {\n",
    "    \"480p\": (640, 480),\n",
    "    \"720p\": (1280, 720),\n",
    "    \"1080p\": (1920, 1080),\n",
    "    \"4k\": (3840, 2160),\n",
    "}\n",
    "# Video encoding, see www.fourcc.org/codecs.php for more codecs\n",
    "VIDEO_TYPE = {\n",
    "    'avi': cv2.VideoWriter_fourcc(*'XVID'),\n",
    "    'mp4': cv2.VideoWriter_fourcc(*'XVID'),\n",
    "}\n",
    "my_res = '720p'"
   ]
  },
  {
   "cell_type": "code",
   "execution_count": 39,
   "metadata": {},
   "outputs": [],
   "source": [
    "def get_video_type(filename):\n",
    "    filename, ext = os.path.splitext(filename)\n",
    "    if ext in VIDEO_TYPE:\n",
    "        return VIDEO_TYPE[ext]\n",
    "    return VIDEO_TYPE['avi']"
   ]
  },
  {
   "cell_type": "code",
   "execution_count": null,
   "metadata": {},
   "outputs": [],
   "source": [
    "recording_length = 500\n",
    "frames_per_second = 10\n",
    "cap = cv2.VideoCapture(1)\n",
    "t0 = time.time()\n",
    "#---\n",
    "dims = set_res(cap, my_res)\n",
    "video_type_cv2 = get_video_type(mp4_file)\n",
    "#---\n",
    "mp4_out = cv2.VideoWriter(mp4_file, video_type_cv2, frames_per_second, dims)\n",
    "#---\n",
    "while True:\n",
    "    ret, frame = cap.read()\n",
    "    mp4_out.write(frame)\n",
    "    cv2.imshow('frame', frame)\n",
    "    if time.time() > (t0 + recording_length) or  cv2.waitKey(20) & 0xFF == ord('q'):\n",
    "        break\n",
    "# When everything done, release the capture\n",
    "cap.release()\n",
    "mp4_out.release()\n",
    "cv2.destroyAllWindows()\n"
   ]
  },
  {
   "cell_type": "code",
   "execution_count": null,
   "metadata": {},
   "outputs": [],
   "source": [
    "recording_length = 500\n",
    "frames_per_second = 10\n",
    "cap = cv2.VideoCapture(1)\n",
    "t0 = time.time()\n",
    "#---\n",
    "dims = set_res(cap, my_res)\n",
    "video_type_cv2 = get_video_type(mp4_file)\n",
    "#---\n",
    "mp4_out = cv2.VideoWriter(mp4_file, video_type_cv2, frames_per_second, dims)\n",
    "#---\n",
    "while True:\n",
    "    ret, frame = cap.read()\n",
    "    mp4_out.write(frame)\n",
    "    cv2.imshow('frame', frame)\n",
    "    if time.time() > (t0 + recording_length) or  cv2.waitKey(20) & 0xFF == ord('q'):\n",
    "        break\n",
    "# When everything done, release the capture\n",
    "cap.release()\n",
    "mp4_out.release()\n",
    "cv2.destroyAllWindows()\n"
   ]
  },
  {
   "cell_type": "code",
   "execution_count": null,
   "metadata": {},
   "outputs": [],
   "source": []
  },
  {
   "cell_type": "code",
   "execution_count": null,
   "metadata": {},
   "outputs": [],
   "source": []
  }
 ],
 "metadata": {
  "kernelspec": {
   "display_name": "Python 3",
   "language": "python",
   "name": "python3"
  },
  "language_info": {
   "codemirror_mode": {
    "name": "ipython",
    "version": 3
   },
   "file_extension": ".py",
   "mimetype": "text/x-python",
   "name": "python",
   "nbconvert_exporter": "python",
   "pygments_lexer": "ipython3",
   "version": "3.6.5"
  }
 },
 "nbformat": 4,
 "nbformat_minor": 2
}
