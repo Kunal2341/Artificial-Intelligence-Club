{
 "cells": [
  {
   "cell_type": "code",
   "execution_count": 1,
   "metadata": {},
   "outputs": [],
   "source": [
    "# FACES BASIC 1  FACES BASIC 1  FACES BASIC 1 \n",
    "# REGION OF INTEREST (roi)\n",
    "# REF VIDEO: https://www.codingforentrepreneurs.com/blog/opencv-python-face-recognition-and-identification"
   ]
  },
  {
   "cell_type": "code",
   "execution_count": 2,
   "metadata": {},
   "outputs": [
    {
     "name": "stderr",
     "output_type": "stream",
     "text": [
      "/anaconda3/lib/python3.6/site-packages/h5py/__init__.py:36: FutureWarning: Conversion of the second argument of issubdtype from `float` to `np.floating` is deprecated. In future, it will be treated as `np.float64 == np.dtype(float).type`.\n",
      "  from ._conv import register_converters as _register_converters\n",
      "Using TensorFlow backend.\n"
     ]
    }
   ],
   "source": [
    "# Import for Capture Photo from video \n",
    "import cv2\n",
    "import os\n",
    "import shutil\n",
    "# Import for Augumentation \n",
    "from keras.preprocessing import image\n",
    "from keras.preprocessing.image import ImageDataGenerator\n",
    "#import os\n",
    "import matplotlib.pyplot as plt\n",
    "# Import all necessary libaries\n",
    "#import os\n",
    "import numpy as np\n",
    "from PIL import Image\n",
    "#import cv2\n",
    "import pickle"
   ]
  },
  {
   "cell_type": "code",
   "execution_count": 3,
   "metadata": {},
   "outputs": [],
   "source": [
    "os.chdir('/Users/NidhiAneja/Documents/AI/Justin/OpenCV-Python-Series-master/src') \n",
    "BASE_DIR = '/Users/NidhiAneja/Documents/AI/Justin/OpenCV-Python-Series-master/src'\n",
    "base_dir_images = '/Users/NidhiAneja/Documents/AI/Justin/OpenCV-Python-Series-master/src/images/'\n"
   ]
  },
  {
   "cell_type": "code",
   "execution_count": 4,
   "metadata": {},
   "outputs": [],
   "source": [
    "# Model already built for faces -- CASCADE\n",
    "face_cascade = cv2.CascadeClassifier('cascades/data/haarcascade_frontalface_alt2.xml')"
   ]
  },
  {
   "cell_type": "code",
   "execution_count": 5,
   "metadata": {},
   "outputs": [],
   "source": [
    "# Into the folder of images\n",
    "image_dir = os.path.join(BASE_DIR, \"images\")"
   ]
  },
  {
   "cell_type": "code",
   "execution_count": 6,
   "metadata": {},
   "outputs": [],
   "source": [
    "#--------------------------\n",
    "#Why does it alawys show directory of \".DS_Store\"\n",
    "#--------------------------\n",
    "if not os.path.exists('Kunal'):\n",
    "    os.makedirs('Kunal')\n",
    "    \n",
    "#os.listdir()"
   ]
  },
  {
   "cell_type": "code",
   "execution_count": 7,
   "metadata": {},
   "outputs": [],
   "source": [
    "# these images are name of individual and than photos are numbered 1,2,3...."
   ]
  },
  {
   "cell_type": "code",
   "execution_count": 8,
   "metadata": {},
   "outputs": [],
   "source": [
    "\n",
    "#---\n",
    "BASE_DIR = os.path.dirname(os.path.abspath('src'))\n",
    "# BASE_DIR\n",
    "#---\n",
    "face_cascade = cv2.CascadeClassifier('cascades/data/haarcascade_frontalface_alt2.xml')\n",
    "#---\n",
    "y_labels= []\n",
    "x_train = []"
   ]
  },
  {
   "cell_type": "code",
   "execution_count": 9,
   "metadata": {},
   "outputs": [],
   "source": [
    "# CREATE DICTIONARY\n",
    "current_id=0\n",
    "label_ids= {}"
   ]
  },
  {
   "cell_type": "code",
   "execution_count": 10,
   "metadata": {},
   "outputs": [],
   "source": [
    "# TRAIN THE RECOGINIZER....PART 3\n",
    "# recognizer = cv2.face.LBPHFaceRecognizer"
   ]
  },
  {
   "cell_type": "code",
   "execution_count": 11,
   "metadata": {},
   "outputs": [],
   "source": [
    "for root, dirs, files in os.walk(image_dir):\n",
    "    for file in files:\n",
    "        if file.endswith('png') or file.endswith('jpg'):\n",
    "            path = os.path.join(root, file)\n",
    "            label = os.path.basename(root).replace(\" \",\"-\").lower()\n",
    "            #print(label,path)\n",
    "            #----\n",
    "            if label in label_ids:\n",
    "                pass\n",
    "            else:\n",
    "                label_ids[label] = current_id\n",
    "                current_id += 1\n",
    "                \n",
    "            id_ = label_ids[label]\n",
    "            #print(label_ids)\n",
    "                #----\n",
    "            #y_labels.append(label) # some number\n",
    "            #x_train.append(path) # verify this image, turn into a NUMPY array, GARY\n",
    "            # PIL is a image library\n",
    "            pil_image = Image.open(path).convert(\"L\") # grayscale\n",
    "            #---\n",
    "            # RESIZE IMAGES IN TRAINING.....\n",
    "            size = (550, 550)\n",
    "            final_image = pil_image.resize(size, Image.ANTIALIAS)\n",
    "            #---\n",
    "            #image_array = np.array(pil_image, \"uint8\")\n",
    "            image_array = np.array(final_image, \"uint8\")\n",
    "            #print(image_array)\n",
    "            # following gives region of interest i.e. faces...\n",
    "            faces = face_cascade.detectMultiScale(image_array, scaleFactor=1.5, minNeighbors=5)\n",
    "            \n",
    "            for (x,y,w,h) in faces:\n",
    "                roi = image_array[y:y+h, x:x+w]\n",
    "                x_train.append(roi)\n",
    "                y_labels.append(id_)\n",
    "                \n",
    "#print(y_labels)\n",
    "#print(x_train)\n",
    "\n",
    "with open(\"labels.pickle\", 'wb') as f:\n",
    "    pickle.dump(label_ids, f)\n",
    "    "
   ]
  },
  {
   "cell_type": "code",
   "execution_count": 12,
   "metadata": {},
   "outputs": [],
   "source": [
    "# TRAIN THE RECOGINIZER....PART 3\n",
    "# recognizer = cv2.face.LBPHFaceRecognizer\n",
    "recognizer = cv2.face.LBPHFaceRecognizer_create()\n",
    "#----\n",
    "#ACTUALLY TRAINING DONE HERE>...\n",
    "recognizer.train(x_train, np.array(y_labels))\n",
    "recognizer.save(\"trainner.yml\") # this is how you save it\n",
    "#----\n",
    "recognizer.read(\"trainner.yml\") # READ THIS which was trained earlier...\n",
    "#----\n",
    "labels = {}\n",
    "with open(\"labels.pickle\", 'rb') as f: # ADD PICKLE TO NAME THE PERSON IN PREDICTION...\n",
    "    og_labels = pickle.load(f)\n",
    "    labels = {v:k for k,v in og_labels.items()}    \n",
    "#----\n"
   ]
  },
  {
   "cell_type": "code",
   "execution_count": 13,
   "metadata": {},
   "outputs": [
    {
     "name": "stdout",
     "output_type": "stream",
     "text": [
      "/Users/NidhiAneja/Documents/AI/Justin/OpenCV-Python-Series-master/src/images/kunal\r\n"
     ]
    }
   ],
   "source": [
    "os.chdir(os.path.join(base_dir_images, 'Kunal'))\n",
    "!pwd"
   ]
  },
  {
   "cell_type": "code",
   "execution_count": 14,
   "metadata": {},
   "outputs": [
    {
     "data": {
      "text/plain": [
       "'\\nsmile = smile_cascade.detectMultiScale(roi_gray)\\nfor (sx, sy, ew, eh) in eyes:\\n    cv2.rectangle(roi_color, (ex,ey), (ex + ew, ey + eh), (0,255,255),2)\\n    \\n'"
      ]
     },
     "execution_count": 14,
     "metadata": {},
     "output_type": "execute_result"
    }
   ],
   "source": [
    "#========================\n",
    "# EYES AND SMILE......\n",
    "#========================\n",
    "# EYE\n",
    "eye_cascade = cv2.CascadeClassifier('cascades/data/haarcascade_eye.xml')\n",
    "# add the following to ready to predict code..\n",
    "'''\n",
    "eyes = eye_cascade.detectMultiScale(roi_gray)\n",
    "for (ex, ey, ew, eh) in eyes:\n",
    "    cv2.rectangle(roi_color, (ex,ey), (ex + ew, ey + eh), (0,255,0),2)\n",
    "'''\n",
    "# SMILE\n",
    "smile_cascade = cv2.CascadeClassifier('cascades/data/haarcascade_smile.xml')\n",
    "'''\n",
    "smile = smile_cascade.detectMultiScale(roi_gray)\n",
    "for (sx, sy, ew, eh) in eyes:\n",
    "    cv2.rectangle(roi_color, (ex,ey), (ex + ew, ey + eh), (0,255,255),2)\n",
    "    \n",
    "'''\n"
   ]
  },
  {
   "cell_type": "code",
   "execution_count": 15,
   "metadata": {},
   "outputs": [
    {
     "name": "stdout",
     "output_type": "stream",
     "text": [
      "kunal\n",
      "1\n",
      "kunal\n",
      "kunal\n",
      "kunal\n",
      "kunal\n",
      "kunal\n",
      "kunal\n",
      "kunal\n",
      "kunal\n",
      "kunal\n",
      "kunal\n",
      "kunal\n",
      "kunal\n",
      "kunal\n",
      "kunal\n",
      "kunal\n",
      "kunal\n",
      "kunal\n",
      "kunal\n",
      "kunal\n",
      "kunal\n",
      "kunal\n",
      "kunal\n",
      "kunal\n",
      "kunal\n",
      "kunal\n",
      "kunal\n",
      "kunal\n"
     ]
    },
    {
     "ename": "KeyboardInterrupt",
     "evalue": "",
     "output_type": "error",
     "traceback": [
      "\u001b[0;31m---------------------------------------------------------------------------\u001b[0m",
      "\u001b[0;31mKeyboardInterrupt\u001b[0m                         Traceback (most recent call last)",
      "\u001b[0;32m<ipython-input-15-0c2a18ea6ce4>\u001b[0m in \u001b[0;36m<module>\u001b[0;34m()\u001b[0m\n\u001b[1;32m     11\u001b[0m     \u001b[0mcv2\u001b[0m\u001b[0;34m.\u001b[0m\u001b[0mimshow\u001b[0m\u001b[0;34m(\u001b[0m\u001b[0;34m\"Who are you?\"\u001b[0m\u001b[0;34m,\u001b[0m \u001b[0mframe\u001b[0m\u001b[0;34m)\u001b[0m\u001b[0;34m\u001b[0m\u001b[0m\n\u001b[1;32m     12\u001b[0m     \u001b[0mgray\u001b[0m  \u001b[0;34m=\u001b[0m \u001b[0mcv2\u001b[0m\u001b[0;34m.\u001b[0m\u001b[0mcvtColor\u001b[0m\u001b[0;34m(\u001b[0m\u001b[0mframe\u001b[0m\u001b[0;34m,\u001b[0m \u001b[0mcv2\u001b[0m\u001b[0;34m.\u001b[0m\u001b[0mCOLOR_BGR2GRAY\u001b[0m\u001b[0;34m)\u001b[0m\u001b[0;34m\u001b[0m\u001b[0m\n\u001b[0;32m---> 13\u001b[0;31m     \u001b[0mfaces\u001b[0m \u001b[0;34m=\u001b[0m \u001b[0mface_cascade\u001b[0m\u001b[0;34m.\u001b[0m\u001b[0mdetectMultiScale\u001b[0m\u001b[0;34m(\u001b[0m\u001b[0mgray\u001b[0m\u001b[0;34m,\u001b[0m \u001b[0mscaleFactor\u001b[0m\u001b[0;34m=\u001b[0m\u001b[0;36m1.5\u001b[0m\u001b[0;34m,\u001b[0m \u001b[0mminNeighbors\u001b[0m\u001b[0;34m=\u001b[0m\u001b[0;36m5\u001b[0m\u001b[0;34m)\u001b[0m\u001b[0;34m\u001b[0m\u001b[0m\n\u001b[0m\u001b[1;32m     14\u001b[0m     \u001b[0;32mfor\u001b[0m \u001b[0;34m(\u001b[0m\u001b[0mx\u001b[0m\u001b[0;34m,\u001b[0m \u001b[0my\u001b[0m\u001b[0;34m,\u001b[0m \u001b[0mw\u001b[0m\u001b[0;34m,\u001b[0m \u001b[0mh\u001b[0m\u001b[0;34m)\u001b[0m \u001b[0;32min\u001b[0m \u001b[0mfaces\u001b[0m\u001b[0;34m:\u001b[0m\u001b[0;34m\u001b[0m\u001b[0m\n\u001b[1;32m     15\u001b[0m         \u001b[0;31m#print(x,y,w,h)\u001b[0m\u001b[0;34m\u001b[0m\u001b[0;34m\u001b[0m\u001b[0m\n",
      "\u001b[0;31mKeyboardInterrupt\u001b[0m: "
     ]
    }
   ],
   "source": [
    "# ready to predict....\n",
    "\n",
    "cap = cv2.VideoCapture(0)\n",
    "cv2.namedWindow(\"Who are you?\")\n",
    "img_counter = 0\n",
    "j=0\n",
    "while(True):\n",
    "    \n",
    "    # Capture frame-by-frame\n",
    "    ret, frame = cap.read()\n",
    "    cv2.imshow(\"Who are you?\", frame)\n",
    "    gray  = cv2.cvtColor(frame, cv2.COLOR_BGR2GRAY)\n",
    "    faces = face_cascade.detectMultiScale(gray, scaleFactor=1.5, minNeighbors=5)\n",
    "    for (x, y, w, h) in faces:\n",
    "        #print(x,y,w,h)\n",
    "        roi_gray = gray[y:y+h, x:x+w]\n",
    "        #print (roi_gray)\n",
    "        # ADD A FRAME TO THE FACE CAPTURE\n",
    "        roi_color = frame[y:y+h, x:x+w]        \n",
    "        # recognize?\n",
    "        id_, conf = recognizer.predict(roi_gray) # give label id and confidence\n",
    "        if conf >= 95:\n",
    "            print(id_)\n",
    "            print(labels[id_])\n",
    "            font = cv2.FONT_HERSHEY_SIMPLEX\n",
    "            name = labels[id_]\n",
    "            color = (255,255,255)\n",
    "            stroke = 2\n",
    "            cv2.putText(frame, name, (x,y), font,1, color, stroke, cv2.LINE_AA)\n",
    "        #print(id_)\n",
    "        print(labels[id_])\n",
    "        font = cv2.FONT_HERSHEY_SIMPLEX\n",
    "        name = labels[id_]\n",
    "        color = (255,255,255)\n",
    "        stroke = 2\n",
    "        cv2.putText(frame, name, (x,y), font,1, color, stroke, cv2.LINE_AA)\n",
    "        #-------------------------------------------------------\n",
    "         \n",
    "        '''COMPLETE_TEST_DIR = os.path.join(base_dir_images, labels[id_])\n",
    "        #print(COMPLETE_TEST_DIR)\n",
    "        for the_pics in os.listdir(COMPLETE_TEST_DIR):\n",
    "            img_counter += 1\n",
    "        #labels[id_]\n",
    "        '''\n",
    "        #-------------------------------------------------------\n",
    "        '''while labels[id_] == labels[id_]:\n",
    "            if labels\n",
    "            j += 1\n",
    "            print(j)'''\n",
    "        if labels[id_] == 'kunal':\n",
    "            j += 1\n",
    "            if labels[id_] != 'kunal':\n",
    "                j = 0\n",
    "                \n",
    "        \n",
    "        \n",
    "        #-------------------------------------------------------\n",
    "        img_item = \"my-image_TEST5.png\"\n",
    "        #cv2.imwrite(img_item, roi_gray)\n",
    "        cv2.imwrite(img_item, roi_color)\n",
    "        \n",
    "        color = (255,0,0) # BGR 0-255\n",
    "        stroke = 2\n",
    "        end_cord_x = x + w\n",
    "        end_cord_y = y + h\n",
    "        cv2.rectangle(frame, (x,y), (end_cord_x, end_cord_y), color, stroke)\n",
    "        '''\n",
    "        #---- eyes\n",
    "        eyes = eye_cascade.detectMultiScale(roi_gray)\n",
    "        for (ex, ey, ew, eh) in eyes:\n",
    "            cv2.rectangle(roi_color, (ex,ey), (ex + ew, ey + eh), (0,255,0),2)\n",
    "        #----\n",
    "        #---- smile\n",
    "        smile = smile_cascade.detectMultiScale(roi_gray)\n",
    "        for (sx, sy, sw, sh) in smile:\n",
    "            cv2.rectangle(roi_color, (sx,sy), (sx + sw, sy + sh), (244, 203, 156),1)\n",
    "        #print (smile)\n",
    "        #print (smile.shape)\n",
    "        # print (\"Number of smiles detected: \" + str(smile.shape[0]))\n",
    "        #if smile.shape[0] > 3:\n",
    "        #    print(\"5\")\n",
    "        #----\n",
    "        '''\n",
    "    #------------------------------------------------------\n",
    "        \n",
    "        \n",
    "        k = cv2.waitKey(1)\n",
    "        if k%256 == 32:\n",
    "            # SPACE pressed\n",
    "            #img_name = \"opencv_frame_{}.png\".format(img_counter)\n",
    "            img_name = \"{}.png\".format(img_counter)\n",
    "            cv2.imwrite(img_name, frame)\n",
    "            print(\"{} written!\".format(img_name))\n",
    "            img_counter += 1\n",
    "        # Display the resulting frame \n",
    "        #cv2.imshow('frame', frame)\n",
    "        if cv2.waitKey(2) & 0xFF == ord('q'):\n",
    "            break\n",
    "        test = cap.get(cv2.CAP_PROP_FPS)\n",
    "        test\n",
    "        #just shows the frames at 12?\n",
    "        #why?????????\n",
    "        \n",
    "        \n",
    "        \n",
    "        '''\n",
    "        if not ret:\n",
    "            break\n",
    "        k = cv2.waitKey(1)\n",
    "        if k%256 == 27:\n",
    "            # ESC pressed\n",
    "            print(\"Escape hit, closing...\")\n",
    "            break\n",
    "        elif k%256 == 32:\n",
    "            # SPACE pressed\n",
    "            #img_name = \"opencv_frame_{}.png\".format(img_counter)\n",
    "            img_name = \"{}.png\".format(img_counter)\n",
    "            cv2.imwrite(img_name, frame)\n",
    "            print(\"{} written!\".format(img_name))\n",
    "            img_counter += 1\n",
    "        # Display the resulting frame \n",
    "        cv2.imshow('frame', frame)\n",
    "        if cv2.waitKey(2) & 0xFF == ord('q'):\n",
    "            break\n",
    "        test = cap.get(cv2.CAP_PROP_FPS)\n",
    "        test\n",
    "        '''\n",
    "        "
   ]
  },
  {
   "cell_type": "code",
   "execution_count": null,
   "metadata": {},
   "outputs": [],
   "source": []
  },
  {
   "cell_type": "code",
   "execution_count": null,
   "metadata": {},
   "outputs": [],
   "source": []
  },
  {
   "cell_type": "code",
   "execution_count": 16,
   "metadata": {},
   "outputs": [],
   "source": [
    "cap.release()\n",
    "cv2.destroyAllWindows()\n",
    "\n"
   ]
  },
  {
   "cell_type": "code",
   "execution_count": null,
   "metadata": {},
   "outputs": [],
   "source": []
  },
  {
   "cell_type": "code",
   "execution_count": null,
   "metadata": {},
   "outputs": [],
   "source": []
  },
  {
   "cell_type": "code",
   "execution_count": null,
   "metadata": {},
   "outputs": [],
   "source": []
  },
  {
   "cell_type": "code",
   "execution_count": null,
   "metadata": {},
   "outputs": [],
   "source": []
  },
  {
   "cell_type": "code",
   "execution_count": null,
   "metadata": {},
   "outputs": [],
   "source": []
  },
  {
   "cell_type": "code",
   "execution_count": null,
   "metadata": {},
   "outputs": [],
   "source": []
  },
  {
   "cell_type": "code",
   "execution_count": null,
   "metadata": {},
   "outputs": [],
   "source": []
  }
 ],
 "metadata": {
  "kernelspec": {
   "display_name": "Python 3",
   "language": "python",
   "name": "python3"
  },
  "language_info": {
   "codemirror_mode": {
    "name": "ipython",
    "version": 3
   },
   "file_extension": ".py",
   "mimetype": "text/x-python",
   "name": "python",
   "nbconvert_exporter": "python",
   "pygments_lexer": "ipython3",
   "version": "3.6.5"
  }
 },
 "nbformat": 4,
 "nbformat_minor": 2
}
