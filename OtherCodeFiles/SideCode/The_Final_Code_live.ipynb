{
 "cells": [
  {
   "cell_type": "markdown",
   "metadata": {},
   "source": [
    "# Import all files"
   ]
  },
  {
   "cell_type": "code",
   "execution_count": 1,
   "metadata": {},
   "outputs": [
    {
     "name": "stderr",
     "output_type": "stream",
     "text": [
      "/anaconda3/lib/python3.6/site-packages/h5py/__init__.py:36: FutureWarning: Conversion of the second argument of issubdtype from `float` to `np.floating` is deprecated. In future, it will be treated as `np.float64 == np.dtype(float).type`.\n",
      "  from ._conv import register_converters as _register_converters\n",
      "Using TensorFlow backend.\n"
     ]
    }
   ],
   "source": [
    "import cv2 \n",
    "import numpy as np\n",
    "import time\n",
    "import os\n",
    "import shutil\n",
    "import psutil\n",
    "from PIL import Image\n",
    "import pickle\n",
    "import pandas as pd\n",
    "import datetime\n",
    "import random\n",
    "os.chdir('/Users/NidhiAneja/Documents/AI/Cafeteria/OpenCV-Python-Series-master/src_final/')\n",
    "from utils import CFEVideoConf, image_resize\n",
    "import glob\n",
    "from imageai.Prediction import ImagePrediction\n",
    "from imageai.Detection import ObjectDetection\n",
    "from imageai.Prediction.Custom import ModelTraining\n",
    "from imageai.Prediction.Custom import CustomImagePrediction\n",
    "import matplotlib.pyplot as plt"
   ]
  },
  {
   "cell_type": "code",
   "execution_count": 2,
   "metadata": {},
   "outputs": [],
   "source": [
    "os.chdir('/Users/NidhiAneja/Documents/AI/Cafeteria/OpenCV-Python-Series-master/src_final/video-image/in')\n",
    "base_dir = '/Users/NidhiAneja/Documents/AI/Cafeteria/OpenCV-Python-Series-master/src_final/video-image/in'"
   ]
  },
  {
   "cell_type": "markdown",
   "metadata": {},
   "source": [
    "# Record video and save vid - saves in both mp4 and avi"
   ]
  },
  {
   "cell_type": "code",
   "execution_count": 4,
   "metadata": {},
   "outputs": [
    {
     "name": "stdout",
     "output_type": "stream",
     "text": [
      "test2\n",
      "/Users/NidhiAneja/Documents/AI/Cafeteria/OpenCV-Python-Series-master/src_final/video-image/in/test2/test2.mp4\n",
      "/Users/NidhiAneja/Documents/AI/Cafeteria/OpenCV-Python-Series-master/src_final/video-image/in/test2/test2.avi\n"
     ]
    }
   ],
   "source": [
    "student_name = input()\n",
    "if not os.path.exists(os.path.join(base_dir, student_name)):\n",
    "    os.makedirs(os.path.join(base_dir, student_name))\n",
    "\n",
    "nm1 = str(student_name)\n",
    "nm2 = '.avi'\n",
    "nm3 = '.mp4'\n",
    "avi_file = ''.join((nm1, nm2))\n",
    "mp4_file = ''.join((nm1, nm3))\n",
    "\n",
    "#Go to the student folder \n",
    "os.chdir(os.path.join(base_dir, nm1))\n",
    "\n",
    "frames_per_sec = 24.0\n",
    "resolution = '720p'\n",
    "\n",
    "STD_DIMENSIONS = {\n",
    "    '420p':(640, 480),\n",
    "    '720p':(1280, 720),\n",
    "    '1080p':(1920, 1080),\n",
    "    '4k':(3840, 2160),\n",
    "}\n",
    "VIDEO_TYPE = {\n",
    "    '.avi': cv2.VideoWriter_fourcc(*'XVID'),\n",
    "    '.mp4' : cv2.VideoWriter_fourcc (*'XVID'),\n",
    "}\n",
    "def get_video_type (file_path):\n",
    "    filepath, x = os.path.splitext(file_path)\n",
    "    if x in VIDEO_TYPE:\n",
    "        return VIDEO_TYPE[x]\n",
    "def set_res(cap, res='720p'):\n",
    "    width, height = STD_DIMENSIONS['720p']\n",
    "    if res in STD_DIMENSIONS:\n",
    "        width, height = STD_DIMENSIONS[res]\n",
    "    cap.set(3, width)\n",
    "    cap.set(4, height)\n",
    "    return width, height\n",
    "cap = cv2.VideoCapture(0)\n",
    "dims = set_res(cap, resolution)\n",
    "video_type_cv2 = get_video_type (avi_file)\n",
    "\n",
    "recording_length = 10\n",
    "t0 = time.time()\n",
    "avi_out = cv2.VideoWriter(avi_file, video_type_cv2, frames_per_sec, dims)\n",
    "mp4_out = cv2.VideoWriter(mp4_file, video_type_cv2, frames_per_sec, dims)\n",
    "\n",
    "\n",
    "while True:\n",
    "    ret, frame = cap.read()\n",
    "    mp4_out.write(frame)\n",
    "    cv2.imshow('frame', frame)\n",
    "    cv2.moveWindow('frame', 50,40)\n",
    "    if cv2.waitKey(20) & 0xFF == ord('q') or time.time() > (t0 + recording_length):\n",
    "        break\n",
    "        \n",
    "cap.release()\n",
    "avi_out.release()\n",
    "mp4_out.release()\n",
    "cv2.destroyAllWindows()\n",
    "os.chdir(os.path.join(base_dir, student_name))\n",
    "final_vid = os.path.join(base_dir, student_name , mp4_file)\n",
    "final_vid2 = os.path.join(base_dir, student_name , avi_file)\n",
    "print(final_vid)\n",
    "print(final_vid2)"
   ]
  },
  {
   "cell_type": "markdown",
   "metadata": {},
   "source": [
    "# Extracts every x frame function"
   ]
  },
  {
   "cell_type": "markdown",
   "metadata": {},
   "source": [
    "# Assign it to interger to make it go in order \n",
    "#img_last= cv2.imread('frame{}.png'.format(count-1))\n",
    "#\n",
    "img_last= cv2.imread('{}.png'.format(count-1))"
   ]
  },
  {
   "cell_type": "code",
   "execution_count": 5,
   "metadata": {},
   "outputs": [],
   "source": [
    "fps = 2000 # 1 sec"
   ]
  },
  {
   "cell_type": "code",
   "execution_count": 6,
   "metadata": {},
   "outputs": [
    {
     "data": {
      "text/plain": [
       "\"    for each_pic in os.listdir(folder):\\n        pic = os.path.join(folder, each_pic)\\n        #print(pic)\\n        gg = os.path.getsize(pic) > 0\\n        print(gg)\\n        if gg == False:\\n            os.remove(pic)\\n            print('Deleted ' + pic + '!')\""
      ]
     },
     "execution_count": 6,
     "metadata": {},
     "output_type": "execute_result"
    }
   ],
   "source": [
    "def extract_image_fps(video_source):\n",
    "    vidcap = cv2.VideoCapture(video_source)\n",
    "    count = 0\n",
    "    success = True\n",
    "    while success:\n",
    "        vidcap.set(cv2.CAP_PROP_POS_MSEC, (count*fps))\n",
    "        success, image = vidcap.read()\n",
    "        img_last= cv2.imread('frame{}.png'.format(count-1))\n",
    "        if np.array_equal(image, img_last):\n",
    "            break\n",
    "        cv2.imwrite(\"frame%d.png\" % count, image)\n",
    "        print('{}.sec reading a new frame:{}'.format(count, success))\n",
    "        count += 1\n",
    "    folder = os.path.dirname(video_source)\n",
    "    print (folder)\n",
    "'''    for each_pic in os.listdir(folder):\n",
    "        pic = os.path.join(folder, each_pic)\n",
    "        #print(pic)\n",
    "        gg = os.path.getsize(pic) > 0\n",
    "        print(gg)\n",
    "        if gg == False:\n",
    "            os.remove(pic)\n",
    "            print('Deleted ' + pic + '!')'''"
   ]
  },
  {
   "cell_type": "markdown",
   "metadata": {},
   "source": [
    "# Extract frames from recorded video - web camera"
   ]
  },
  {
   "cell_type": "code",
   "execution_count": 7,
   "metadata": {},
   "outputs": [
    {
     "name": "stdout",
     "output_type": "stream",
     "text": [
      "/Users/NidhiAneja/Documents/AI/Cafeteria/OpenCV-Python-Series-master/src_final/video-image/in/test2/test2.mp4\n"
     ]
    }
   ],
   "source": [
    "print(final_vid)"
   ]
  },
  {
   "cell_type": "code",
   "execution_count": 8,
   "metadata": {},
   "outputs": [
    {
     "name": "stdout",
     "output_type": "stream",
     "text": [
      "/Users/NidhiAneja/Documents/AI/Cafeteria/OpenCV-Python-Series-master/src_final/video-image/in/test2\n",
      "Video SIZE:  173 frames\n",
      "Thanks\n"
     ]
    }
   ],
   "source": [
    "os.chdir(os.path.join(base_dir, student_name))\n",
    "extract_image_fps(final_vid2)\n",
    "cap = cv2.VideoCapture(final_vid)\n",
    "video_length = int(cap.get(cv2.CAP_PROP_FRAME_COUNT)) - 1\n",
    "try: \n",
    "    video_length > 96\n",
    "    print('Video SIZE: ', video_length, 'frames')\n",
    "except ValueError:\n",
    "    print('Invalid video')\n",
    "else:\n",
    "    print('Thanks')"
   ]
  },
  {
   "cell_type": "markdown",
   "metadata": {},
   "source": [
    "# Extract frames from previous recorded video (already saved)"
   ]
  },
  {
   "cell_type": "code",
   "execution_count": 9,
   "metadata": {},
   "outputs": [
    {
     "name": "stdout",
     "output_type": "stream",
     "text": [
      "What is the name of your folder with the video in it which is in this dir:\n",
      "/Users/NidhiAneja/Documents/AI/Cafeteria/OpenCV-Python-Series-master/src_final/video-image/in\n",
      "Make sure name of the video is same as the name of the folder\n",
      "test2\n",
      "Correct video\n",
      "/Users/NidhiAneja/Documents/AI/Cafeteria/OpenCV-Python-Series-master/src_final/video-image/in/test2/test2.avi\n"
     ]
    }
   ],
   "source": [
    "print('What is the name of your folder with the video in it which is in this dir:')\n",
    "print(base_dir)\n",
    "print('Make sure name of the video is same as the name of the folder')\n",
    "while True:\n",
    "    student_name = input()\n",
    "    x = os.path.join(base_dir, student_name, student_name + '.avi')\n",
    "    if os.path.exists(x):\n",
    "        print('Correct video')\n",
    "        print(x)\n",
    "        break\n",
    "    elif (x == \"\"):\n",
    "        print(\"Please try again\")\n",
    "    else:\n",
    "        print('Please try again')\n",
    "        "
   ]
  },
  {
   "cell_type": "code",
   "execution_count": 10,
   "metadata": {},
   "outputs": [],
   "source": [
    "x = os.listdir(os.path.join(base_dir, student_name))\n",
    "match = [s for s in x if student_name in s]\n",
    "filename, V_format = os.path.splitext(match[0])"
   ]
  },
  {
   "cell_type": "code",
   "execution_count": 11,
   "metadata": {},
   "outputs": [
    {
     "data": {
      "text/plain": [
       "-1"
      ]
     },
     "execution_count": 11,
     "metadata": {},
     "output_type": "execute_result"
    }
   ],
   "source": [
    "cap = cv2.VideoCapture(os.path.join(base_dir, student_name, student_name + V_format))\n",
    "video_length = int(cap.get(cv2.CAP_PROP_FRAME_COUNT)) - 1\n",
    "video_length"
   ]
  },
  {
   "cell_type": "code",
   "execution_count": null,
   "metadata": {},
   "outputs": [],
   "source": [
    "os.chdir(os.path.join(base_dir, student_name))\n",
    "extract_image_fps(student_name + V_format)"
   ]
  },
  {
   "cell_type": "raw",
   "metadata": {},
   "source": [
    "# video_length = int(cap.get(cv2.CAP_PROP_FRAME_COUNT)) - 1\n",
    "try: \n",
    "    video_length > 96\n",
    "    print('Video SIZE: ', video_length, 'frames')\n",
    "except ValueError:\n",
    "    print('Invalid video')\n",
    "else:\n",
    "    print('Thanks')"
   ]
  },
  {
   "cell_type": "markdown",
   "metadata": {},
   "source": [
    "# Face model"
   ]
  },
  {
   "cell_type": "code",
   "execution_count": null,
   "metadata": {},
   "outputs": [],
   "source": [
    "os.chdir('/Users/NidhiAneja/Documents/AI/Cafeteria/OpenCV-Python-Series-master/src_final')"
   ]
  },
  {
   "cell_type": "code",
   "execution_count": null,
   "metadata": {},
   "outputs": [],
   "source": [
    "face_cascade = cv2.CascadeClassifier('cascades/data/haarcascade_frontalface_alt2.xml')\n",
    "recognizer = cv2.face.LBPHFaceRecognizer_create()\n",
    "recognizer_file = '/Users/NidhiAneja/Documents/AI/Cafeteria/OpenCV-Python-Series-master/src_final/trainner.yml'\n",
    "labels_file = '/Users/NidhiAneja/Documents/AI/Cafeteria/OpenCV-Python-Series-master/src_final/pickles/labels.pickle'\n",
    "recognizer.read(recognizer_file)\n",
    "labels = {}\n",
    "with open('/Users/NidhiAneja/Documents/AI/Cafeteria/OpenCV-Python-Series-master/src_final/pickles/labels.pickle', 'rb') as f:\n",
    "    og_labels = pickle.load(f)\n",
    "    labels = {v:k for k,v in og_labels.items()}"
   ]
  },
  {
   "cell_type": "code",
   "execution_count": null,
   "metadata": {},
   "outputs": [],
   "source": [
    "print(og_labels)"
   ]
  },
  {
   "cell_type": "code",
   "execution_count": null,
   "metadata": {},
   "outputs": [],
   "source": [
    "os.chdir(os.path.join(base_dir, student_name))"
   ]
  },
  {
   "cell_type": "code",
   "execution_count": null,
   "metadata": {},
   "outputs": [],
   "source": [
    "test = os.path.join(os.path.join(base_dir, student_name), student_name + V_format)\n",
    "print(test)\n",
    "cap = cv2.VideoCapture(test)"
   ]
  },
  {
   "cell_type": "code",
   "execution_count": null,
   "metadata": {},
   "outputs": [],
   "source": [
    "pick_names = []"
   ]
  },
  {
   "cell_type": "code",
   "execution_count": null,
   "metadata": {},
   "outputs": [],
   "source": [
    "video_length = int(cap.get(cv2.CAP_PROP_FRAME_COUNT)) - 1\n",
    "video_length"
   ]
  },
  {
   "cell_type": "code",
   "execution_count": null,
   "metadata": {},
   "outputs": [],
   "source": [
    "frame_cnt = 0\n",
    "while(frame_cnt < video_length*.99):\n",
    "    ret, frame = cap.read()\n",
    "    try:\n",
    "        gray  = cv2.cvtColor(frame, cv2.COLOR_BGR2GRAY)\n",
    "        faces = face_cascade.detectMultiScale(frame, \n",
    "                                              scaleFactor=1.7, \n",
    "                                              minNeighbors=5)#, minSize = (100,100))\n",
    "        for (x, y, w, h) in faces:\n",
    "            roi_gray = gray[y:y+h, x:x+w] \n",
    "            roi_color = frame[y:y+h, x:x+w]\n",
    "            id_, conf = recognizer.predict(roi_gray)\n",
    "            if conf>=0 and conf < 200:\n",
    "                #print(5: #id_)\n",
    "                print(labels[id_])\n",
    "                print(conf)\n",
    "                pick_names.append([labels[id_], conf])\n",
    "                img_item = \"ExtractFaceFrame.png\"\n",
    "                cv2.imwrite(img_item, roi_gray)\n",
    "                color = (255, 0, 0)\n",
    "                stroke = 2\n",
    "                end_cord_x = x + w\n",
    "                end_cord_y = y + h\n",
    "                cv2.rectangle(frame, (x, y), (end_cord_x, end_cord_y), color, stroke)\n",
    "        cv2.imshow('frame',frame)\n",
    "        frame_cnt += 1\n",
    "        if cv2.waitKey(2) & 0xFF == ord('q'):\n",
    "            break        \n",
    "    except ValueError: \n",
    "        print('Something wrong... Frame is invalid?')\n",
    "    else:\n",
    "        print(frame_cnt)"
   ]
  },
  {
   "cell_type": "code",
   "execution_count": null,
   "metadata": {},
   "outputs": [],
   "source": [
    "pick_names[:3]"
   ]
  },
  {
   "cell_type": "code",
   "execution_count": null,
   "metadata": {},
   "outputs": [],
   "source": [
    "df = pd.DataFrame()\n",
    "for itm in pick_names:\n",
    "    teststring = []\n",
    "    teststring.append(itm[0])\n",
    "    teststring.append(itm[1])\n",
    "    df = df.append([teststring])\n",
    "df.columns = ['name', 'probability']"
   ]
  },
  {
   "cell_type": "code",
   "execution_count": null,
   "metadata": {},
   "outputs": [],
   "source": [
    "df = df.sort_values(['name', 'probability'], ascending=True)\n",
    "df1 = df.groupby('name')['probability'].median().reset_index()\n",
    "df1 = df1.sort_values(['name'], ascending=True)\n",
    "df1"
   ]
  },
  {
   "cell_type": "code",
   "execution_count": null,
   "metadata": {},
   "outputs": [],
   "source": [
    "df2 = df.name.value_counts()\n",
    "df2 = pd.DataFrame(df2)\n",
    "df2 = df2.sort_values([\"name\"], ascending=True)\n",
    "df2.index.name = 'x'\n",
    "df2.reset_index(inplace=True)\n",
    "df2.columns = ['name', 'frequency']\n",
    "df2.head(5)"
   ]
  },
  {
   "cell_type": "raw",
   "metadata": {},
   "source": [
    "if any(df1['name'] == df2['name'].values[0]):\n",
    "    student_name_reg = df2['name'].values[0]\n",
    "    print(\"Recognized \", df1['name'].values[0], \n",
    "          \" and with a similarity index of \", df1['probability'].values[0], \n",
    "          \" and face recognized \", df2['frequency'].values[0], \"times out of \", video_length, \"frames\")\n",
    "else:\n",
    "    student_name_reg = 'Student_not_identified'\n",
    "    df3 = pd.merge(df1, df2, on='name')\n",
    "    print('Fix it against', list(df3.name))"
   ]
  },
  {
   "cell_type": "code",
   "execution_count": null,
   "metadata": {},
   "outputs": [],
   "source": [
    "# ABSOLUTE VALUE\n",
    "if any(df1[\"name\"] == df2[\"name\"].values[0]):\n",
    "    student_name = df2[\"name\"].values[0]\n",
    "    print('>> ', df2[\"name\"].values[0], \"<< \", \"identity confirmed!\", \n",
    "          \"face recognized\", df2['frequency'].values[0], \"times out of\", video_length, \"frames\" )\n",
    "else:\n",
    "    student_name = \"Student_not_identified\"\n",
    "    print('Resolve the Identity Conflict among >>', list(df2.name),  \"<<\")"
   ]
  },
  {
   "cell_type": "raw",
   "metadata": {},
   "source": [
    "if df1['name'].values[0] == df2['name'].values[0]:\n",
    "    student_name_reg = df1['name'].values[0]\n",
    "    print(\"Recognized \", df1['name'].values[0], \n",
    "          \" and with a similarity index of \", df1['probability'].values[0], \n",
    "          \" and face recognized \", df2['frequency'].values[0], \"times out of \", video_length, \"frames\")\n",
    "else:\n",
    "    student_name_reg = 'Student_not_identified'\n",
    "    df3 = pd.merge(df1, df2, on='name')\n",
    "    print('Fix it against', list(df3.name))"
   ]
  },
  {
   "cell_type": "code",
   "execution_count": null,
   "metadata": {},
   "outputs": [],
   "source": [
    "df2[\"pct\"] = df2['frequency']/ video_length\n",
    "print(df2['pct'][0], \"percent times faces was recognized for the highest confidence.\")"
   ]
  },
  {
   "cell_type": "code",
   "execution_count": null,
   "metadata": {},
   "outputs": [],
   "source": [
    "image= Image.open('ExtractFaceFrame.png')\n",
    "image.show()"
   ]
  },
  {
   "cell_type": "code",
   "execution_count": null,
   "metadata": {},
   "outputs": [],
   "source": [
    "if student_name_reg == 'Student_not_identified':\n",
    "    student_name_reg = 'Some_student'\n",
    "    print(student_name_reg)\n",
    "print(student_name_reg)"
   ]
  },
  {
   "cell_type": "markdown",
   "metadata": {},
   "source": [
    "# Saves student_name as the person it detects and then after that it thinks that(the student_name) is the directoryt they need to go to "
   ]
  },
  {
   "cell_type": "markdown",
   "metadata": {},
   "source": [
    "# Part 2"
   ]
  },
  {
   "cell_type": "code",
   "execution_count": null,
   "metadata": {},
   "outputs": [],
   "source": [
    "base_dir = '/Users/NidhiAneja/Documents/AI/Cafeteria/OpenCV-Python-Series-master/src_final/video-image/'\n",
    "video_in = '/Users/NidhiAneja/Documents/AI/Cafeteria/OpenCV-Python-Series-master/src_final/video-image/in/'\n",
    "image_out = '/Users/NidhiAneja/Documents/AI/Cafeteria/OpenCV-Python-Series-master/src_final/video-image/out/'"
   ]
  },
  {
   "cell_type": "code",
   "execution_count": null,
   "metadata": {},
   "outputs": [],
   "source": [
    "os.chdir(video_in)\n",
    "os.getcwd()"
   ]
  },
  {
   "cell_type": "code",
   "execution_count": null,
   "metadata": {},
   "outputs": [],
   "source": [
    "now = str(datetime.datetime.now())\n",
    "now[:10]\n",
    "os.listdir('.')"
   ]
  },
  {
   "cell_type": "raw",
   "metadata": {},
   "source": [
    "nm_check = [s for s in os.listdir('.') if student_name == s]\n",
    "if nm_check== []:\n",
    "    os.rename('Cafeteria', student_name)\n",
    "elif nm_check[0] == student_name:\n",
    "    os.rename(student_name, student_name + str(round(random.random(),2)))\n",
    "    os.rename('Cafeteria', student_name)"
   ]
  },
  {
   "cell_type": "code",
   "execution_count": null,
   "metadata": {},
   "outputs": [],
   "source": []
  },
  {
   "cell_type": "code",
   "execution_count": null,
   "metadata": {},
   "outputs": [],
   "source": [
    "os.listdir(os.path.join(video_in, student_name))\n",
    "video_name = ''.join((str(student_name), V_format))"
   ]
  },
  {
   "cell_type": "code",
   "execution_count": null,
   "metadata": {},
   "outputs": [],
   "source": [
    "save_path = os.path.join(base_dir, 'in', student_name, video_name)\n",
    "save_path"
   ]
  },
  {
   "cell_type": "markdown",
   "metadata": {},
   "source": [
    "# Part C"
   ]
  },
  {
   "cell_type": "code",
   "execution_count": null,
   "metadata": {},
   "outputs": [],
   "source": [
    "os.chdir(os.path.join(base_dir, 'in', student_name))\n",
    "execution_path = (os.path.join(base_dir, 'in', student_name))\n",
    "execution_path"
   ]
  },
  {
   "cell_type": "markdown",
   "metadata": {},
   "source": [
    "# Model select"
   ]
  },
  {
   "cell_type": "code",
   "execution_count": null,
   "metadata": {},
   "outputs": [],
   "source": [
    "detector = ObjectDetection()\n",
    "detector.setModelTypeAsRetinaNet()\n",
    "detector.setModelPath('/Users/NidhiAneja/Documents/AI/IMAGE_AI/ImageAI-master/MODELS/resnet50_coco_best_v2.0.1.h5')\n",
    "detector.loadModel()"
   ]
  },
  {
   "cell_type": "markdown",
   "metadata": {},
   "source": [
    "# Seperate Objects"
   ]
  },
  {
   "cell_type": "code",
   "execution_count": null,
   "metadata": {},
   "outputs": [],
   "source": [
    "!pwd"
   ]
  },
  {
   "cell_type": "code",
   "execution_count": null,
   "metadata": {},
   "outputs": [],
   "source": [
    "lst_frames = os.listdir()\n",
    "lst_frames = sorted(lst_frames)\n",
    "if '.DS_Store' in lst_frames: lst_frames.remove('.DS_Store')\n",
    "for filename in os.listdir(os.path.join(video_in, student_name)):\n",
    "    if os.path.getsize(filename) == 0:\n",
    "        os.remove(filename)\n",
    "        print('done?')\n",
    "print(lst_frames)"
   ]
  },
  {
   "cell_type": "code",
   "execution_count": null,
   "metadata": {},
   "outputs": [],
   "source": [
    "lst_frames = []\n",
    "for filename in os.listdir(os.path.join(video_in, student_name)):\n",
    "    if filename.startswith(\"frame\"):\n",
    "        lst_frames.append(filename)\n",
    "lst_frames = sorted(lst_frames)"
   ]
  },
  {
   "cell_type": "code",
   "execution_count": null,
   "metadata": {},
   "outputs": [],
   "source": [
    "for lst in lst_frames:\n",
    "    print(lst)\n",
    "    try:\n",
    "        detections, objects_path = detector.detectCustomObjectsFromImage(input_image=os.path.join(execution_path, lst),\n",
    "                                                                         output_image_path=lst[5] + str(random.randint(0,100)),\n",
    "                                                                         minimum_percentage_probability=20,\n",
    "                                                                         extract_detected_objects=True)\n",
    "    except:\n",
    "        pass\n",
    "    else:\n",
    "        print('Done', lst)"
   ]
  },
  {
   "cell_type": "code",
   "execution_count": null,
   "metadata": {},
   "outputs": [],
   "source": [
    "len(lst_frames)"
   ]
  },
  {
   "cell_type": "code",
   "execution_count": null,
   "metadata": {},
   "outputs": [],
   "source": [
    "object_folders = [x[0] for x in os.walk(execution_path)] [1:]\n",
    "object_folders = sorted(object_folders)"
   ]
  },
  {
   "cell_type": "code",
   "execution_count": null,
   "metadata": {},
   "outputs": [],
   "source": [
    "i = 0\n",
    "for i in range(len(object_folders)):\n",
    "    path = object_folders[i]\n",
    "    for filename in os.listdir(path):\n",
    "        os.rename(path + '/' + filename,\n",
    "                  path + '/captured' + str(random.randint(1, 10001)) + '.jpg')\n",
    "        i += 1"
   ]
  },
  {
   "cell_type": "code",
   "execution_count": null,
   "metadata": {},
   "outputs": [],
   "source": [
    "remove = 0\n",
    "for j in range(len(object_folders)):\n",
    "    path = object_folders[j]\n",
    "    for filename in os.listdir(path):\n",
    "        if os.path.getsize(os.path.join(path, filename)) == 0:\n",
    "            os.remove(os.path.join(path, filename))\n",
    "            remove += 1\n",
    "            print(remove, 'removed!')"
   ]
  },
  {
   "cell_type": "code",
   "execution_count": null,
   "metadata": {},
   "outputs": [],
   "source": [
    "if not any(os.listdir(execution_path)) == 'objects':\n",
    "    os.mkdir('objects')"
   ]
  },
  {
   "cell_type": "code",
   "execution_count": null,
   "metadata": {},
   "outputs": [],
   "source": [
    "for i in range(len(object_folders)):\n",
    "    object_files = os.listdir(object_folders[i])\n",
    "    if '.DS_Store' in lst_frames: lst_frames.remove('.DS_Store')\n",
    "    for f in object_files:\n",
    "        try: \n",
    "            shutil.move(os.path.join(object_folders[i], f), os.path.join(execution_path, \"objects\"))\n",
    "        except:\n",
    "            pass"
   ]
  },
  {
   "cell_type": "markdown",
   "metadata": {},
   "source": [
    "# Part 4"
   ]
  },
  {
   "cell_type": "markdown",
   "metadata": {},
   "source": [
    "# Custom Model"
   ]
  },
  {
   "cell_type": "code",
   "execution_count": null,
   "metadata": {},
   "outputs": [],
   "source": [
    "custom_model_path = '/Users/NidhiAneja/Documents/AI/IMAGE_AI/ImageAI-master/'\n",
    "os.chdir(os.path.join(custom_model_path, 'MODELS'))\n",
    "!pwd"
   ]
  },
  {
   "cell_type": "code",
   "execution_count": null,
   "metadata": {},
   "outputs": [],
   "source": [
    "\n",
    "from imageai.Prediction import ImagePrediction\n",
    "#from imageai.Detection import ObjectDetection\n",
    "from imageai.Prediction.Custom import ModelTraining\n",
    "#from imageai.Prediction.Custom import CustomImagePrediction"
   ]
  },
  {
   "cell_type": "code",
   "execution_count": null,
   "metadata": {},
   "outputs": [],
   "source": [
    "prediction = CustomImagePrediction()\n",
    "prediction.setModelTypeAsResNet()"
   ]
  },
  {
   "cell_type": "code",
   "execution_count": null,
   "metadata": {},
   "outputs": [],
   "source": [
    "os.listdir()\n"
   ]
  },
  {
   "cell_type": "code",
   "execution_count": null,
   "metadata": {},
   "outputs": [],
   "source": [
    "\n",
    "prediction.setModelPath('/Users/NidhiAneja/Documents/AI/IMAGE_AI/ImageAI-master/MODELS/model_ex-022_acc-0.969893.h5')\n",
    "prediction.setJsonPath('/Users/NidhiAneja/Documents/AI/IMAGE_AI/ImageAI-master/MODELS/model_class.json')\n",
    "prediction.loadModel(num_objects = 10)"
   ]
  },
  {
   "cell_type": "code",
   "execution_count": null,
   "metadata": {},
   "outputs": [],
   "source": [
    "detected_path = os.path.join(execution_path, \"objects\")\n",
    "all_files = os.listdir(detected_path)\n",
    "all_files[:2]"
   ]
  },
  {
   "cell_type": "code",
   "execution_count": null,
   "metadata": {},
   "outputs": [],
   "source": [
    "all_images_array = []\n",
    "for each_file in all_files:\n",
    "    if(each_file.endswith('.jpg') or each_file.endswith('.png')):\n",
    "        all_images_array.append(each_file)\n",
    "all_images_array[:2]"
   ]
  },
  {
   "cell_type": "code",
   "execution_count": null,
   "metadata": {},
   "outputs": [],
   "source": [
    "os.chdir(detected_path)\n",
    "results_array = prediction.predictMultipleImages(all_images_array,\n",
    "                                                result_count_per_image = 1)"
   ]
  },
  {
   "cell_type": "code",
   "execution_count": null,
   "metadata": {},
   "outputs": [],
   "source": [
    "save_results = []\n",
    "for i in results_array:\n",
    "    FoodItem, Probability = i[\"predictions\"], i[\"percentage_probabilities\"]\n",
    "    for idx in range(len(FoodItem)):\n",
    "        save_results.append((FoodItem[idx], Probability[idx]))"
   ]
  },
  {
   "cell_type": "code",
   "execution_count": null,
   "metadata": {},
   "outputs": [],
   "source": [
    "save_results[:1]"
   ]
  },
  {
   "cell_type": "code",
   "execution_count": null,
   "metadata": {},
   "outputs": [],
   "source": [
    "import pandas as pd\n",
    "df = pd.DataFrame(save_results, columns = ['FoodItem', 'Probability'])\n",
    "df.head(2)\n"
   ]
  },
  {
   "cell_type": "code",
   "execution_count": null,
   "metadata": {},
   "outputs": [],
   "source": [
    "df[\"image_name\"] = all_images_array\n",
    "df.head(1)"
   ]
  },
  {
   "cell_type": "code",
   "execution_count": null,
   "metadata": {},
   "outputs": [],
   "source": [
    "file_ext = str(random.randint(1, 100))\n",
    "df.to_csv(os.path.join(execution_path, \"save_results\" + file_ext + \".csv\"), index=False, encoding='utf8')"
   ]
  },
  {
   "cell_type": "code",
   "execution_count": null,
   "metadata": {},
   "outputs": [],
   "source": [
    "df=df.sort_values(['FoodItem', \"Probability\"], ascending=False)\n",
    "df.head(1)"
   ]
  },
  {
   "cell_type": "code",
   "execution_count": null,
   "metadata": {},
   "outputs": [],
   "source": [
    "dfx = df\n",
    "df = df.drop_duplicates('FoodItem')\n",
    "(df)"
   ]
  },
  {
   "cell_type": "code",
   "execution_count": null,
   "metadata": {},
   "outputs": [],
   "source": [
    "now = str(datetime.datetime.now())\n",
    "df['dates'] = (now[:10])\n",
    "df['timestamp'] = (now[11:19])\n",
    "df['student_name'] = student_name\n",
    "df.head(2)"
   ]
  },
  {
   "cell_type": "code",
   "execution_count": null,
   "metadata": {},
   "outputs": [],
   "source": [
    "ItemCostTable = {'FoodItem': [\n",
    "    'Burger',\n",
    "    'Cheerios',\n",
    "    'Cheeseit',\n",
    "    'Chips',\n",
    "    'FruitSnacks',\n",
    "    'GoldenBar',\n",
    "    'MilkBlue',\n",
    "    'MilkPurple',\n",
    "    'NakedDrink',\n",
    "    'NutriGrain',\n",
    "    'Pizza',\n",
    "    'RiceKrispes'],\n",
    "                \"Cost\": [1,2,3,4,5,6,7,8,9,10,11,12]}\n",
    "CostTable = pd.DataFrame(ItemCostTable)\n",
    "CostTable.head(2)"
   ]
  },
  {
   "cell_type": "code",
   "execution_count": null,
   "metadata": {},
   "outputs": [],
   "source": [
    "df = pd.merge(df, CostTable, on = ['FoodItem', 'FoodItem'])\n",
    "df"
   ]
  },
  {
   "cell_type": "code",
   "execution_count": null,
   "metadata": {},
   "outputs": [],
   "source": [
    "df.to_csv(os.path.join(execution_path, \"final_safe_results\" + file_ext + \".csv\"), index = False, encoding = 'utf8')\n",
    "df"
   ]
  },
  {
   "cell_type": "code",
   "execution_count": null,
   "metadata": {},
   "outputs": [],
   "source": [
    "os.path.join(video_in, student_name)"
   ]
  },
  {
   "cell_type": "code",
   "execution_count": null,
   "metadata": {},
   "outputs": [],
   "source": [
    "for i in range(len(df)):\n",
    "    im = cv2.imread(os.path.join(video_in, student_name, \"objects\", df['image_name'].iloc[i]))\n",
    "    im_resized = cv2.resize(im, (244, 244), interpolation = cv2.INTER_LINEAR)\n",
    "    plt.imshow(cv2.cvtColor(im_resized, cv2.COLOR_BGR2RGB))\n",
    "    print(df[\"image_name\"].iloc[i])\n",
    "    print(df[\"FoodItem\"].iloc[i])\n",
    "    print(df[\"Probability\"].iloc[i])\n",
    "    plt.show()"
   ]
  },
  {
   "cell_type": "code",
   "execution_count": null,
   "metadata": {},
   "outputs": [],
   "source": [
    "itm_tags = dfx.FoodItem.value_counts()\n",
    "itm_tags = pd.DataFrame(itm_tags)\n",
    "itm_tags.index.name = 'x'\n",
    "itm_tags.reset_index(inplace=True)\n",
    "itm_tags.columns = [\"FoodItem\",'frequency']\n",
    "itm_tags"
   ]
  },
  {
   "cell_type": "code",
   "execution_count": null,
   "metadata": {},
   "outputs": [],
   "source": [
    "for i in range(len(df)):\n",
    "    im = cv2.imread(os.path.join(video_in, student_name, \"objects\", df['image_name'].iloc[i]))\n",
    "    im_resized = cv2.resize(im, (224, 224), interpolation=cv2.INTER_LINEAR)\n",
    "    plt.imshow(cv2.cvtColor(im_resized, cv2.COLOR_BGR2RGB))\n",
    "    print (dfx[\"image_name\"].iloc[i])\n",
    "    print(dfx[\"FoodItem\"].iloc[i])\n",
    "    print(dfx[\"Probability\"].iloc[i])\n",
    "    plt.show()"
   ]
  },
  {
   "cell_type": "code",
   "execution_count": null,
   "metadata": {},
   "outputs": [],
   "source": []
  },
  {
   "cell_type": "raw",
   "metadata": {},
   "source": [
    "os.chdir('/Users/NidhiAneja/Documents/AI/Cafeteria/OpenCV-Python-Series-master/src_final/logo')"
   ]
  },
  {
   "cell_type": "raw",
   "metadata": {},
   "source": [
    "logo = Image.open('/Users/NidhiAneja/Documents/AI/Cafeteria/OpenCV-Python-Series-master/src_final/logo/logo.png')\n",
    "logo.thumbnail((300, 300))\n",
    "logo.show()"
   ]
  },
  {
   "cell_type": "raw",
   "metadata": {},
   "source": [
    "image = Image.open(lst_frames[0])"
   ]
  },
  {
   "cell_type": "raw",
   "metadata": {},
   "source": [
    "image_copy = image.copy()\n",
    "position = ((image_copy.width - logo.width), (image_copy.height - logo.height))\n",
    "image_copy.paste(logo, position)\n",
    "\n",
    "image_copy.size\n",
    "\n",
    "image_copy.thumbnail((500, 300))\n",
    "image_copy.save(\"image_thumbnail.jpg\")\n",
    "print(image_copy.size)\n",
    "image_copy.show()"
   ]
  },
  {
   "cell_type": "code",
   "execution_count": null,
   "metadata": {},
   "outputs": [],
   "source": [
    "\n",
    "\n",
    "\n",
    "\n",
    "'/Users/NidhiAneja/Documents/AI/Cafeteria/OpenCV-Python-Series-master/src_final/demo/'"
   ]
  }
 ],
 "metadata": {
  "kernelspec": {
   "display_name": "Python 3",
   "language": "python",
   "name": "python3"
  },
  "language_info": {
   "codemirror_mode": {
    "name": "ipython",
    "version": 3
   },
   "file_extension": ".py",
   "mimetype": "text/x-python",
   "name": "python",
   "nbconvert_exporter": "python",
   "pygments_lexer": "ipython3",
   "version": "3.6.5"
  }
 },
 "nbformat": 4,
 "nbformat_minor": 2
}
