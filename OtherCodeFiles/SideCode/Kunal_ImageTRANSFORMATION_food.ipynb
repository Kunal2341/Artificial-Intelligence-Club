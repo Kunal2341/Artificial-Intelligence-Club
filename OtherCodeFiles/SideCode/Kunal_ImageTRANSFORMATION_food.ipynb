{
 "cells": [
  {
   "cell_type": "code",
   "execution_count": 1,
   "metadata": {},
   "outputs": [
    {
     "name": "stderr",
     "output_type": "stream",
     "text": [
      "/anaconda3/lib/python3.6/site-packages/h5py/__init__.py:36: FutureWarning: Conversion of the second argument of issubdtype from `float` to `np.floating` is deprecated. In future, it will be treated as `np.float64 == np.dtype(float).type`.\n",
      "  from ._conv import register_converters as _register_converters\n",
      "Using TensorFlow backend.\n"
     ]
    }
   ],
   "source": [
    "from keras.preprocessing import image\n",
    "import os\n",
    "import matplotlib.pyplot as plt\n",
    "from keras.preprocessing.image import ImageDataGenerator"
   ]
  },
  {
   "cell_type": "code",
   "execution_count": 2,
   "metadata": {},
   "outputs": [],
   "source": [
    "import numpy as np \n",
    "#import _pickle as cPickle from PIL \n",
    "#import Image \n",
    "import sys\n",
    "import os\n",
    "import cv2 \n",
    "import shutil\n",
    "from PIL import Image\n",
    "import random"
   ]
  },
  {
   "cell_type": "markdown",
   "metadata": {},
   "source": [
    "# PART 1  "
   ]
  },
  {
   "cell_type": "markdown",
   "metadata": {},
   "source": [
    "# IMAGE RESIZING - dont use😭😭😭😭😭😭😭😭😩👍🏼\n"
   ]
  },
  {
   "cell_type": "code",
   "execution_count": null,
   "metadata": {},
   "outputs": [],
   "source": [
    "os.chdir('/Users/SA035G2/Documents/AI/IMAGES/')\n",
    "execution_path = os.getcwd()\n",
    "trn_lst = os.path.join(execution_path, \"in_photos\")\n",
    "sz_lst = os.path.join(execution_path, \"sz_photos\")"
   ]
  },
  {
   "cell_type": "code",
   "execution_count": null,
   "metadata": {},
   "outputs": [],
   "source": [
    "if(os.path.exists(sz_lst) == False):\n",
    "    os.mkdir(sz_lst)"
   ]
  },
  {
   "cell_type": "code",
   "execution_count": null,
   "metadata": {},
   "outputs": [],
   "source": [
    "lst = os.listdir(os.path.join(execution_path, \"in_photos\"))\n",
    "#lst = os.listdir(os.path.join(execution_path, \"TMP\"))\n",
    "lst = sorted(lst)\n",
    "del lst[0]\n",
    "lst"
   ]
  },
  {
   "cell_type": "markdown",
   "metadata": {},
   "source": [
    "# Resizing here - dont use 😝😜🤨😏😞😟😢😭😩😨😨😳😡🤫😐🤭😓🤔😰😧🤫😧😯"
   ]
  },
  {
   "cell_type": "code",
   "execution_count": null,
   "metadata": {},
   "outputs": [],
   "source": [
    "os.chdir('/Users/SA035G2/Documents/AI/IMAGES/sz_photos/')\n",
    "root_sz = '/Users/SA035G2/Documents/AI/IMAGES/sz_photos/'\n",
    "for i in range(len(lst)):\n",
    "    if(os.path.exists(lst[i]) == False):\n",
    "        os.mkdir(lst[i])\n",
    "    if(os.path.exists(os.path.join(root_sz, lst[i],lst[i])) == False):\n",
    "        os.mkdir(os.path.join(root_sz, lst[i],lst[i]))\n",
    "#os.chdir('/Users/SA035G2/Documents/AI/IMAGES/')"
   ]
  },
  {
   "cell_type": "code",
   "execution_count": null,
   "metadata": {},
   "outputs": [],
   "source": [
    "# resizing happening here...\n",
    "root = '/Users/sa035g2/Documents/AI/IMAGES/'\n",
    "for i in range(len(lst)):\n",
    "    root = '/Users/sa035g2/Documents/AI/IMAGES/'\n",
    "    all_files = os.listdir(os.path.join(root,'in_photos', lst[i], lst[i]))\n",
    "    all_files = sorted(all_files)\n",
    "    #del all_files[0]\n",
    "    #print(all_files)\n",
    "    for files in all_files:\n",
    "        imageX = cv2.imread(os.path.join(root, 'in_photos', lst[i], lst[i], files ) )\n",
    "        #print(imageX.shape)\n",
    "        r = 1280.0*2 / imageX.shape[1]\n",
    "        dim = (1280*2, int(imageX.shape[0] * r))\n",
    "        resized = cv2.resize(imageX, dim, interpolation = cv2.INTER_AREA)\n",
    "        print(resized.shape)\n",
    "        cv2.imwrite(os.path.join(root, 'sz_photos',lst[i],lst[i], files) ,resized)"
   ]
  },
  {
   "cell_type": "code",
   "execution_count": null,
   "metadata": {},
   "outputs": [],
   "source": [
    "# tmp tmp\n",
    "#root = '/Users/sa035g2/Documents/AI/IMAGES/'\n",
    "#all_files = os.listdir(os.path.join(root,'in_photos', lst[3], lst[3]))\n",
    "imageX = cv2.imread('/Users/sa035g2/Documents/AI/IMAGES/out_photosX/pizza/IMG_20190207_160141.jpg')\n",
    "imageX.shape\n",
    "#(3024, 4032, 3)"
   ]
  },
  {
   "cell_type": "code",
   "execution_count": null,
   "metadata": {},
   "outputs": [],
   "source": [
    "# to be deleted.....tmp tmp\n",
    "r = 0.75\n",
    "dim = (int(imageX.shape[1]*r), int(imageX.shape[0] * r))\n",
    "resized = cv2.resize(imageX, dim, interpolation = cv2.INTER_AREA)\n",
    "print(resized.shape)"
   ]
  },
  {
   "cell_type": "code",
   "execution_count": null,
   "metadata": {},
   "outputs": [],
   "source": [
    "import numpy as np\n",
    "from PIL import Image\n",
    "from matplotlib import pyplot as plt\n",
    "\n",
    "print(imageX.shape)\n",
    "plt.imshow(imageX)"
   ]
  },
  {
   "cell_type": "markdown",
   "metadata": {},
   "source": [
    "# PART 2"
   ]
  },
  {
   "cell_type": "markdown",
   "metadata": {},
   "source": [
    "# IMAGE TRANSFORMATION - folder structure built"
   ]
  },
  {
   "cell_type": "code",
   "execution_count": 25,
   "metadata": {},
   "outputs": [],
   "source": [
    "DATASET_DIR = '/Users/NidhiAneja/Documents/AI/Cafeteria/OpenCV-Python-Series-master/food_final_4/'"
   ]
  },
  {
   "cell_type": "code",
   "execution_count": 26,
   "metadata": {},
   "outputs": [],
   "source": [
    "if(os.path.exists(DATASET_DIR) == False):\n",
    "    os.mkdir(DATASET_DIR)"
   ]
  },
  {
   "cell_type": "code",
   "execution_count": 27,
   "metadata": {},
   "outputs": [],
   "source": [
    "os.chdir('/Users/NidhiAneja/Documents/AI/Cafeteria/OpenCV-Python-Series-master/food_final_4/')\n",
    "execution_path = os.getcwd()\n",
    "trn_lst = os.path.join(execution_path, \"in_photos\")\n",
    "gen_lst = os.path.join(execution_path, \"out_photos\")"
   ]
  },
  {
   "cell_type": "code",
   "execution_count": 28,
   "metadata": {},
   "outputs": [],
   "source": [
    "if(os.path.exists(gen_lst) == False):\n",
    "    os.mkdir(gen_lst)"
   ]
  },
  {
   "cell_type": "code",
   "execution_count": 29,
   "metadata": {},
   "outputs": [
    {
     "data": {
      "text/plain": [
       "['Cheerios',\n",
       " 'CheezIts',\n",
       " 'Chips',\n",
       " 'CinamonToastCrunch',\n",
       " 'FruitSnacks',\n",
       " 'GoldenGrahamsBar',\n",
       " 'GoldenGrahamsCereal',\n",
       " 'McNuggets',\n",
       " 'MilkBlue',\n",
       " 'MilkPurple',\n",
       " 'NutriGrain',\n",
       " 'Pizza',\n",
       " 'QuarterPounder',\n",
       " 'RiceKrispes']"
      ]
     },
     "execution_count": 29,
     "metadata": {},
     "output_type": "execute_result"
    }
   ],
   "source": [
    "lst = os.listdir(os.path.join(execution_path, \"in_photos\"))\n",
    "lst = sorted(lst)\n",
    "del lst[0]\n",
    "lst"
   ]
  },
  {
   "cell_type": "code",
   "execution_count": 30,
   "metadata": {},
   "outputs": [],
   "source": [
    "os.chdir('/Users/NidhiAneja/Documents/AI/Cafeteria/OpenCV-Python-Series-master/food_final/out_photos/')\n",
    "for i in range(len(lst)):\n",
    "    if(os.path.exists(lst[i]) == False):\n",
    "        os.mkdir(lst[i])\n",
    "os.chdir(DATASET_DIR)"
   ]
  },
  {
   "cell_type": "code",
   "execution_count": 31,
   "metadata": {},
   "outputs": [
    {
     "name": "stdout",
     "output_type": "stream",
     "text": [
      "/Users/NidhiAneja/Documents/AI/Cafeteria/OpenCV-Python-Series-master/food_final_4/in_photos\n",
      "/Users/NidhiAneja/Documents/AI/Cafeteria/OpenCV-Python-Series-master/food_final_4/out_photos\n"
     ]
    }
   ],
   "source": [
    "print(trn_lst)\n",
    "print(gen_lst)"
   ]
  },
  {
   "cell_type": "markdown",
   "metadata": {},
   "source": [
    "# transformation 0"
   ]
  },
  {
   "cell_type": "code",
   "execution_count": 34,
   "metadata": {},
   "outputs": [
    {
     "name": "stdout",
     "output_type": "stream",
     "text": [
      "Found 111 images belonging to 1 classes.\n"
     ]
    },
    {
     "name": "stderr",
     "output_type": "stream",
     "text": [
      "/anaconda3/lib/python3.6/site-packages/keras_preprocessing/image.py:1131: UserWarning: This ImageDataGenerator specifies `featurewise_center`, but it hasn't been fit on any training data. Fit it first by calling `.fit(numpy_data)`.\n",
      "  warnings.warn('This ImageDataGenerator specifies '\n"
     ]
    },
    {
     "name": "stdout",
     "output_type": "stream",
     "text": [
      "Found 141 images belonging to 1 classes.\n",
      "Found 144 images belonging to 1 classes.\n",
      "Found 91 images belonging to 1 classes.\n",
      "Found 140 images belonging to 1 classes.\n",
      "Found 115 images belonging to 1 classes.\n",
      "Found 124 images belonging to 1 classes.\n",
      "Found 83 images belonging to 1 classes.\n",
      "Found 112 images belonging to 1 classes.\n",
      "Found 104 images belonging to 1 classes.\n",
      "Found 112 images belonging to 1 classes.\n",
      "Found 127 images belonging to 1 classes.\n",
      "Found 123 images belonging to 1 classes.\n",
      "Found 114 images belonging to 1 classes.\n"
     ]
    }
   ],
   "source": [
    "## TRANSFORMATION 1 (+15 degress)\n",
    "\n",
    "# NUMBER OF FILES (PHOTOS) IN EACH FOLDER\n",
    "files_idx =[]\n",
    "\n",
    "for i in range(len(lst)):\n",
    "    root = '/Users/NidhiAneja/Documents/AI/Cafeteria/OpenCV-Python-Series-master/food_final_4/in_photos/'\n",
    "    all_files = os.listdir(os.path.join(root, lst[i], lst[i]))\n",
    "    files_idx.append( len(all_files) )\n",
    "\n",
    "for i in range(len(lst)):\n",
    "    files_idx1 = files_idx[i] # new **\n",
    "    datagen = image.ImageDataGenerator(        \n",
    "        '''rotation_range= 20,\n",
    "        width_shift_range=0.15,\n",
    "        height_shift_range=0.15,\n",
    "        #shear_range=0.15,\n",
    "        zoom_range= 0,\n",
    "        fill_mode='nearest',\n",
    "        #fill_mode = 'reflect',\n",
    "        #rescale = 1./255,\n",
    "        horizontal_flip = False,\n",
    "        vertical_flip = False,\n",
    "        featurewise_center = False,\n",
    "        samplewise_center = False,\n",
    "        featurewise_std_normalization = False,\n",
    "        samplewise_std_normalization = False,\n",
    "        zca_whitening = False'''\n",
    "        )\n",
    "\n",
    "    gen_data = datagen.flow_from_directory(os.path.join(trn_lst, lst[i]), \n",
    "                                           batch_size=1, \n",
    "                                           shuffle=True, \n",
    "                                           seed=1,\n",
    "                                           save_to_dir= os.path.join(gen_lst, lst[i]),\n",
    "                                           save_prefix= 'ReSize',\n",
    "                                           target_size= ( 224, 224) ) #(1920, 2560) ) #(256, 256))  #(960, 1280))\n",
    "                                           \n",
    "\n",
    "    order_list = list(np.random.permutation(100)) # give an shuffled numpy permutation number lis\n",
    "    for j in range(files_idx1):\n",
    "    #for j in range(5):\n",
    "        gen_data.next()"
   ]
  },
  {
   "cell_type": "markdown",
   "metadata": {},
   "source": [
    "# transformation 1 "
   ]
  },
  {
   "cell_type": "code",
   "execution_count": 35,
   "metadata": {},
   "outputs": [
    {
     "data": {
      "text/plain": [
       "[111, 141, 144, 91, 140, 115, 125, 83, 113, 104, 112, 127, 123, 114]"
      ]
     },
     "execution_count": 35,
     "metadata": {},
     "output_type": "execute_result"
    }
   ],
   "source": [
    "#number of photos in each folder\n",
    "files_idx =[]\n",
    "\n",
    "for i in range(len(lst)):\n",
    "    root = '/Users/NidhiAneja/Documents/AI/Cafeteria/OpenCV-Python-Series-master/food_final_4/in_photos/'\n",
    "    all_files = os.listdir(os.path.join(root, lst[i], lst[i]))\n",
    "    files_idx.append( len(all_files) )\n",
    "files_idx    "
   ]
  },
  {
   "cell_type": "code",
   "execution_count": 38,
   "metadata": {},
   "outputs": [
    {
     "name": "stdout",
     "output_type": "stream",
     "text": [
      "Found 111 images belonging to 1 classes.\n",
      "Found 141 images belonging to 1 classes.\n",
      "Found 144 images belonging to 1 classes.\n",
      "Found 91 images belonging to 1 classes.\n",
      "Found 140 images belonging to 1 classes.\n",
      "Found 115 images belonging to 1 classes.\n",
      "Found 124 images belonging to 1 classes.\n",
      "Found 83 images belonging to 1 classes.\n",
      "Found 112 images belonging to 1 classes.\n",
      "Found 104 images belonging to 1 classes.\n",
      "Found 112 images belonging to 1 classes.\n",
      "Found 127 images belonging to 1 classes.\n",
      "Found 123 images belonging to 1 classes.\n",
      "Found 114 images belonging to 1 classes.\n"
     ]
    }
   ],
   "source": [
    "## TRANSFORMATION 1 (+15 degress)\n",
    "\n",
    "# NUMBER OF FILES (PHOTOS) IN EACH FOLDER\n",
    "files_idx =[]\n",
    "\n",
    "for i in range(len(lst)):\n",
    "    root = '/Users/NidhiAneja/Documents/AI/Cafeteria/OpenCV-Python-Series-master/food_final_4/in_photos/'\n",
    "    all_files = os.listdir(os.path.join(root, lst[i], lst[i]))\n",
    "    files_idx.append( len(all_files) )\n",
    "files_idx = [55,70,72,45,70,57,62,41,56,52,56,63,61,57]\n",
    "    \n",
    "for i in range(len(lst)):\n",
    "    files_idx1 = files_idx[i] # new **\n",
    "    datagen = image.ImageDataGenerator(        \n",
    "        rotation_range= 10,\n",
    "        width_shift_range=0.1,\n",
    "        height_shift_range=0.1,\n",
    "        #shear_range=0.15,\n",
    "        zoom_range= [0.85, 1],\n",
    "        fill_mode='nearest',\n",
    "        #fill_mode = 'reflect',\n",
    "        #rescale = 1./255,\n",
    "        horizontal_flip = False,\n",
    "        vertical_flip = False,\n",
    "        featurewise_center = False,\n",
    "        samplewise_center = False,\n",
    "        featurewise_std_normalization = False,\n",
    "        samplewise_std_normalization = False,\n",
    "        zca_whitening = False)\n",
    "\n",
    "    gen_data = datagen.flow_from_directory(os.path.join(trn_lst, lst[i]), \n",
    "                                           batch_size=1, \n",
    "                                           shuffle=True, \n",
    "                                           seed=1,\n",
    "                                           save_to_dir= os.path.join(gen_lst, lst[i]),\n",
    "                                           save_prefix= 'TRig',\n",
    "                                           target_size= ( 224, 224) ) #(1920, 2560) ) #(256, 256))  #(960, 1280))\n",
    "                                           \n",
    "\n",
    "    order_list = list(np.random.permutation(1000)) # give an shuffled numpy permutation number lis\n",
    "    for j in range(files_idx1):\n",
    "    #for j in range(38):\n",
    "        gen_data.next()"
   ]
  },
  {
   "cell_type": "markdown",
   "metadata": {},
   "source": [
    "# transformation 2"
   ]
  },
  {
   "cell_type": "code",
   "execution_count": 39,
   "metadata": {},
   "outputs": [
    {
     "name": "stdout",
     "output_type": "stream",
     "text": [
      "Found 111 images belonging to 1 classes.\n",
      "Found 141 images belonging to 1 classes.\n",
      "Found 144 images belonging to 1 classes.\n",
      "Found 91 images belonging to 1 classes.\n",
      "Found 140 images belonging to 1 classes.\n",
      "Found 115 images belonging to 1 classes.\n",
      "Found 124 images belonging to 1 classes.\n",
      "Found 83 images belonging to 1 classes.\n",
      "Found 112 images belonging to 1 classes.\n",
      "Found 104 images belonging to 1 classes.\n",
      "Found 112 images belonging to 1 classes.\n",
      "Found 127 images belonging to 1 classes.\n",
      "Found 123 images belonging to 1 classes.\n",
      "Found 114 images belonging to 1 classes.\n"
     ]
    }
   ],
   "source": [
    "# TRANSFORMATION 1 (+15 degress)\n",
    "\n",
    "# NUMBER OF FILES (PHOTOS) IN EACH FOLDER\n",
    "files_idx =[]\n",
    "\n",
    "for i in range(len(lst)):\n",
    "    root = '/Users/NidhiAneja/Documents/AI/Cafeteria/OpenCV-Python-Series-master/food_final_4/in_photos/'\n",
    "    all_files = os.listdir(os.path.join(root, lst[i], lst[i]))\n",
    "    files_idx.append( len(all_files) )\n",
    "    \n",
    "files_idx = [55,70,72,45,70,57,62,41,56,52,56,63,61,57]\n",
    "\n",
    "for i in range(len(lst)):\n",
    "    files_idx1 = files_idx[i] # new **\n",
    "    datagen = image.ImageDataGenerator(        \n",
    "        rotation_range= -10,\n",
    "        width_shift_range= 0.1,\n",
    "        height_shift_range=0.1,\n",
    "        #shear_range=0.2,\n",
    "        zoom_range= [0.75, 1],\n",
    "        fill_mode='reflect',\n",
    "        #fill_mode = 'reflzzzect',\n",
    "        #rescale = 1./255,\n",
    "        horizontal_flip = False,\n",
    "        vertical_flip = False,\n",
    "        featurewise_center = False,\n",
    "        samplewise_center = False,\n",
    "        featurewise_std_normalization = False,\n",
    "        samplewise_std_normalization = False,\n",
    "        zca_whitening = False)\n",
    "\n",
    "    gen_data = datagen.flow_from_directory(os.path.join(trn_lst, lst[i]), \n",
    "                                           batch_size=1, \n",
    "                                           shuffle=True, \n",
    "                                           seed=1,\n",
    "                                           save_to_dir= os.path.join(gen_lst, lst[i]),\n",
    "                                           save_prefix= 'TLeft',\n",
    "                                           target_size= ( 224, 224) ) #(1920, 2560) ) #(256, 256))  #(960, 1280))\n",
    "                                           \n",
    "\n",
    "    order_list = list(np.random.permutation(1000)) # give an shuffled numpy permutation number lis\n",
    "    for j in range(files_idx1):\n",
    "        gen_data.next()"
   ]
  },
  {
   "cell_type": "markdown",
   "metadata": {},
   "source": [
    "# MAKE EMPTY TRAIN AND TEST FOLDERS"
   ]
  },
  {
   "cell_type": "code",
   "execution_count": 40,
   "metadata": {},
   "outputs": [],
   "source": [
    "os.chdir('/Users/NidhiAneja/Documents/AI/Cafeteria/OpenCV-Python-Series-master/food_final_4/')\n",
    "if(os.path.exists(\"test\") == False):\n",
    "    os.mkdir(\"test\")"
   ]
  },
  {
   "cell_type": "code",
   "execution_count": 41,
   "metadata": {},
   "outputs": [],
   "source": [
    "os.chdir('/Users/NidhiAneja/Documents/AI/Cafeteria/OpenCV-Python-Series-master/food_final/test/')\n",
    "for i in range(len(lst)):\n",
    "    if(os.path.exists(lst[i]) == False):\n",
    "        os.mkdir(lst[i])\n",
    "os.chdir('/Users/NidhiAneja/Documents/AI/Cafeteria/OpenCV-Python-Series-master/food_final/')"
   ]
  },
  {
   "cell_type": "markdown",
   "metadata": {},
   "source": [
    "# I got it done --- yeeeeeeet"
   ]
  },
  {
   "cell_type": "markdown",
   "metadata": {},
   "source": [
    "# Change output folders all combined into train"
   ]
  },
  {
   "cell_type": "code",
   "execution_count": 54,
   "metadata": {},
   "outputs": [],
   "source": [
    "os.chdir('/Users/NidhiAneja/Documents/AI/Cafeteria/OpenCV-Python-Series-master/food_final_4/')"
   ]
  },
  {
   "cell_type": "code",
   "execution_count": 55,
   "metadata": {},
   "outputs": [],
   "source": [
    "gen_lst = '/Users/NidhiAneja/Documents/AI/Cafeteria/OpenCV-Python-Series-master/food_final_4/train/'\n",
    "test_folder = '/Users/NidhiAneja/Documents/AI/Cafeteria/OpenCV-Python-Series-master/food_final_4/test'"
   ]
  },
  {
   "cell_type": "code",
   "execution_count": 62,
   "metadata": {},
   "outputs": [
    {
     "data": {
      "text/plain": [
       "['MilkBlue',\n",
       " 'Cheerios',\n",
       " 'CinamonToastCrunch',\n",
       " 'Chips',\n",
       " 'NutriGrain',\n",
       " 'GoldenGrahamsBar',\n",
       " 'QuarterPounder',\n",
       " 'CheezIts',\n",
       " 'FruitSnacks',\n",
       " 'RiceKrispes',\n",
       " 'MilkPurple',\n",
       " 'McNuggets',\n",
       " 'Pizza',\n",
       " 'GoldenGrahamsCereal']"
      ]
     },
     "execution_count": 62,
     "metadata": {},
     "output_type": "execute_result"
    }
   ],
   "source": [
    "gen_lst1 = os.listdir(gen_lst)\n",
    "if '.DS_Store' in gen_lst1: gen_lst1.remove('.DS_Store')\n",
    "gen_lst1"
   ]
  },
  {
   "cell_type": "code",
   "execution_count": 61,
   "metadata": {},
   "outputs": [
    {
     "ename": "FileNotFoundError",
     "evalue": "[Errno 2] No such file or directory: '/Users/NidhiAneja/Documents/AI/Cafeteria/OpenCV-Python-Series-master/food_final_4/train/C'",
     "output_type": "error",
     "traceback": [
      "\u001b[0;31m---------------------------------------------------------------------------\u001b[0m",
      "\u001b[0;31mFileNotFoundError\u001b[0m                         Traceback (most recent call last)",
      "\u001b[0;32m<ipython-input-61-3f55606c5a40>\u001b[0m in \u001b[0;36m<module>\u001b[0;34m()\u001b[0m\n\u001b[1;32m      3\u001b[0m     \u001b[0mfood_folder\u001b[0m \u001b[0;34m=\u001b[0m \u001b[0mos\u001b[0m\u001b[0;34m.\u001b[0m\u001b[0mpath\u001b[0m\u001b[0;34m.\u001b[0m\u001b[0mjoin\u001b[0m\u001b[0;34m(\u001b[0m\u001b[0mgen_lst\u001b[0m\u001b[0;34m,\u001b[0m \u001b[0mfood_name_folder\u001b[0m\u001b[0;34m)\u001b[0m\u001b[0;34m\u001b[0m\u001b[0m\n\u001b[1;32m      4\u001b[0m     \u001b[0mtest_folder_final\u001b[0m \u001b[0;34m=\u001b[0m \u001b[0mos\u001b[0m\u001b[0;34m.\u001b[0m\u001b[0mpath\u001b[0m\u001b[0;34m.\u001b[0m\u001b[0mjoin\u001b[0m\u001b[0;34m(\u001b[0m\u001b[0mtest_folder\u001b[0m\u001b[0;34m,\u001b[0m \u001b[0mfood_name_folder\u001b[0m\u001b[0;34m)\u001b[0m\u001b[0;34m\u001b[0m\u001b[0m\n\u001b[0;32m----> 5\u001b[0;31m     \u001b[0mos\u001b[0m\u001b[0;34m.\u001b[0m\u001b[0mchdir\u001b[0m\u001b[0;34m(\u001b[0m\u001b[0mfood_folder\u001b[0m\u001b[0;34m)\u001b[0m\u001b[0;34m\u001b[0m\u001b[0m\n\u001b[0m\u001b[1;32m      6\u001b[0m     \u001b[0;31m#print(food_folder)\u001b[0m\u001b[0;34m\u001b[0m\u001b[0;34m\u001b[0m\u001b[0m\n\u001b[1;32m      7\u001b[0m     \u001b[0mcount\u001b[0m \u001b[0;34m=\u001b[0m \u001b[0;36m1\u001b[0m\u001b[0;34m\u001b[0m\u001b[0m\n",
      "\u001b[0;31mFileNotFoundError\u001b[0m: [Errno 2] No such file or directory: '/Users/NidhiAneja/Documents/AI/Cafeteria/OpenCV-Python-Series-master/food_final_4/train/C'"
     ]
    }
   ],
   "source": [
    "\n",
    "for food_name_folder in gen_lst1:\n",
    "    food_folder = os.path.join(gen_lst, food_name_folder)\n",
    "    test_folder_final = os.path.join(test_folder, food_name_folder)\n",
    "    os.chdir(food_folder)\n",
    "    #print(food_folder)\n",
    "    count = 1\n",
    "    while count < 30:\n",
    "        x = os.path.realpath(random.choice(os.listdir(food_folder)))\n",
    "        print(x)\n",
    "        if x.endswith(\".DS_Store\"):\n",
    "            count += 1\n",
    "        else:    \n",
    "            shutil.move(x,test_folder_final)\n",
    "            count += 1"
   ]
  },
  {
   "cell_type": "markdown",
   "metadata": {},
   "source": [
    "# CODE for my own things\n"
   ]
  },
  {
   "cell_type": "code",
   "execution_count": null,
   "metadata": {},
   "outputs": [],
   "source": [
    "gen_lst = '/Users/NidhiAneja/Documents/AI/Cafeteria/OpenCV-Python-Series-master/food_final/train/'\n",
    "test_folder = '/Users/NidhiAneja/Documents/AI/Cafeteria/OpenCV-Python-Series-master/food_final/test'\n",
    "for food_name_folder in os.listdir(gen_lst):\n",
    "    food_folder = os.path.join(gen_lst, food_name_folder)\n",
    "    test_folder_final = os.path.join(test_folder, food_name_folder)\n",
    "    os.chdir(food_folder)\n",
    "    #print(food_folder)\n",
    "    count = 1\n",
    "    while count < 25:\n",
    "        x = os.path.realpath(random.choice(os.listdir(food_folder)))\n",
    "        print(x)\n",
    "        shutil.move(x,test_folder_final)\n",
    "        count += 1"
   ]
  },
  {
   "cell_type": "code",
   "execution_count": null,
   "metadata": {},
   "outputs": [],
   "source": []
  },
  {
   "cell_type": "code",
   "execution_count": null,
   "metadata": {},
   "outputs": [],
   "source": []
  },
  {
   "cell_type": "code",
   "execution_count": null,
   "metadata": {},
   "outputs": [],
   "source": []
  },
  {
   "cell_type": "code",
   "execution_count": null,
   "metadata": {},
   "outputs": [],
   "source": []
  }
 ],
 "metadata": {
  "kernelspec": {
   "display_name": "Python 3",
   "language": "python",
   "name": "python3"
  },
  "language_info": {
   "codemirror_mode": {
    "name": "ipython",
    "version": 3
   },
   "file_extension": ".py",
   "mimetype": "text/x-python",
   "name": "python",
   "nbconvert_exporter": "python",
   "pygments_lexer": "ipython3",
   "version": "3.6.5"
  }
 },
 "nbformat": 4,
 "nbformat_minor": 2
}
