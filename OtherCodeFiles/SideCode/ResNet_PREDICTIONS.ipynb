{
 "cells": [
  {
   "cell_type": "code",
   "execution_count": 1,
   "metadata": {},
   "outputs": [],
   "source": [
    "import os\n",
    "import pandas as pd"
   ]
  },
  {
   "cell_type": "code",
   "execution_count": 2,
   "metadata": {},
   "outputs": [
    {
     "name": "stdout",
     "output_type": "stream",
     "text": [
      "Requirement already satisfied: imageai==2.0.2 from https://github.com/OlafenwaMoses/ImageAI/releases/download/2.0.2/imageai-2.0.2-py3-none-any.whl in /usr/local/lib/python3.7/site-packages (2.0.2)\r\n"
     ]
    }
   ],
   "source": [
    "# LOAD TO RUN IMAGE AI LIBRARY\n",
    "!pip3 install https://github.com/OlafenwaMoses/ImageAI/releases/download/2.0.2/imageai-2.0.2-py3-none-any.whl"
   ]
  },
  {
   "cell_type": "code",
   "execution_count": 3,
   "metadata": {},
   "outputs": [
    {
     "name": "stderr",
     "output_type": "stream",
     "text": [
      "/anaconda3/lib/python3.6/site-packages/h5py/__init__.py:36: FutureWarning: Conversion of the second argument of issubdtype from `float` to `np.floating` is deprecated. In future, it will be treated as `np.float64 == np.dtype(float).type`.\n",
      "  from ._conv import register_converters as _register_converters\n"
     ]
    }
   ],
   "source": [
    "from imageai.Prediction.Custom import ModelTraining\n"
   ]
  },
  {
   "cell_type": "code",
   "execution_count": 5,
   "metadata": {},
   "outputs": [
    {
     "data": {
      "text/plain": [
       "['model_ex-024_acc-1.000000.h5']"
      ]
     },
     "execution_count": 5,
     "metadata": {},
     "output_type": "execute_result"
    }
   ],
   "source": [
    "execution_path='/Users/NidhiAneja/Documents/AI/IMAGE_AI/ImageAI-master/ImageAI-1.0/ImagesF2/'\n",
    "#os.listdir(os.path.join(execution_path, \"imagesF1/models/\"))\n",
    "os.listdir(os.path.join(execution_path, \"models\"))"
   ]
  },
  {
   "cell_type": "code",
   "execution_count": 6,
   "metadata": {},
   "outputs": [],
   "source": [
    "from imageai.Prediction.Custom import CustomImagePrediction\n",
    "prediction = CustomImagePrediction()\n",
    "\n",
    "prediction.setModelTypeAsResNet()\n",
    "\n",
    "prediction.setModelPath(os.path.join(execution_path, \"models/model_ex-024_acc-1.000000.h5\") )\n",
    "prediction.setJsonPath(os.path.join(execution_path, \"json/model_class.json\"))\n",
    "\n",
    "prediction.loadModel(num_objects=6)"
   ]
  },
  {
   "cell_type": "code",
   "execution_count": 9,
   "metadata": {},
   "outputs": [
    {
     "data": {
      "text/plain": [
       "'/Users/NidhiAneja/Documents/AI/IMAGE_AI/ImageAI-master/ImageAI-1.0/ImagesF2/Test_images/missvickie_chips.jpg'"
      ]
     },
     "execution_count": 9,
     "metadata": {},
     "output_type": "execute_result"
    }
   ],
   "source": [
    "os.path.join(execution_path,\"Test_images\", \"missvickie_chips.jpg\")"
   ]
  },
  {
   "cell_type": "code",
   "execution_count": 10,
   "metadata": {},
   "outputs": [
    {
     "name": "stdout",
     "output_type": "stream",
     "text": [
      "cheeseitX : 99.44392442703247\n",
      "pizza : 0.38650319911539555\n",
      "MilkPx : 0.1479057827964425\n",
      "cheeriosX : 0.016360542213078588\n",
      "MilkBx : 0.003606672544265166\n"
     ]
    }
   ],
   "source": [
    "\n",
    "#predictions, probabilities = prediction.predictImage(os.path.join(execution_path, \"imagesF1/test/pizza/SZ_86_755458.png\"), result_count=2)\n",
    "predictions, probabilities =  prediction.predictImage(os.path.join(execution_path,\"Test_images\", \"test_img.png\"), result_count=5)\n",
    "for eachPrediction, eachProbability in zip(predictions, probabilities):\n",
    "    print(eachPrediction + \" : \" + eachProbability)"
   ]
  },
  {
   "cell_type": "markdown",
   "metadata": {},
   "source": [
    "# predict all in a single folder"
   ]
  },
  {
   "cell_type": "markdown",
   "metadata": {},
   "source": [
    "# NOT WOKKING"
   ]
  },
  {
   "cell_type": "code",
   "execution_count": null,
   "metadata": {},
   "outputs": [],
   "source": [
    "detected_path = '/Users/sa035g2/Documents/AI/IMAGE_AI/F2/testimages2'\n",
    "detected = os.listdir(detected_path)\n",
    "detected = sorted(detected)\n",
    "del detected[0]\n",
    "detected"
   ]
  },
  {
   "cell_type": "code",
   "execution_count": null,
   "metadata": {},
   "outputs": [],
   "source": [
    "'''def Convert(string):\n",
    "    li = list(string.split())\n",
    "    return li\n",
    "Convert(str1)'''"
   ]
  },
  {
   "cell_type": "code",
   "execution_count": null,
   "metadata": {},
   "outputs": [],
   "source": []
  },
  {
   "cell_type": "code",
   "execution_count": null,
   "metadata": {},
   "outputs": [],
   "source": [
    "all_images_array = []\n",
    "all_files = os.listdir(detected_path)\n",
    "for each_file in all_files:\n",
    "    if(each_file.endswith(\".jpg\") or each_file.endswith(\".png\")):\n",
    "        all_images_array.append(each_file)\n",
    "all_images_array"
   ]
  },
  {
   "cell_type": "code",
   "execution_count": null,
   "metadata": {},
   "outputs": [],
   "source": [
    "os.chdir('/Users/sa035g2/Documents/AI/IMAGE_AI/F2/testimages2')\n",
    "results_array = prediction.predictMultipleImages(all_images_array, result_count_per_image=1)"
   ]
  },
  {
   "cell_type": "code",
   "execution_count": null,
   "metadata": {},
   "outputs": [],
   "source": [
    "save_results = []\n",
    "for i in results_array:\n",
    "    pred, prob = i[\"predictions\"], i[\"percentage_probabilities\"]\n",
    "    for idx in range(len(pred)):\n",
    "        print(pred[idx] , \" : \" , prob[idx])\n",
    "        save_results.append( (pred[idx], prob[idx]) )\n",
    "    print(\"-----------------------\")"
   ]
  },
  {
   "cell_type": "code",
   "execution_count": null,
   "metadata": {},
   "outputs": [],
   "source": [
    "save_results = []\n",
    "for i in range(len(results_array)):\n",
    "    x, predprob = all_images_array[i], results_array[i]\n",
    "    save_results.append( (x, predprob) )\n",
    "    #print(\"---x---x---x---x---x---x---\")"
   ]
  },
  {
   "cell_type": "code",
   "execution_count": null,
   "metadata": {},
   "outputs": [],
   "source": [
    "(save_results) # GET IT FIXED ***"
   ]
  },
  {
   "cell_type": "code",
   "execution_count": null,
   "metadata": {},
   "outputs": [],
   "source": [
    "import pandas as pd\n",
    "fileoutput = open(\"/Users/sa035g2/Documents/AI/IMAGE_AI/F2/save_results.csv\", \"w\")\n",
    "\n",
    "for item in save_results:    \n",
    "    teststring = item[0]\n",
    "    for key,value in item[1].items():\n",
    "        \n",
    "        teststring = teststring + ',' + '{}'.format(' '.join(value))\n",
    "    #print((teststring))\n",
    "    fileoutput.write(teststring + \"\\n\")\n",
    "fileoutput.close()\n",
    "\n",
    "#SORT AND DISTINCT\n",
    "\n",
    "\n",
    "df = pd.read_csv(\"/Users/sa035g2/Documents/AI/IMAGE_AI/F2/save_results.csv\", header=None)\n",
    "df.columns = ['image_name','probability','prediction']\n",
    "df.head()\n"
   ]
  },
  {
   "cell_type": "code",
   "execution_count": null,
   "metadata": {},
   "outputs": [],
   "source": [
    "df = df.sort_values(['prediction', 'probability'], ascending= False)\n",
    "df"
   ]
  },
  {
   "cell_type": "code",
   "execution_count": null,
   "metadata": {},
   "outputs": [],
   "source": [
    "df1 = df.drop_duplicates('prediction')\n",
    "df1"
   ]
  },
  {
   "cell_type": "code",
   "execution_count": null,
   "metadata": {},
   "outputs": [],
   "source": [
    "'''# OTHER OPERATORS\n",
    "1. SORTED (highest probability by item)\n",
    "2. UNIQUE item\n",
    "3. APPEND TIME STAMP\n",
    "4. NAME (sequence for now)\n",
    "5. upload this to a database file on cloud\n",
    "# get train test files separated\n",
    "# 1. CONVERT DICT TO A DATA FRAME\n",
    "# 2. DOWNLOAD FILE \n",
    "'''\n"
   ]
  }
 ],
 "metadata": {
  "kernelspec": {
   "display_name": "Python 3",
   "language": "python",
   "name": "python3"
  },
  "language_info": {
   "codemirror_mode": {
    "name": "ipython",
    "version": 3
   },
   "file_extension": ".py",
   "mimetype": "text/x-python",
   "name": "python",
   "nbconvert_exporter": "python",
   "pygments_lexer": "ipython3",
   "version": "3.6.5"
  }
 },
 "nbformat": 4,
 "nbformat_minor": 2
}
