{
 "cells": [
  {
   "cell_type": "markdown",
   "metadata": {},
   "source": [
    "# Goes through all folder and change to 1-x"
   ]
  },
  {
   "cell_type": "markdown",
   "metadata": {},
   "source": [
    "# Need both functions becuase the number is sometimes already there"
   ]
  },
  {
   "cell_type": "code",
   "execution_count": 1,
   "metadata": {},
   "outputs": [],
   "source": [
    "import os "
   ]
  },
  {
   "cell_type": "code",
   "execution_count": 33,
   "metadata": {},
   "outputs": [
    {
     "name": "stdout",
     "output_type": "stream",
     "text": [
      "/Users/NidhiAneja/Documents/AI/Cafeteria/OpenCV-Python-Series-master/src_final/final_ph_out/0328/0328Face/Srit/srit_942\n",
      "/Users/NidhiAneja/Documents/AI/Cafeteria/OpenCV-Python-Series-master/src_final/final_ph_out/0328/0328Face/Srit/srit_942\n",
      "/Users/NidhiAneja/Documents/AI/Cafeteria/OpenCV-Python-Series-master/src_final/final_ph_out/0328/0328Face/Srit/srit_942\n",
      "163.jpg\n",
      "164.jpg\n",
      "165.jpg\n",
      "166.jpg\n",
      "167.jpg\n",
      "168.jpg\n",
      "169.jpg\n",
      "170.jpg\n",
      "171.jpg\n",
      "172.jpg\n",
      "173.jpg\n",
      "174.jpg\n",
      "175.jpg\n",
      "176.jpg\n",
      "177.jpg\n",
      "178.jpg\n"
     ]
    }
   ],
   "source": [
    "file_path_thing = '/Users/NidhiAneja/Documents/AI/Cafeteria/OpenCV-Python-Series-master/src_final/final_ph_out/0328/0328Face/Srit/'\n",
    "os.chdir(file_path_thing)\n",
    "print(os.getcwd()) \n",
    "COUNT = 0\n",
    "os.chdir(file_path_thing) \n",
    "print(os.getcwd()) \n",
    "COUNT = 0\n",
    "for f in os.listdir(): \n",
    "    f_name, f_ext = os.path.splitext(f)\n",
    "    f_name = str(COUNT) \n",
    "    COUNT = COUNT + 1\n",
    "    new_name = 'nametochangetest{}.jpg'.format(f_name) \n",
    "    os.rename(f, new_name)\n",
    "    \n",
    "os.chdir(file_path_thing)\n",
    "print(os.getcwd()) \n",
    "COUNT = 179\n",
    "def increment(): \n",
    "    global COUNT \n",
    "    COUNT = COUNT + 1\n",
    "  \n",
    "  \n",
    "for f in os.listdir(): \n",
    "    f_name = os.path.splitext(f) \n",
    "    f_name = \"\" + str(COUNT) \n",
    "    increment() \n",
    "  \n",
    "    new_name = '{}.jpg'.format(f_name) \n",
    "    os.rename(f, new_name)\n",
    "    print(new_name)"
   ]
  },
  {
   "cell_type": "code",
   "execution_count": null,
   "metadata": {},
   "outputs": [],
   "source": [
    "file_path_thing = '/Users/NidhiAneja/Documents/AI/Cafeteria/OpenCV-Python-Series-master/src_final/final_ph_out/0328/0328Face/Srit/'\n",
    "os.chdir(file_path_thing)\n",
    "print(os.getcwd()) \n",
    "COUNT = 0\n",
    "os.chdir(file_path_thing) \n",
    "print(os.getcwd()) \n",
    "COUNT = 0\n",
    "for f in os.listdir(): \n",
    "    f_name, f_ext = os.path.splitext(f)\n",
    "    f_name = str(COUNT) \n",
    "    COUNT = COUNT + 1\n",
    "    new_name = 'nametochangetest{}.jpg'.format(f_name) \n",
    "    os.rename(f, new_name)\n",
    "    \n",
    "os.chdir(file_path_thing)\n",
    "print(os.getcwd()) \n",
    "COUNT = 141\n",
    "def increment(): \n",
    "    global COUNT \n",
    "    COUNT = COUNT + 1\n",
    "  \n",
    "  \n",
    "for f in os.listdir(): \n",
    "    f_name = os.path.splitext(f) \n",
    "    f_name = \"\" + str(COUNT) \n",
    "    increment() \n",
    "  \n",
    "    new_name = '{}.jpg'.format(f_name) \n",
    "    os.rename(f, new_name)\n",
    "    print(new_name)"
   ]
  }
 ],
 "metadata": {
  "kernelspec": {
   "display_name": "Python 3",
   "language": "python",
   "name": "python3"
  },
  "language_info": {
   "codemirror_mode": {
    "name": "ipython",
    "version": 3
   },
   "file_extension": ".py",
   "mimetype": "text/x-python",
   "name": "python",
   "nbconvert_exporter": "python",
   "pygments_lexer": "ipython3",
   "version": "3.7.3"
  }
 },
 "nbformat": 4,
 "nbformat_minor": 2
}
