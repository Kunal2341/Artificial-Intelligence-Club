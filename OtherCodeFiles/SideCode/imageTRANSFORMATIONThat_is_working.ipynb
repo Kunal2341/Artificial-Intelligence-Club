{
 "cells": [
  {
   "cell_type": "markdown",
   "metadata": {},
   "source": [
    "# Transform all images -- output dir needs to be worked on "
   ]
  },
  {
   "cell_type": "code",
   "execution_count": 1,
   "metadata": {},
   "outputs": [],
   "source": [
    "#---------------- Just need to put images into the in img"
   ]
  },
  {
   "cell_type": "code",
   "execution_count": 2,
   "metadata": {},
   "outputs": [
    {
     "name": "stderr",
     "output_type": "stream",
     "text": [
      "/anaconda3/lib/python3.6/site-packages/h5py/__init__.py:36: FutureWarning: Conversion of the second argument of issubdtype from `float` to `np.floating` is deprecated. In future, it will be treated as `np.float64 == np.dtype(float).type`.\n",
      "  from ._conv import register_converters as _register_converters\n",
      "Using TensorFlow backend.\n"
     ]
    }
   ],
   "source": [
    "from keras.preprocessing import image\n",
    "import os\n",
    "import matplotlib.pyplot as plt\n",
    "from keras.preprocessing.image import ImageDataGenerator\n",
    "import sys\n",
    "import numpy as np\n",
    "import shutil"
   ]
  },
  {
   "cell_type": "code",
   "execution_count": 168,
   "metadata": {},
   "outputs": [],
   "source": [
    "dir = '/Users/NidhiAneja/Documents/AI/Cafeteria/OpenCV-Python-Series-master/src/images/Test_img_Output/'\n",
    "number_img = 3"
   ]
  },
  {
   "cell_type": "code",
   "execution_count": 169,
   "metadata": {},
   "outputs": [],
   "source": [
    "if(os.path.exists(dir) == False):\n",
    "    os.mkdir(dir)"
   ]
  },
  {
   "cell_type": "code",
   "execution_count": 170,
   "metadata": {},
   "outputs": [
    {
     "name": "stdout",
     "output_type": "stream",
     "text": [
      "/Users/NidhiAneja/Documents/AI/Cafeteria/OpenCV-Python-Series-master/src/images\n"
     ]
    }
   ],
   "source": [
    "os.chdir('/Users/NidhiAneja/Documents/AI/Cafeteria/OpenCV-Python-Series-master/src/images/')\n",
    "ex_path = os.getcwd()\n",
    "print(ex_path)\n",
    "in_img = os.path.join(ex_path, 'Test_img')\n",
    "out_img = os.path.join(ex_path, 'Test_img_Output')"
   ]
  },
  {
   "cell_type": "code",
   "execution_count": 171,
   "metadata": {},
   "outputs": [],
   "source": [
    "if(os.path.exists(out_img) == False):\n",
    "    os.mkdir(out_img)"
   ]
  },
  {
   "cell_type": "code",
   "execution_count": 172,
   "metadata": {},
   "outputs": [
    {
     "data": {
      "text/plain": [
       "['Kunal', 'Nikolaj-coster-waldau', 'Peter-dinklage', 'Sahil']"
      ]
     },
     "execution_count": 172,
     "metadata": {},
     "output_type": "execute_result"
    }
   ],
   "source": [
    "thelist = os.listdir(os.path.join(ex_path, \"Test_img\"))\n",
    "thelist = sorted(thelist)\n",
    "del thelist[0]\n",
    "thelist"
   ]
  },
  {
   "cell_type": "code",
   "execution_count": 173,
   "metadata": {},
   "outputs": [],
   "source": [
    "os.chdir('/Users/NidhiAneja/Documents/AI/Cafeteria/OpenCV-Python-Series-master/src/images/')"
   ]
  },
  {
   "cell_type": "code",
   "execution_count": 174,
   "metadata": {},
   "outputs": [],
   "source": [
    "datagen = ImageDataGenerator(rotation_range = 40,\n",
    "                            width_shift_range = 0.2,\n",
    "                            height_shift_range = 0.2,\n",
    "                            shear_range = 0.2,\n",
    "                            zoom_range = 0.2,\n",
    "                            horizontal_flip = True,\n",
    "                            fill_mode = 'nearest')"
   ]
  },
  {
   "cell_type": "code",
   "execution_count": 175,
   "metadata": {},
   "outputs": [
    {
     "name": "stdout",
     "output_type": "stream",
     "text": [
      "Found 16 images belonging to 1 classes.\n",
      "Found 4 images belonging to 1 classes.\n",
      "Found 6 images belonging to 1 classes.\n",
      "Found 12 images belonging to 1 classes.\n"
     ]
    }
   ],
   "source": [
    "for i in range(len(thelist)):\n",
    "    datagen = image.ImageDataGenerator()\n",
    "    go_in_folder = os.path.join(in_img, in_img)\n",
    "    gen_data = datagen.flow_from_directory(os.path.join(in_img, thelist[i]),\n",
    "                                           batch_size = 1, \n",
    "                                           shuffle = False,\n",
    "                                           save_to_dir= os.path.join(go_in_folder, thelist[i]),\n",
    "                                           save_prefix = 'test',\n",
    "                                           target_size=(244,244))\n",
    "    order_list = list(np.random.permutation(100))\n",
    "    for j in range(number_img):\n",
    "        gen_data.next()\n",
    "                                    "
   ]
  },
  {
   "cell_type": "code",
   "execution_count": null,
   "metadata": {},
   "outputs": [],
   "source": []
  }
 ],
 "metadata": {
  "kernelspec": {
   "display_name": "Python 3",
   "language": "python",
   "name": "python3"
  },
  "language_info": {
   "codemirror_mode": {
    "name": "ipython",
    "version": 3
   },
   "file_extension": ".py",
   "mimetype": "text/x-python",
   "name": "python",
   "nbconvert_exporter": "python",
   "pygments_lexer": "ipython3",
   "version": "3.6.5"
  }
 },
 "nbformat": 4,
 "nbformat_minor": 2
}
