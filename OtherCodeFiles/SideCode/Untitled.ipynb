{
 "cells": [
  {
   "cell_type": "code",
   "execution_count": 5,
   "metadata": {},
   "outputs": [],
   "source": [
    "\n",
    "folder = '/Users/NidhiAneja/Documents/AI/IMAGE_TEST/Kunal/'\n",
    "for the_file in os.listdir(folder):\n",
    "    file_path = os.path.join(folder, the_file)\n",
    "    try:\n",
    "        if os.path.isfile(file_path):\n",
    "            os.unlink(file_path)"
   ]
  },
  {
   "cell_type": "code",
   "execution_count": null,
   "metadata": {},
   "outputs": [],
   "source": [
    "import os\n",
    "import glob\n",
    "\n",
    "files = glob.glob('/YOUR/PATH/*')\n",
    "for f in files:\n",
    "    os.remove(f)"
   ]
  },
  {
   "cell_type": "code",
   "execution_count": 7,
   "metadata": {},
   "outputs": [],
   "source": [
    "import matplotlib\n",
    "matplotlib.use('Agg')\n",
    "import matplotlib.pyplot as plt\n",
    "plt.plot([1,2,3])\n",
    "plt.savefig('/Users/NidhiAneja/Documents/AI/Justin/OpenCV-Python-Series-master/src/images/Kunal/1.jpg')"
   ]
  },
  {
   "cell_type": "code",
   "execution_count": null,
   "metadata": {},
   "outputs": [],
   "source": [
    "import cv2\n",
    "import numpy as np\n",
    "import time\n",
    "\n",
    "headcc = cv2.CascadeClassifier('lib/heads_cascade.xml')\n",
    "cap = cv2.VideoCapture(0)\n",
    "fps = cap.get(cv2.CAP_PROP_POS_FRAMES)\n",
    "\n",
    "def video():\n",
    "    ret, frame = cap.read()\n",
    "\n",
    "    # gray = cv2.cvtColor(frame, cv2.COLOR_BGR2GRAY)\n",
    "\n",
    "    #head = headcc.detectMultiScale(frame, 1.2, 2, 0 , (20, 20), (40, 40))\n",
    "\n",
    "    # print type(head)\n",
    "    # print head\n",
    "    # print head.shape\n",
    "    print (\"Number of heads detected: \" + str(head.shape[0]))\n",
    "\n",
    "    if len(head) > 0:\n",
    "        for (x, y, w, h) in head:\n",
    "            cv2.rectangle(frame, (x,y), (x+w, y+h), (0, 255, 255), 1)\n",
    "\n",
    "    # cv2.rectangle(frame, ((0,frame.shape[0] -25)),(270, frame.shape[0]), (255,255,255), -1)\n",
    "    # cv2.putText(frame, \"Number of head detected: \" + str(head.shape[0]), (0,frame.shape[0] -10), cv2.FONT_HERSHEY_TRIPLEX, 0.5,  (0,0,0), 1)\n",
    "\n",
    "    cv2.namedWindow('Camera',cv2.WINDOW_NORMAL)\n",
    "    cv2.imshow('Camera',frame)\n",
    "\n",
    "\n",
    "while(cap.isOpened()):\n",
    "    #video()\n",
    "    cf = cap.get(cv2.CAP_PROP_POS_FRAMES) - 1\n",
    "    cap.set(cv2.CAP_PROP_POS_FRAMES, cf+50)\n",
    "    # cv2.setTrackbarPos(\"pos_trackbar\", \"Frame Grabber\", \n",
    "int(cap.get(cv2.CAP_PROP_FPS))\n",
    "time.sleep(2)\n",
    "\n",
    "print (fps)\n"
   ]
  },
  {
   "cell_type": "code",
   "execution_count": null,
   "metadata": {},
   "outputs": [],
   "source": [
    "cap.release()\n",
    "cv2.destroyAllWindows()"
   ]
  },
  {
   "cell_type": "code",
   "execution_count": null,
   "metadata": {},
   "outputs": [],
   "source": []
  }
 ],
 "metadata": {
  "kernelspec": {
   "display_name": "Python 3",
   "language": "python",
   "name": "python3"
  },
  "language_info": {
   "codemirror_mode": {
    "name": "ipython",
    "version": 3
   },
   "file_extension": ".py",
   "mimetype": "text/x-python",
   "name": "python",
   "nbconvert_exporter": "python",
   "pygments_lexer": "ipython3",
   "version": "3.6.5"
  }
 },
 "nbformat": 4,
 "nbformat_minor": 2
}
