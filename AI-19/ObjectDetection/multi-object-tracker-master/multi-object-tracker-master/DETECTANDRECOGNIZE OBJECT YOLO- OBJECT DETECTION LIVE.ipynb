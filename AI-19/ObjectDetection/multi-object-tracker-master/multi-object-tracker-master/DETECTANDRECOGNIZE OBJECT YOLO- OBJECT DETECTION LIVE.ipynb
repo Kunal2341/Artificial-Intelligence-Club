{
 "cells": [
  {
   "cell_type": "code",
   "execution_count": 1,
   "metadata": {},
   "outputs": [],
   "source": [
    "import cv2 as cv\n",
    "from scipy.spatial import distance\n",
    "import numpy as np\n",
    "from collections import OrderedDict"
   ]
  },
  {
   "cell_type": "markdown",
   "metadata": {},
   "source": [
    "##### Object Tracking Class"
   ]
  },
  {
   "cell_type": "code",
   "execution_count": 2,
   "metadata": {},
   "outputs": [],
   "source": [
    "class Tracker:\n",
    "    def __init__(self, maxLost = 30):           # maxLost: maximum object lost counted when the object is being tracked\n",
    "        self.nextObjectID = 0                   # ID of next object\n",
    "        self.objects = OrderedDict()            # stores ID:Locations\n",
    "        self.lost = OrderedDict()               # stores ID:Lost_count\n",
    "        \n",
    "        self.maxLost = maxLost                  # maximum number of frames object was not detected.\n",
    "        \n",
    "    def addObject(self, new_object_location):\n",
    "        self.objects[self.nextObjectID] = new_object_location    # store new object location\n",
    "        self.lost[self.nextObjectID] = 0                         # initialize frame_counts for when new object is undetected\n",
    "        \n",
    "        self.nextObjectID += 1\n",
    "    \n",
    "    def removeObject(self, objectID):                          # remove tracker data after object is lost\n",
    "        del self.objects[objectID]\n",
    "        del self.lost[objectID]\n",
    "    \n",
    "    @staticmethod\n",
    "    def getLocation(bounding_box):\n",
    "        xlt, ylt, xrb, yrb = bounding_box\n",
    "        return (int((xlt + xrb) / 2.0), int((ylt + yrb) / 2.0))\n",
    "    \n",
    "    def update(self,  detections):\n",
    "        \n",
    "        if len(detections) == 0:   # if no object detected in the frame\n",
    "            for objectID in self.lost.keys():\n",
    "                self.lost[objectID] +=1\n",
    "                if self.lost[objectID] > self.maxLost: self.removeObject(objectID)\n",
    "            \n",
    "            return self.objects\n",
    "        \n",
    "        new_object_locations = np.zeros((len(detections), 2), dtype=\"int\")     # current object locations\n",
    "        \n",
    "        for (i, detection) in enumerate(detections): new_object_locations[i] = self.getLocation(detection)\n",
    "            \n",
    "        if len(self.objects)==0:\n",
    "            for i in range(0, len(detections)): self.addObject(new_object_locations[i])\n",
    "        else:\n",
    "            objectIDs = list(self.objects.keys())\n",
    "            previous_object_locations = np.array(list(self.objects.values()))\n",
    "            \n",
    "            D = distance.cdist(previous_object_locations, new_object_locations) # pairwise distance between previous and current\n",
    "            \n",
    "            row_idx = D.min(axis=1).argsort()   # (minimum distance of previous from current).sort_as_per_index\n",
    "            \n",
    "            cols_idx = D.argmin(axis=1)[row_idx]   # index of minimum distance of previous from current\n",
    "            \n",
    "            assignedRows, assignedCols = set(), set()\n",
    "            \n",
    "            for (row, col) in zip(row_idx, cols_idx):\n",
    "                \n",
    "                if row in assignedRows or col in assignedCols:\n",
    "                    continue\n",
    "                \n",
    "                objectID = objectIDs[row]\n",
    "                self.objects[objectID] = new_object_locations[col]\n",
    "                self.lost[objectID] = 0\n",
    "                \n",
    "                assignedRows.add(row)\n",
    "                assignedCols.add(col)\n",
    "                \n",
    "            unassignedRows = set(range(0, D.shape[0])).difference(assignedRows)\n",
    "            unassignedCols = set(range(0, D.shape[1])).difference(assignedCols)\n",
    "            \n",
    "            \n",
    "            if D.shape[0]>=D.shape[1]:\n",
    "                for row in unassignedRows:\n",
    "                    objectID = objectIDs[row]\n",
    "                    self.lost[objectID] += 1\n",
    "                    \n",
    "                    if self.lost[objectID] > self.maxLost:\n",
    "                        self.removeObject(objectID)\n",
    "                        \n",
    "            else:\n",
    "                for col in unassignedCols:\n",
    "                    self.addObject(new_object_locations[col])\n",
    "            \n",
    "        return self.objects\n"
   ]
  },
  {
   "cell_type": "markdown",
   "metadata": {},
   "source": [
    "#### Loading Object Detector Model"
   ]
  },
  {
   "cell_type": "markdown",
   "metadata": {},
   "source": [
    "##### YOLO Object Detection and Tracking\n",
    "\n",
    "Here, the YOLO Object Detection Model is used.\n",
    "\n",
    "The pre-trained model is from following link:\n",
    " - Object detection is taken from the following work:  \n",
    "     **Redmon, J., & Farhadi, A. (2018). Yolov3: An incremental improvement. arXiv preprint arXiv:1804.02767.**\n",
    " - Research paper for YOLO object detections and its improvement can be found here: https://arxiv.org/abs/1804.02767\n",
    " - Refer the following link for more details on the network: https://pjreddie.com/darknet/yolo/\n",
    " - The weights and configuration files can be downloaded and stored in a folder.\n",
    " - Weights: https://pjreddie.com/media/files/yolov3.weights"
   ]
  },
  {
   "cell_type": "code",
   "execution_count": 3,
   "metadata": {},
   "outputs": [],
   "source": [
    "import os"
   ]
  },
  {
   "cell_type": "code",
   "execution_count": 4,
   "metadata": {},
   "outputs": [],
   "source": [
    "cfg = '/Users/kunal/Documents/AI-19/ObjectDetection/multi-object-tracker-master/multi-object-tracker-master/yolo_dir/yolov3.cfg'\n",
    "\n",
    "weights = '/Users/kunal/Documents/AI-19/ObjectDetection/multi-object-tracker-master/multi-object-tracker-master/yolo_dir/yolov3.weights'\n",
    "\n",
    "names = '/Users/kunal/Documents/AI-19/ObjectDetection/multi-object-tracker-master/multi-object-tracker-master/yolo_dir/coco.names'"
   ]
  },
  {
   "cell_type": "code",
   "execution_count": null,
   "metadata": {},
   "outputs": [],
   "source": []
  },
  {
   "cell_type": "code",
   "execution_count": 5,
   "metadata": {},
   "outputs": [],
   "source": [
    "    yolomodel = {\"config_path\":cfg,\n",
    "                  \"model_weights_path\":weights,\n",
    "                  \"coco_names\":names,\n",
    "                  \"confidence_threshold\": 0.5,\n",
    "                  \"threshold\":0.3\n",
    "                 }\n",
    "\n",
    "    net = cv.dnn.readNetFromDarknet(yolomodel[\"config_path\"], yolomodel[\"model_weights_path\"])\n",
    "    labels = open(yolomodel[\"coco_names\"]).read().strip().split(\"\\n\")"
   ]
  },
  {
   "cell_type": "code",
   "execution_count": 6,
   "metadata": {
    "scrolled": true
   },
   "outputs": [
    {
     "name": "stdout",
     "output_type": "stream",
     "text": [
      "['yolo_82', 'yolo_94', 'yolo_106']\n"
     ]
    }
   ],
   "source": [
    "np.random.seed(12345)\n",
    "layer_names = net.getLayerNames()\n",
    "layer_names = [layer_names[i[0]-1] for i in net.getUnconnectedOutLayers()]\n",
    "print(layer_names)\n",
    "\n",
    "bbox_colors = np.random.randint(0, 255, size=(len(labels), 3))"
   ]
  },
  {
   "cell_type": "markdown",
   "metadata": {},
   "source": [
    "##### Instantiate the Tracker Class"
   ]
  },
  {
   "cell_type": "code",
   "execution_count": 7,
   "metadata": {},
   "outputs": [],
   "source": [
    "maxLost = 5   # maximum number of object losts counted when the object is being tracked\n",
    "tracker = Tracker(maxLost = maxLost)"
   ]
  },
  {
   "cell_type": "markdown",
   "metadata": {},
   "source": [
    "##### Initiate opencv video capture object\n",
    "\n",
    "The `video_src` can take two values:\n",
    "1. If `video_src=0`: OpenCV accesses the camera connected through USB\n",
    "2. If `video_src='video_file_path'`: OpenCV will access the video file at the given path (can be MP4, AVI, etc format)"
   ]
  },
  {
   "cell_type": "markdown",
   "metadata": {},
   "source": [
    "##### Start object detection and tracking"
   ]
  },
  {
   "cell_type": "code",
   "execution_count": 9,
   "metadata": {
    "scrolled": false
   },
   "outputs": [],
   "source": [
    "video_src = 0\n",
    "cap = cv.VideoCapture(video_src)\n",
    "(H, W) = (None, None)  # input image height and width for the network\n",
    "writer = None\n",
    "while(True):\n",
    "    \n",
    "    ok, image = cap.read()\n",
    "    \n",
    "    if not ok:\n",
    "        print(\"Cannot read the video feed.\")\n",
    "        break\n",
    "    \n",
    "    if W is None or H is None: (H, W) = image.shape[:2]\n",
    "    \n",
    "    blob = cv.dnn.blobFromImage(image, 1 / 255.0, (416, 416), swapRB=True, crop=False)\n",
    "    net.setInput(blob)\n",
    "    detections_layer = net.forward(layer_names)   # detect objects using object detection model\n",
    "    \n",
    "    detections_bbox = []     # bounding box for detections\n",
    "    \n",
    "    boxes, confidences, classIDs = [], [], []\n",
    "    for out in detections_layer:\n",
    "        for detection in out:\n",
    "            scores = detection[5:]\n",
    "            classID = np.argmax(scores)\n",
    "            confidence = scores[classID]\n",
    "            \n",
    "            if confidence > yolomodel['confidence_threshold']:\n",
    "                box = detection[0:4] * np.array([W, H, W, H])\n",
    "                (centerX, centerY, width, height) = box.astype(\"int\")\n",
    "                x = int(centerX - (width / 2))\n",
    "                y = int(centerY - (height / 2))\n",
    "                \n",
    "                boxes.append([x, y, int(width), int(height)])\n",
    "                confidences.append(float(confidence))\n",
    "                classIDs.append(classID)\n",
    "    \n",
    "    idxs = cv.dnn.NMSBoxes(boxes, confidences, yolomodel[\"confidence_threshold\"], yolomodel[\"threshold\"])\n",
    "    \n",
    "    if len(idxs)>0:\n",
    "        for i in idxs.flatten():\n",
    "            (x, y) = (boxes[i][0], boxes[i][1])\n",
    "            (w, h) = (boxes[i][2], boxes[i][3])\n",
    "            detections_bbox.append((x, y, x+w, y+h))\n",
    "            clr = [int(c) for c in bbox_colors[classIDs[i]]]\n",
    "            cv.rectangle(image, (x, y), (x+w, y+h), clr, 2)\n",
    "            cv.putText(image, \"{}: {:.4f}\".format(labels[classIDs[i]], confidences[i]),\n",
    "                      (x, y-5), cv.FONT_HERSHEY_SIMPLEX, 0.5, clr, 2)\n",
    "            #print(\"{}: {:.4f}\".format(labels[classIDs[i]], confidences[i]))\n",
    "    objects = tracker.update(detections_bbox)           # update tracker based on the newly detected objects\n",
    "    \n",
    "    for (objectID, centroid) in objects.items():\n",
    "        text = \"ID {}\".format(objectID)\n",
    "        cv.putText(image, text, (centroid[0] - 10, centroid[1] - 10), cv.FONT_HERSHEY_SIMPLEX,\n",
    "                    0.5, (0, 255, 0), 2)\n",
    "        cv.circle(image, (centroid[0], centroid[1]), 4, (0, 255, 0), -1)\n",
    "        \n",
    "    cv.imshow(\"image\", image)\n",
    "    cv.namedWindow('image',cv.WINDOW_NORMAL)\n",
    "    if cv.waitKey(1) & 0xFF == ord('q'):\n",
    "        break\n",
    "    #print(\"Detected at (x):\", centroid[0], \" and (y): \", centroid[1])\n",
    "\n",
    "    \n",
    "    #if writer is None:\n",
    "    #    fourcc = cv.VideoWriter_fourcc(*'MP4V')\n",
    "    #    writer = cv.VideoWriter(\"output.mp4\", fourcc, 30, (W*2, H*2), True)\n",
    "    #writer.write(image)\n",
    "cap.release()\n",
    "cv.destroyWindow(\"image\")"
   ]
  },
  {
   "cell_type": "code",
   "execution_count": null,
   "metadata": {},
   "outputs": [],
   "source": []
  },
  {
   "cell_type": "code",
   "execution_count": null,
   "metadata": {},
   "outputs": [],
   "source": []
  },
  {
   "cell_type": "code",
   "execution_count": null,
   "metadata": {},
   "outputs": [],
   "source": []
  },
  {
   "cell_type": "code",
   "execution_count": null,
   "metadata": {},
   "outputs": [],
   "source": []
  },
  {
   "cell_type": "code",
   "execution_count": null,
   "metadata": {},
   "outputs": [],
   "source": []
  },
  {
   "cell_type": "code",
   "execution_count": null,
   "metadata": {},
   "outputs": [],
   "source": []
  },
  {
   "cell_type": "code",
   "execution_count": null,
   "metadata": {},
   "outputs": [],
   "source": []
  },
  {
   "cell_type": "code",
   "execution_count": null,
   "metadata": {},
   "outputs": [],
   "source": []
  },
  {
   "cell_type": "code",
   "execution_count": null,
   "metadata": {},
   "outputs": [],
   "source": []
  },
  {
   "cell_type": "code",
   "execution_count": null,
   "metadata": {},
   "outputs": [],
   "source": []
  },
  {
   "cell_type": "code",
   "execution_count": null,
   "metadata": {},
   "outputs": [],
   "source": []
  }
 ],
 "metadata": {
  "kernelspec": {
   "display_name": "Python 3",
   "language": "python",
   "name": "python3"
  },
  "language_info": {
   "codemirror_mode": {
    "name": "ipython",
    "version": 3
   },
   "file_extension": ".py",
   "mimetype": "text/x-python",
   "name": "python",
   "nbconvert_exporter": "python",
   "pygments_lexer": "ipython3",
   "version": "3.7.4"
  },
  "toc": {
   "base_numbering": 1,
   "nav_menu": {},
   "number_sections": true,
   "sideBar": true,
   "skip_h1_title": false,
   "title_cell": "Table of Contents",
   "title_sidebar": "Contents",
   "toc_cell": false,
   "toc_position": {},
   "toc_section_display": true,
   "toc_window_display": false
  }
 },
 "nbformat": 4,
 "nbformat_minor": 2
}
