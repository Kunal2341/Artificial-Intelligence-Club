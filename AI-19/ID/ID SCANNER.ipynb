{
 "cells": [
  {
   "cell_type": "code",
   "execution_count": null,
   "metadata": {},
   "outputs": [],
   "source": [
    "import cv2\n",
    "import numpy as np\n",
    "import time\n",
    "import os\n",
    "import shutil\n",
    "from PIL import Image\n",
    "import psutil\n",
    "import random\n",
    "import datetime\n",
    "from pprint import pprint\n",
    "import matplotlib.pyplot as plt\n",
    "import os\n",
    "import pandas as pd\n",
    "import datetime\n",
    "import random\n",
    "import glob\n",
    "import pandas as pd\n",
    "import matplotlib.pyplot as plt\n",
    "from datetime import datetime\n",
    "from dateutil.parser import parse\n",
    "import csv\n",
    "from dfply import *\n",
    "from IPython.display import Markdown, display\n",
    "from datetime import date\n",
    "import pickle\n",
    "import jupyternotify\n",
    "%load_ext jupyternotify"
   ]
  },
  {
   "cell_type": "code",
   "execution_count": null,
   "metadata": {},
   "outputs": [],
   "source": [
    "def extract_image_one_fps(video_source_path):\n",
    "    vidcap = cv2.VideoCapture(video_source_path)\n",
    "    count = 0\n",
    "    success = True\n",
    "    while success:\n",
    "        vidcap.set(cv2.CAP_PROP_POS_MSEC,(count*numsec)) # 2 second***   \n",
    "        success,image = vidcap.read()\n",
    "        ## Stop when last frame is identified\n",
    "        image_last = cv2.imread(\"frame{}.png\".format(count-1))\n",
    "        if np.array_equal(image, image_last):\n",
    "            break\n",
    "        cv2.imwrite(\"frame%d.png\" % count, image)     # save frame as PNG file\n",
    "        print( '{}.sec reading a new frame:{}'.format(count,success))\n",
    "        count += 1"
   ]
  },
  {
   "cell_type": "code",
   "execution_count": null,
   "metadata": {},
   "outputs": [],
   "source": [
    "#FUNCTION FOR ROTATION\n",
    "#--------\n",
    "def rotate_image(image,deg):\n",
    "    if deg ==90:\n",
    "        return np.rot90(image)\n",
    "    if deg ==180:\n",
    "        return np.rot90(image,2)\n",
    "    if deg == 270:\n",
    "        return np.rot90(image,-1) #Reverse 90 deg rotation\n",
    "#--------  "
   ]
  },
  {
   "cell_type": "code",
   "execution_count": null,
   "metadata": {},
   "outputs": [],
   "source": [
    "def printmd(string):\n",
    "    display(Markdown(string))\n",
    "#printmd(\"<span style='color:blue'>Red text</span>\")\n",
    "def printmd(string):\n",
    "    display(Markdown(string))\n",
    "#printmd('**bold**')"
   ]
  },
  {
   "cell_type": "code",
   "execution_count": null,
   "metadata": {},
   "outputs": [],
   "source": [
    "student_name = 'ID' ## FIXED NAME AT THIS STAGE input()   "
   ]
  },
  {
   "cell_type": "code",
   "execution_count": null,
   "metadata": {},
   "outputs": [],
   "source": [
    "# AUTO POPULATE FILE TYPE (mp4, avi, MOV etc.)\n",
    "x = os.listdir(os.path.join(base_dir, 'CAFETERIA'))\n",
    "matching = [s for s in x if \"CAFETERIA\" in s]\n",
    "filename, V_FORMAT = os.path.splitext(matching[0])\n",
    "print(\"V_FORMAT: \",V_FORMAT)\n",
    "#-----\n",
    "cap = cv2.VideoCapture(os.path.join(base_dir, student_name, \"CAFETERIA\" + V_FORMAT ) )\n",
    "video_length = int(cap.get(cv2.CAP_PROP_FRAME_COUNT)) - 1\n",
    "print(\"video length:\", video_length)\n",
    "#----\n",
    "os.chdir(os.path.join(os.path.join(base_dir,  student_name) ) )\n",
    "extract_image_one_fps('CAFETERIA'+ V_FORMAT)\n",
    "#----\n",
    "video_length = int(cap.get(cv2.CAP_PROP_FRAME_COUNT)) - 1\n",
    "try: \n",
    "    video_length > 96 \n",
    "    print(\"VIDEO SIZE \", video_length, \" FRAMES\")\n",
    "except ValueError:\n",
    "    print('Oops! That was an invalid recording. Check the webcam setting and try again')\n",
    "else:\n",
    "    print('Thank you.')"
   ]
  },
  {
   "cell_type": "code",
   "execution_count": null,
   "metadata": {},
   "outputs": [],
   "source": []
  },
  {
   "cell_type": "code",
   "execution_count": null,
   "metadata": {},
   "outputs": [],
   "source": []
  },
  {
   "cell_type": "code",
   "execution_count": null,
   "metadata": {},
   "outputs": [],
   "source": []
  },
  {
   "cell_type": "code",
   "execution_count": null,
   "metadata": {},
   "outputs": [],
   "source": []
  },
  {
   "cell_type": "code",
   "execution_count": null,
   "metadata": {},
   "outputs": [],
   "source": []
  },
  {
   "cell_type": "code",
   "execution_count": null,
   "metadata": {},
   "outputs": [],
   "source": []
  },
  {
   "cell_type": "code",
   "execution_count": null,
   "metadata": {},
   "outputs": [],
   "source": []
  },
  {
   "cell_type": "code",
   "execution_count": null,
   "metadata": {},
   "outputs": [],
   "source": []
  },
  {
   "cell_type": "code",
   "execution_count": null,
   "metadata": {},
   "outputs": [],
   "source": []
  },
  {
   "cell_type": "code",
   "execution_count": null,
   "metadata": {},
   "outputs": [],
   "source": []
  },
  {
   "cell_type": "code",
   "execution_count": null,
   "metadata": {},
   "outputs": [],
   "source": []
  },
  {
   "cell_type": "code",
   "execution_count": null,
   "metadata": {},
   "outputs": [],
   "source": []
  },
  {
   "cell_type": "code",
   "execution_count": null,
   "metadata": {},
   "outputs": [],
   "source": []
  },
  {
   "cell_type": "code",
   "execution_count": 1,
   "metadata": {},
   "outputs": [],
   "source": [
    "import cv2, os, datetime, time, random, shutil\n",
    "import numpy as np\n",
    "import pandas as pd\n",
    "from datetime import datetime"
   ]
  },
  {
   "cell_type": "markdown",
   "metadata": {},
   "source": [
    "# Set folder to which photos/vids are saved"
   ]
  },
  {
   "cell_type": "code",
   "execution_count": 2,
   "metadata": {},
   "outputs": [
    {
     "data": {
      "text/plain": [
       "'C:\\\\Users\\\\kunal\\\\Documents\\\\VdartCode\\\\Objects'"
      ]
     },
     "execution_count": 2,
     "metadata": {},
     "output_type": "execute_result"
    }
   ],
   "source": [
    "os.chdir('/Users/kunal/Documents/VdartCode/Objects/')\n",
    "base_dir = os.getcwd()\n",
    "base_dir"
   ]
  },
  {
   "cell_type": "code",
   "execution_count": null,
   "metadata": {},
   "outputs": [],
   "source": [
    "custom_model_path='/Users/kunal/Documents/VdartCode/Models/'"
   ]
  },
  {
   "cell_type": "code",
   "execution_count": null,
   "metadata": {},
   "outputs": [],
   "source": [
    "base_dir ='/Users/kunal/Documents/VdartCode/Objects/'"
   ]
  },
  {
   "cell_type": "code",
   "execution_count": null,
   "metadata": {},
   "outputs": [],
   "source": [
    "execution_path = '/Users/kunal/Documents/VdartCode/'"
   ]
  },
  {
   "cell_type": "markdown",
   "metadata": {},
   "source": [
    "# Click photos"
   ]
  },
  {
   "cell_type": "markdown",
   "metadata": {},
   "source": [
    "Click the spacebar to take a pic and then it takes a frame\n",
    "Click escape key to get out"
   ]
  },
  {
   "cell_type": "raw",
   "metadata": {},
   "source": [
    "file_name = 'Test3'\n",
    "#----\n",
    "if not os.path.exists(file_name):\n",
    "        os.makedirs(file_name)\n",
    "os.chdir(os.path.join(base_dir, file_name))\n",
    "os.getcwd()\n",
    "#----\n",
    "cam = cv2.VideoCapture(1)\n",
    "#----\n",
    "cv2.namedWindow(\"Vdart\")\n",
    "cv2.resizeWindow(\"Vdart\", 2, 1)\n",
    "cv2.moveWindow(\"Vdart\", 10,10)\n",
    "img_counter = 0\n",
    "while True:\n",
    "    ret, frame = cam.read()\n",
    "    cv2.imshow(\"Vdart\", frame)\n",
    "    if not ret:\n",
    "        break\n",
    "    k = cv2.waitKey(1)\n",
    "\n",
    "    if k%256 == 27:\n",
    "        # ESC pressed\n",
    "        print(\"Escape hit, closing...\")\n",
    "        break\n",
    "    elif k%256 == 32:\n",
    "        # SPACE pressed\n",
    "        img_name = \"{}.png\".format(img_counter)\n",
    "        cv2.imwrite(img_name, frame)\n",
    "        print(\"{} written!\".format(img_name))\n",
    "        img_counter += 1\n",
    "#=========================        \n",
    "cam.release()\n",
    "cv2.destroyAllWindows()\n",
    "#========================="
   ]
  },
  {
   "cell_type": "markdown",
   "metadata": {},
   "source": [
    "# Record Vid and save frames"
   ]
  },
  {
   "cell_type": "code",
   "execution_count": 3,
   "metadata": {},
   "outputs": [],
   "source": [
    "app_name=\"Whatsapp\""
   ]
  },
  {
   "cell_type": "code",
   "execution_count": 4,
   "metadata": {},
   "outputs": [],
   "source": [
    "# DELETE STARTING FOLDER IF IT EXISTS\n",
    "if os.path.exists(app_name):\n",
    "    shutil.rmtree(app_name)\n",
    "#---\n",
    "# ADD STARTING FOLDER\n",
    "if not os.path.exists(app_name):\n",
    "        os.makedirs(app_name)"
   ]
  },
  {
   "cell_type": "code",
   "execution_count": 5,
   "metadata": {},
   "outputs": [],
   "source": [
    "my_res = '720p'\n",
    "#----\n",
    "STD_DIMENSIONS = {\n",
    "    \"480p\": (640, 480),\n",
    "    \"720p\": (1280, 720),\n",
    "    \"1080p\": (1920, 1080),\n",
    "    \"4k\": (3840, 2160),\n",
    "}\n",
    "# Video encoding, see www.fourcc.org/codecs.php for more codecs\n",
    "VIDEO_TYPE = {\n",
    "    'avi': cv2.VideoWriter_fourcc(*'XVID'),\n",
    "    'mp4': cv2.VideoWriter_fourcc(*'XVID'),\n",
    "}\n",
    "#---\n",
    "def get_video_type(filename):\n",
    "    filename, ext = os.path.splitext(filename)\n",
    "    if ext in VIDEO_TYPE:\n",
    "        return VIDEO_TYPE[ext]\n",
    "    return VIDEO_TYPE['avi']\n",
    "#---\n",
    "#def set_res(cap, res='480p'):\n",
    "def set_res(cap, res='720p'):    \n",
    "    #width, height = STD_DIMENSIONS['480p']\n",
    "    width, height = STD_DIMENSIONS['720p']\n",
    "    if res in STD_DIMENSIONS:\n",
    "        width, height = STD_DIMENSIONS[res]\n",
    "    cap.set(3, width)\n",
    "    cap.set(4, height)\n",
    "    return width, height\n",
    "#---"
   ]
  },
  {
   "cell_type": "code",
   "execution_count": 6,
   "metadata": {},
   "outputs": [],
   "source": [
    "def extract_image_one_fps(video_source_path):\n",
    "    vidcap = cv2.VideoCapture(video_source_path)\n",
    "    print('running')\n",
    "    count = 0\n",
    "    success = True\n",
    "    print('running')\n",
    "    while success:\n",
    "        vidcap.set(cv2.CAP_PROP_POS_MSEC,(count*1000)) # 2 second*** \n",
    "        #change the 1000 to different values to varry how many pictures per sec\n",
    "        #1000 is one frame per second and 500 is 2 pics per sec \n",
    "        success,image = vidcap.read()\n",
    "        print('running')\n",
    "        ## Stop when last frame is identified\n",
    "        image_last = cv2.imread(\"frame{}.png\".format(count-1))\n",
    "        if np.array_equal(image, image_last):\n",
    "            break\n",
    "        cv2.imwrite(\"frame%d.png\" % count, image)     # save frame as PNG file\n",
    "        print( '{}.sec reading a new frame:{}'.format(count,success))\n",
    "        count += 1\n",
    "        print('running')"
   ]
  },
  {
   "cell_type": "code",
   "execution_count": 7,
   "metadata": {},
   "outputs": [],
   "source": [
    "sec = 20"
   ]
  },
  {
   "cell_type": "code",
   "execution_count": 8,
   "metadata": {},
   "outputs": [],
   "source": [
    "\n",
    "if not os.path.exists(base_dir):\n",
    "        os.makedirs(base_dir)\n",
    "\n",
    "\n",
    "os.chdir(base_dir)\n",
    "folder_name = \"running\"\n",
    "\n",
    "#---\n",
    "nm1 = str(folder_name)\n",
    "nm3 = '.mp4'\n",
    "mp4_file = \"\".join((nm1, nm3))\n",
    "#----    # 24.0 # HIGHER NUMBER LOWER # OF FRAMES!\n",
    "cap = cv2.VideoCapture(0)\n",
    "t0 = time.time()\n",
    "#---\n",
    "dims = set_res(cap, my_res)\n",
    "video_type_cv2 = get_video_type(mp4_file)\n",
    "#---\n",
    "mp4_out = cv2.VideoWriter(mp4_file, video_type_cv2, 24, dims)\n",
    "#---\n",
    "while True:\n",
    "    ret, frame = cap.read()\n",
    "    mp4_out.write(frame)\n",
    "    cv2.imshow('frame', frame)\n",
    "    cv2.moveWindow('frame', 10, 10)\n",
    "    if time.time() > (t0 + sec) or  cv2.waitKey(20) & 0xFF == ord('q'):\n",
    "        break\n",
    "# When everything done, release the capture\n",
    "cap.release()\n",
    "mp4_out.release()\n",
    "cv2.destroyAllWindows()"
   ]
  },
  {
   "cell_type": "code",
   "execution_count": 9,
   "metadata": {},
   "outputs": [],
   "source": [
    "file = os.path.join(base_dir, folder_name)"
   ]
  },
  {
   "cell_type": "code",
   "execution_count": 10,
   "metadata": {},
   "outputs": [
    {
     "data": {
      "text/plain": [
       "'/Users/kunal/Documents/VdartCode/Objects/running'"
      ]
     },
     "execution_count": 10,
     "metadata": {},
     "output_type": "execute_result"
    }
   ],
   "source": [
    "file"
   ]
  },
  {
   "cell_type": "code",
   "execution_count": 14,
   "metadata": {},
   "outputs": [],
   "source": [
    "# Playing video from file:\n",
    "cap = cv2.VideoCapture('running.mp4')\n",
    "fps = cap.get(cv2.CAP_PROP_FPS)"
   ]
  },
  {
   "cell_type": "raw",
   "metadata": {},
   "source": [
    "vidcap = cv2.VideoCapture(file)\n",
    "count = 20\n",
    "success = True"
   ]
  },
  {
   "cell_type": "raw",
   "metadata": {},
   "source": [
    "\n",
    "while success:\n",
    "    success,image = vidcap.read()\n",
    "    print('read a new frame:',success)\n",
    "    if count%(1*fps) == 0 :\n",
    "        cv2.imwrite('%d.jpg'%count,image)\n",
    "        print('successfully written 10th frame')\n",
    "    count+=1"
   ]
  },
  {
   "cell_type": "code",
   "execution_count": null,
   "metadata": {},
   "outputs": [],
   "source": []
  },
  {
   "cell_type": "code",
   "execution_count": 27,
   "metadata": {},
   "outputs": [
    {
     "name": "stdout",
     "output_type": "stream",
     "text": [
      "Creating...0.png\n",
      "Creating...1.png\n",
      "Creating...2.png\n",
      "Creating...3.png\n",
      "Creating...4.png\n",
      "Creating...5.png\n",
      "Creating...6.png\n",
      "Creating...7.png\n",
      "Creating...8.png\n",
      "Creating...9.png\n",
      "Creating...10.png\n",
      "Creating...11.png\n",
      "Creating...12.png\n",
      "Creating...13.png\n",
      "Creating...14.png\n",
      "Creating...15.png\n",
      "Creating...16.png\n",
      "Creating...17.png\n",
      "Creating...18.png\n",
      "Creating...19.png\n",
      "Creating...20.png\n",
      "Creating...21.png\n",
      "Creating...22.png\n",
      "Creating...23.png\n",
      "Creating...24.png\n",
      "Creating...25.png\n",
      "Creating...26.png\n",
      "Creating...27.png\n",
      "Creating...28.png\n",
      "Creating...29.png\n",
      "Creating...30.png\n",
      "Creating...31.png\n",
      "Creating...32.png\n",
      "Creating...33.png\n",
      "Creating...34.png\n",
      "Creating...35.png\n",
      "Creating...36.png\n",
      "Creating...37.png\n",
      "Creating...38.png\n",
      "Creating...39.png\n",
      "Creating...40.png\n",
      "Creating...41.png\n",
      "Creating...42.png\n",
      "Creating...43.png\n",
      "Creating...44.png\n",
      "Creating...45.png\n",
      "Creating...46.png\n",
      "Creating...47.png\n",
      "Creating...48.png\n",
      "Creating...49.png\n",
      "Creating...50.png\n",
      "Creating...51.png\n",
      "Creating...52.png\n",
      "Creating...53.png\n",
      "Creating...54.png\n",
      "Creating...55.png\n",
      "Creating...56.png\n",
      "Creating...57.png\n",
      "Creating...58.png\n",
      "58\n"
     ]
    }
   ],
   "source": [
    "# Playing video from file:\n",
    "cap = cv2.VideoCapture('running.mp4')\n",
    "cap.get(cv2.CAP_PROP_FPS)\n",
    "try:\n",
    "    if not os.path.exists('data'):\n",
    "        os.makedirs('data')\n",
    "except OSError:\n",
    "    print ('Error: Creating directory of data')\n",
    "\n",
    "currentFrame = 0\n",
    "i = 0\n",
    "while(True):\n",
    "    # Capture frame-by-frame\n",
    "    ret, frame = cap.read()\n",
    "    if (i%10 == 0):\n",
    "        # Saves image of the current frame in jpg file\n",
    "        name = str(currentFrame) + '.png'\n",
    "        print ('Creating...' + name)\n",
    "        cv2.imwrite(name, frame)\n",
    "        if not ret: break\n",
    "        # To stop duplicate images\n",
    "        currentFrame += 1\n",
    "    i+=1\n",
    "print(currentFrame)\n",
    "# When everything done, release the capture\n",
    "cap.release()\n",
    "cv2.destroyAllWindows()"
   ]
  },
  {
   "cell_type": "code",
   "execution_count": null,
   "metadata": {},
   "outputs": [],
   "source": []
  },
  {
   "cell_type": "code",
   "execution_count": null,
   "metadata": {},
   "outputs": [],
   "source": []
  },
  {
   "cell_type": "markdown",
   "metadata": {},
   "source": [
    "# Running Detection"
   ]
  },
  {
   "cell_type": "code",
   "execution_count": 28,
   "metadata": {},
   "outputs": [],
   "source": [
    "from imageai.Prediction.Custom import ModelTraining\n",
    "from imageai.Prediction.Custom import CustomImagePrediction\n",
    "prediction = CustomImagePrediction()\n",
    "prediction.setModelTypeAsResNet()"
   ]
  },
  {
   "cell_type": "code",
   "execution_count": 29,
   "metadata": {},
   "outputs": [
    {
     "data": {
      "text/plain": [
       "['model_class.json', 'model_ex-009_acc-0.139842.h5', 'Old']"
      ]
     },
     "execution_count": 29,
     "metadata": {},
     "output_type": "execute_result"
    }
   ],
   "source": [
    "os.chdir(custom_model_path)\n",
    "os.listdir()"
   ]
  },
  {
   "cell_type": "code",
   "execution_count": 30,
   "metadata": {},
   "outputs": [],
   "source": [
    "number_of_classes = 5"
   ]
  },
  {
   "cell_type": "code",
   "execution_count": 31,
   "metadata": {},
   "outputs": [
    {
     "name": "stderr",
     "output_type": "stream",
     "text": [
      "WARNING: Logging before flag parsing goes to stderr.\n",
      "W1113 01:29:09.662932 20776 deprecation.py:506] From C:\\Users\\kunal\\Anaconda3\\lib\\site-packages\\tensorflow\\python\\ops\\init_ops.py:1251: calling VarianceScaling.__init__ (from tensorflow.python.ops.init_ops) with dtype is deprecated and will be removed in a future version.\n",
      "Instructions for updating:\n",
      "Call initializer instance with the dtype argument instead of passing it to the constructor\n"
     ]
    }
   ],
   "source": [
    "#*** 5 ITEMS *** 0303\n",
    "prediction.setModelPath('/Users/kunal/Documents/VdartCode/Models/model_ex-009_acc-0.139842.h5') \n",
    "prediction.setJsonPath('/Users/kunal/Documents/VdartCode/Models/model_class.json')\n",
    "#-----\n",
    "prediction.loadModel(num_objects=5) #updated 0303"
   ]
  },
  {
   "cell_type": "markdown",
   "metadata": {},
   "source": [
    "# Running"
   ]
  },
  {
   "cell_type": "code",
   "execution_count": null,
   "metadata": {},
   "outputs": [],
   "source": []
  },
  {
   "cell_type": "code",
   "execution_count": 41,
   "metadata": {},
   "outputs": [],
   "source": [
    "os.chdir('/Users/kunal/Documents/VdartCode/Objects/')"
   ]
  },
  {
   "cell_type": "code",
   "execution_count": 42,
   "metadata": {},
   "outputs": [],
   "source": []
  },
  {
   "cell_type": "code",
   "execution_count": 43,
   "metadata": {},
   "outputs": [
    {
     "data": {
      "text/plain": [
       "['0.png', '1.png']"
      ]
     },
     "execution_count": 43,
     "metadata": {},
     "output_type": "execute_result"
    }
   ],
   "source": [
    "detected_path = os.path.join(execution_path, \"Objects\")\n",
    "all_files = os.listdir(detected_path)\n",
    "if '.DS_Store' in all_files: all_files.remove('.DS_Store')\n",
    "all_files[:2]"
   ]
  },
  {
   "cell_type": "code",
   "execution_count": 44,
   "metadata": {},
   "outputs": [],
   "source": [
    "os.chdir(base_dir)"
   ]
  },
  {
   "cell_type": "raw",
   "metadata": {},
   "source": [
    "final_path= '/Users/kunal/Documents/VdartCode/FinalinFolder/'"
   ]
  },
  {
   "cell_type": "raw",
   "metadata": {},
   "source": [
    "for files in all_files:\n",
    "    if not os.path.exists(os.path.join(execution_path, files)):\n",
    "        os.makedirs(os.path.join(final_path, files))\n",
    "        shutil.move(files, os.path.join(final_path, files))"
   ]
  },
  {
   "cell_type": "code",
   "execution_count": 45,
   "metadata": {},
   "outputs": [
    {
     "data": {
      "text/plain": [
       "['0.png', '1.png', '10.png', '11.png', '12.png']"
      ]
     },
     "execution_count": 45,
     "metadata": {},
     "output_type": "execute_result"
    }
   ],
   "source": [
    "all_images_array = []\n",
    "for each_file in all_files:\n",
    "    if(each_file.endswith(\".jpg\") or each_file.endswith(\".png\")):\n",
    "        all_images_array.append(each_file)\n",
    "all_images_array[:5]"
   ]
  },
  {
   "cell_type": "code",
   "execution_count": 46,
   "metadata": {},
   "outputs": [
    {
     "data": {
      "text/plain": [
       "59"
      ]
     },
     "execution_count": 46,
     "metadata": {},
     "output_type": "execute_result"
    }
   ],
   "source": [
    "len(all_images_array)"
   ]
  },
  {
   "cell_type": "code",
   "execution_count": 47,
   "metadata": {},
   "outputs": [],
   "source": [
    "all_images_array_order = []\n",
    "for i in range(len(all_images_array)):\n",
    "    x = str(i)+'.png'\n",
    "    all_images_array_order.append(x)"
   ]
  },
  {
   "cell_type": "code",
   "execution_count": 53,
   "metadata": {},
   "outputs": [
    {
     "data": {
      "text/plain": [
       "['0.png', '1.png', '2.png', '3.png']"
      ]
     },
     "execution_count": 53,
     "metadata": {},
     "output_type": "execute_result"
    }
   ],
   "source": [
    "all_images_array_order[:4]"
   ]
  },
  {
   "cell_type": "code",
   "execution_count": 54,
   "metadata": {},
   "outputs": [
    {
     "data": {
      "text/plain": [
       "'58.png'"
      ]
     },
     "execution_count": 54,
     "metadata": {},
     "output_type": "execute_result"
    }
   ],
   "source": [
    "all_images_array_order.pop()"
   ]
  },
  {
   "cell_type": "raw",
   "metadata": {},
   "source": [
    "test = all_images_array\n",
    "new_array = []\n",
    "for i in test:\n",
    "    i = i.split('.')\n",
    "    #print(i)\n",
    "    x = int(i[0])\n",
    "    #x = int(i[:1])\n",
    "    print(x)\n",
    "    new_array.append(x)\n",
    "for i in range(0, len(new_array)): \n",
    "    new_array[i] = int(new_array[i]) '\n",
    "order = new_array.sort()"
   ]
  },
  {
   "cell_type": "code",
   "execution_count": 56,
   "metadata": {},
   "outputs": [],
   "source": [
    "os.chdir(detected_path)\n",
    "#============================\n",
    "# *** RUN PREDICTIONS ***\n",
    "#============================\n",
    "results_array = prediction.predictMultipleImages(all_images_array_order, result_count_per_image=1)"
   ]
  },
  {
   "cell_type": "raw",
   "metadata": {},
   "source": [
    "results_array = []"
   ]
  },
  {
   "cell_type": "raw",
   "metadata": {},
   "source": [
    "os.chdir(final_path)"
   ]
  },
  {
   "cell_type": "raw",
   "metadata": {},
   "source": [
    "for eachFolder in os.listdir(final_path):\n",
    "    inside_folder = os.path.join(final_path, eachFolder)\n",
    "    for eachSingleFile in os.listdir(inside_folder):\n",
    "        if(eachSingleFile.endswith(\".jpg\") or eachSingleFile.endswith(\".png\")):\n",
    "            #print(os.path.join(inside_folder, eachSingleFile))\n",
    "            print(inside_folder + '/' + eachSingleFile)\n",
    "            the_file = inside_folder + '/' + eachSingleFile\n",
    "            print(os.getcwd())\n",
    "            results_array.append(prediction.predictMultipleImages(the_file, result_count_per_image=1))"
   ]
  },
  {
   "cell_type": "code",
   "execution_count": 57,
   "metadata": {},
   "outputs": [
    {
     "data": {
      "text/plain": [
       "[{'predictions': ['finger'],\n",
       "  'percentage_probabilities': ['54.546695947647095']},\n",
       " {'predictions': ['finger'],\n",
       "  'percentage_probabilities': ['80.48816919326782']}]"
      ]
     },
     "execution_count": 57,
     "metadata": {},
     "output_type": "execute_result"
    }
   ],
   "source": [
    "results_array[:2]"
   ]
  },
  {
   "cell_type": "code",
   "execution_count": 58,
   "metadata": {},
   "outputs": [],
   "source": [
    "save_results = []\n",
    "for i in results_array:\n",
    "    FoodItem, prob = i[\"predictions\"], i[\"percentage_probabilities\"]\n",
    "    for idx in range(len(FoodItem)):\n",
    "        #print(pred[idx] , \" : \" , prob[idx])\n",
    "        save_results.append( (FoodItem[idx], prob[idx]) )\n",
    "    #print(\"-----------------------\")"
   ]
  },
  {
   "cell_type": "code",
   "execution_count": 59,
   "metadata": {},
   "outputs": [
    {
     "data": {
      "text/plain": [
       "[('finger', '54.546695947647095'), ('finger', '80.48816919326782')]"
      ]
     },
     "execution_count": 59,
     "metadata": {},
     "output_type": "execute_result"
    }
   ],
   "source": [
    "save_results[:2]"
   ]
  },
  {
   "cell_type": "code",
   "execution_count": 60,
   "metadata": {},
   "outputs": [
    {
     "data": {
      "text/plain": [
       "58"
      ]
     },
     "execution_count": 60,
     "metadata": {},
     "output_type": "execute_result"
    }
   ],
   "source": [
    "df = pd.DataFrame(save_results, columns=['App','Probability'])\n",
    "len(df)"
   ]
  },
  {
   "cell_type": "code",
   "execution_count": 61,
   "metadata": {},
   "outputs": [
    {
     "data": {
      "text/html": [
       "<div>\n",
       "<style scoped>\n",
       "    .dataframe tbody tr th:only-of-type {\n",
       "        vertical-align: middle;\n",
       "    }\n",
       "\n",
       "    .dataframe tbody tr th {\n",
       "        vertical-align: top;\n",
       "    }\n",
       "\n",
       "    .dataframe thead th {\n",
       "        text-align: right;\n",
       "    }\n",
       "</style>\n",
       "<table border=\"1\" class=\"dataframe\">\n",
       "  <thead>\n",
       "    <tr style=\"text-align: right;\">\n",
       "      <th></th>\n",
       "      <th>App</th>\n",
       "      <th>Probability</th>\n",
       "    </tr>\n",
       "  </thead>\n",
       "  <tbody>\n",
       "    <tr>\n",
       "      <th>0</th>\n",
       "      <td>finger</td>\n",
       "      <td>54.546695947647095</td>\n",
       "    </tr>\n",
       "    <tr>\n",
       "      <th>1</th>\n",
       "      <td>finger</td>\n",
       "      <td>80.48816919326782</td>\n",
       "    </tr>\n",
       "    <tr>\n",
       "      <th>2</th>\n",
       "      <td>finger</td>\n",
       "      <td>65.2346134185791</td>\n",
       "    </tr>\n",
       "    <tr>\n",
       "      <th>3</th>\n",
       "      <td>inside-whatsapp</td>\n",
       "      <td>67.24008321762085</td>\n",
       "    </tr>\n",
       "    <tr>\n",
       "      <th>4</th>\n",
       "      <td>finger</td>\n",
       "      <td>88.80575895309448</td>\n",
       "    </tr>\n",
       "  </tbody>\n",
       "</table>\n",
       "</div>"
      ],
      "text/plain": [
       "               App         Probability\n",
       "0           finger  54.546695947647095\n",
       "1           finger   80.48816919326782\n",
       "2           finger    65.2346134185791\n",
       "3  inside-whatsapp   67.24008321762085\n",
       "4           finger   88.80575895309448"
      ]
     },
     "execution_count": 61,
     "metadata": {},
     "output_type": "execute_result"
    }
   ],
   "source": [
    "df.head()"
   ]
  },
  {
   "cell_type": "code",
   "execution_count": 62,
   "metadata": {},
   "outputs": [
    {
     "data": {
      "text/plain": [
       "['0.png', '1.png']"
      ]
     },
     "execution_count": 62,
     "metadata": {},
     "output_type": "execute_result"
    }
   ],
   "source": [
    "all_images_array_order[:2]"
   ]
  },
  {
   "cell_type": "code",
   "execution_count": 63,
   "metadata": {},
   "outputs": [],
   "source": [
    "df[\"image_name\"] = all_images_array_order\n",
    "df.Probability = pd.to_numeric(df.Probability, errors = 'coerce').fillna(0).astype(np.int64)"
   ]
  },
  {
   "cell_type": "code",
   "execution_count": 64,
   "metadata": {},
   "outputs": [],
   "source": [
    "file_ext = str(random.randint(1,100))\n",
    "df.to_csv(os.path.join(execution_path, \"save_results\" + file_ext  + \".csv\"), index=False, encoding = 'utf8')"
   ]
  },
  {
   "cell_type": "code",
   "execution_count": 65,
   "metadata": {},
   "outputs": [],
   "source": [
    "dfx = df"
   ]
  },
  {
   "cell_type": "raw",
   "metadata": {},
   "source": [
    "df = df.sort_values(['image_name'], ascending= True)"
   ]
  },
  {
   "cell_type": "raw",
   "metadata": {},
   "source": [
    "df = df.sort_values(by = ['image_name'], axis=0, ascending=True, inplace=False, na_position='last')"
   ]
  },
  {
   "cell_type": "raw",
   "metadata": {},
   "source": [
    "# df['image_name'].split('.')"
   ]
  },
  {
   "cell_type": "code",
   "execution_count": 66,
   "metadata": {},
   "outputs": [],
   "source": [
    "df[\"image_name\"]= df[\"image_name\"].str.split(\".\", n = 1, expand = True) "
   ]
  },
  {
   "cell_type": "code",
   "execution_count": 67,
   "metadata": {},
   "outputs": [
    {
     "data": {
      "text/html": [
       "<div>\n",
       "<style scoped>\n",
       "    .dataframe tbody tr th:only-of-type {\n",
       "        vertical-align: middle;\n",
       "    }\n",
       "\n",
       "    .dataframe tbody tr th {\n",
       "        vertical-align: top;\n",
       "    }\n",
       "\n",
       "    .dataframe thead th {\n",
       "        text-align: right;\n",
       "    }\n",
       "</style>\n",
       "<table border=\"1\" class=\"dataframe\">\n",
       "  <thead>\n",
       "    <tr style=\"text-align: right;\">\n",
       "      <th></th>\n",
       "      <th>App</th>\n",
       "      <th>Probability</th>\n",
       "      <th>image_name</th>\n",
       "    </tr>\n",
       "  </thead>\n",
       "  <tbody>\n",
       "    <tr>\n",
       "      <th>0</th>\n",
       "      <td>finger</td>\n",
       "      <td>54</td>\n",
       "      <td>0</td>\n",
       "    </tr>\n",
       "    <tr>\n",
       "      <th>1</th>\n",
       "      <td>finger</td>\n",
       "      <td>80</td>\n",
       "      <td>1</td>\n",
       "    </tr>\n",
       "    <tr>\n",
       "      <th>2</th>\n",
       "      <td>finger</td>\n",
       "      <td>65</td>\n",
       "      <td>2</td>\n",
       "    </tr>\n",
       "    <tr>\n",
       "      <th>3</th>\n",
       "      <td>inside-whatsapp</td>\n",
       "      <td>67</td>\n",
       "      <td>3</td>\n",
       "    </tr>\n",
       "    <tr>\n",
       "      <th>4</th>\n",
       "      <td>finger</td>\n",
       "      <td>88</td>\n",
       "      <td>4</td>\n",
       "    </tr>\n",
       "  </tbody>\n",
       "</table>\n",
       "</div>"
      ],
      "text/plain": [
       "               App  Probability image_name\n",
       "0           finger           54          0\n",
       "1           finger           80          1\n",
       "2           finger           65          2\n",
       "3  inside-whatsapp           67          3\n",
       "4           finger           88          4"
      ]
     },
     "execution_count": 67,
     "metadata": {},
     "output_type": "execute_result"
    }
   ],
   "source": [
    "df.head()"
   ]
  },
  {
   "cell_type": "code",
   "execution_count": 68,
   "metadata": {},
   "outputs": [],
   "source": [
    "df['testing'] = df['App'].shift(-1)"
   ]
  },
  {
   "cell_type": "code",
   "execution_count": 69,
   "metadata": {},
   "outputs": [],
   "source": [
    "df['addOneFrame'] = df['image_name'].shift(-1)"
   ]
  },
  {
   "cell_type": "code",
   "execution_count": 70,
   "metadata": {},
   "outputs": [],
   "source": [
    "df['addOneProb'] = df['Probability'].shift(-1)"
   ]
  },
  {
   "cell_type": "code",
   "execution_count": 71,
   "metadata": {},
   "outputs": [
    {
     "data": {
      "text/plain": [
       "'finger-whatsapp'"
      ]
     },
     "execution_count": 71,
     "metadata": {},
     "output_type": "execute_result"
    }
   ],
   "source": [
    "df['App'].iloc[13]"
   ]
  },
  {
   "cell_type": "code",
   "execution_count": 72,
   "metadata": {},
   "outputs": [
    {
     "data": {
      "text/plain": [
       "58"
      ]
     },
     "execution_count": 72,
     "metadata": {},
     "output_type": "execute_result"
    }
   ],
   "source": [
    "len(df)"
   ]
  },
  {
   "cell_type": "code",
   "execution_count": 73,
   "metadata": {},
   "outputs": [
    {
     "name": "stdout",
     "output_type": "stream",
     "text": [
      "Between frame  2 and  3  there was a change screens from  finger (Prob - 65 ) to  inside-whatsapp (Prob - 67.0 ).\n",
      "Between frame  3 and  4  there was a change screens from  inside-whatsapp (Prob - 67 ) to  finger (Prob - 88.0 ).\n",
      "Between frame  8 and  9  there was a change screens from  finger (Prob - 95 ) to  finger-whatsapp (Prob - 56.0 ).\n",
      "Between frame  14 and  15  there was a change screens from  finger-whatsapp (Prob - 75 ) to  inside-whatsapp (Prob - 93.0 ).\n",
      "Between frame  28 and  29  there was a change screens from  inside-whatsapp (Prob - 90 ) to  whatsapp (Prob - 100.0 ).\n",
      "Between frame  34 and  35  there was a change screens from  whatsapp (Prob - 93 ) to  inside-whatsapp (Prob - 85.0 ).\n",
      "Between frame  39 and  40  there was a change screens from  inside-whatsapp (Prob - 97 ) to  whatsapp (Prob - 99.0 ).\n",
      "Between frame  40 and  41  there was a change screens from  whatsapp (Prob - 99 ) to  inside-whatsapp (Prob - 62.0 ).\n",
      "Between frame  41 and  42  there was a change screens from  inside-whatsapp (Prob - 62 ) to  whatsapp (Prob - 70.0 ).\n",
      "Between frame  42 and  43  there was a change screens from  whatsapp (Prob - 70 ) to  inside-whatsapp (Prob - 90.0 ).\n",
      "Between frame  44 and  45  there was a change screens from  inside-whatsapp (Prob - 91 ) to  whatsapp (Prob - 97.0 ).\n",
      "Removed row  47  because the probability was less than 50 ( 47 ).\n",
      "Removed row 47 because the probability was less than 50 (47).\n",
      "There was a total of  11 changes\n"
     ]
    },
    {
     "name": "stderr",
     "output_type": "stream",
     "text": [
      "C:\\Users\\kunal\\Anaconda3\\lib\\site-packages\\ipykernel_launcher.py:11: FutureWarning: set_value is deprecated and will be removed in a future release. Please use .at[] or .iat[] accessors instead\n",
      "  # This is added back by InteractiveShellApp.init_path()\n",
      "C:\\Users\\kunal\\Anaconda3\\lib\\site-packages\\ipykernel_launcher.py:12: FutureWarning: set_value is deprecated and will be removed in a future release. Please use .at[] or .iat[] accessors instead\n",
      "  if sys.path[0] == '':\n",
      "C:\\Users\\kunal\\Anaconda3\\lib\\site-packages\\ipykernel_launcher.py:13: FutureWarning: set_value is deprecated and will be removed in a future release. Please use .at[] or .iat[] accessors instead\n",
      "  del sys.path[0]\n",
      "C:\\Users\\kunal\\Anaconda3\\lib\\site-packages\\ipykernel_launcher.py:14: FutureWarning: set_value is deprecated and will be removed in a future release. Please use .at[] or .iat[] accessors instead\n",
      "  \n",
      "C:\\Users\\kunal\\Anaconda3\\lib\\site-packages\\ipykernel_launcher.py:15: FutureWarning: set_value is deprecated and will be removed in a future release. Please use .at[] or .iat[] accessors instead\n",
      "  from ipykernel import kernelapp as app\n"
     ]
    }
   ],
   "source": [
    "output_array = []\n",
    "count = 0\n",
    "for i in range(len(df)-1):\n",
    "    x = df['App'].iloc[i]\n",
    "    y = df['testing'].iloc[i]\n",
    "    frame1 = df['image_name'].iloc[i]\n",
    "    frame2 = df['addOneFrame'].iloc[i]\n",
    "    prob1 = df['Probability'].iloc[i]\n",
    "    prob2 = df['addOneProb'].iloc[i]\n",
    "    if(prob1 < 50):\n",
    "        df.set_value(i, 'addOne', 0)\n",
    "        df.set_value(i, 'App', 0)\n",
    "        df.set_value(i, 'Probability', 0)\n",
    "        df.set_value(i, 'addOneProb',  0)\n",
    "        df.set_value(i, 'testing', 0)\n",
    "        print(\"Removed row \", i, \" because the probability was less than 50 (\", prob1, \").\")\n",
    "        test = str(\"Removed row \"+ str(i)+ \" because the probability was less than 50 (\"+str(prob1)+ \").\")\n",
    "        output_array.append(test)\n",
    "        print(test)\n",
    "    if(x != y):\n",
    "        print(\"Between frame \", frame1, \"and \", frame2, \" there was a change screens from \", x , \n",
    "              \"(Prob -\" , prob1,\") to \", y, \"(Prob -\", prob2, \").\")\n",
    "        test2 = str(\"Between frame \"+ str(frame1)+ \" and \"+str(frame2)+ \" there was a change screens from \"+ str(x)+ \n",
    "              \"(Prob --> \" + str(prob1)+\") to \"+ str(y)+ \"(Prob --> \"+ str(prob2)+ \").\")\n",
    "        output_array.append(test2)\n",
    "        \n",
    "        \n",
    "        count+=1\n",
    "print(\"There was a total of \", count, \"changes\")\n",
    "test3 = str(\"There was a total of \"+ str(count)+ \" changes\")\n",
    "output_array.append(test3)"
   ]
  },
  {
   "cell_type": "code",
   "execution_count": 74,
   "metadata": {},
   "outputs": [
    {
     "data": {
      "text/plain": [
       "['Between frame 2 and 3 there was a change screens from finger(Prob --> 65) to inside-whatsapp(Prob --> 67.0).',\n",
       " 'Between frame 3 and 4 there was a change screens from inside-whatsapp(Prob --> 67) to finger(Prob --> 88.0).',\n",
       " 'Between frame 8 and 9 there was a change screens from finger(Prob --> 95) to finger-whatsapp(Prob --> 56.0).',\n",
       " 'Between frame 14 and 15 there was a change screens from finger-whatsapp(Prob --> 75) to inside-whatsapp(Prob --> 93.0).',\n",
       " 'Between frame 28 and 29 there was a change screens from inside-whatsapp(Prob --> 90) to whatsapp(Prob --> 100.0).',\n",
       " 'Between frame 34 and 35 there was a change screens from whatsapp(Prob --> 93) to inside-whatsapp(Prob --> 85.0).',\n",
       " 'Between frame 39 and 40 there was a change screens from inside-whatsapp(Prob --> 97) to whatsapp(Prob --> 99.0).',\n",
       " 'Between frame 40 and 41 there was a change screens from whatsapp(Prob --> 99) to inside-whatsapp(Prob --> 62.0).',\n",
       " 'Between frame 41 and 42 there was a change screens from inside-whatsapp(Prob --> 62) to whatsapp(Prob --> 70.0).',\n",
       " 'Between frame 42 and 43 there was a change screens from whatsapp(Prob --> 70) to inside-whatsapp(Prob --> 90.0).',\n",
       " 'Between frame 44 and 45 there was a change screens from inside-whatsapp(Prob --> 91) to whatsapp(Prob --> 97.0).',\n",
       " 'Removed row 47 because the probability was less than 50 (47).',\n",
       " 'There was a total of 11 changes']"
      ]
     },
     "execution_count": 74,
     "metadata": {},
     "output_type": "execute_result"
    }
   ],
   "source": [
    "output_array"
   ]
  },
  {
   "cell_type": "code",
   "execution_count": null,
   "metadata": {},
   "outputs": [],
   "source": []
  },
  {
   "cell_type": "code",
   "execution_count": 75,
   "metadata": {},
   "outputs": [
    {
     "name": "stdout",
     "output_type": "stream",
     "text": [
      "date and time = 13/11/2019 01:31:37\n"
     ]
    }
   ],
   "source": [
    "now = datetime.now()\n",
    "dt_string = now.strftime(\"%d/%m/%Y %H:%M:%S\")\n",
    "print(\"date and time =\", dt_string)"
   ]
  },
  {
   "cell_type": "code",
   "execution_count": 76,
   "metadata": {},
   "outputs": [],
   "source": [
    "output_array.insert(0,\"This is the Summary for WhatsApp.\")\n",
    "output_array.insert(1,\"\")\n",
    "output_array.insert(2,\"\")\n",
    "output_array.insert(3,\"It has \" + str(len(df)) + \" frames.\")\n",
    "output_array.insert(4,\"This was sent at \" + dt_string)\n",
    "output_array.insert(5,\"\")\n"
   ]
  },
  {
   "cell_type": "code",
   "execution_count": 77,
   "metadata": {},
   "outputs": [
    {
     "data": {
      "text/plain": [
       "['This is the Summary for WhatsApp.',\n",
       " '',\n",
       " '',\n",
       " 'It has 58 frames.',\n",
       " 'This was sent at 13/11/2019 01:31:37',\n",
       " '',\n",
       " 'Between frame 2 and 3 there was a change screens from finger(Prob --> 65) to inside-whatsapp(Prob --> 67.0).',\n",
       " 'Between frame 3 and 4 there was a change screens from inside-whatsapp(Prob --> 67) to finger(Prob --> 88.0).',\n",
       " 'Between frame 8 and 9 there was a change screens from finger(Prob --> 95) to finger-whatsapp(Prob --> 56.0).',\n",
       " 'Between frame 14 and 15 there was a change screens from finger-whatsapp(Prob --> 75) to inside-whatsapp(Prob --> 93.0).',\n",
       " 'Between frame 28 and 29 there was a change screens from inside-whatsapp(Prob --> 90) to whatsapp(Prob --> 100.0).',\n",
       " 'Between frame 34 and 35 there was a change screens from whatsapp(Prob --> 93) to inside-whatsapp(Prob --> 85.0).',\n",
       " 'Between frame 39 and 40 there was a change screens from inside-whatsapp(Prob --> 97) to whatsapp(Prob --> 99.0).',\n",
       " 'Between frame 40 and 41 there was a change screens from whatsapp(Prob --> 99) to inside-whatsapp(Prob --> 62.0).',\n",
       " 'Between frame 41 and 42 there was a change screens from inside-whatsapp(Prob --> 62) to whatsapp(Prob --> 70.0).',\n",
       " 'Between frame 42 and 43 there was a change screens from whatsapp(Prob --> 70) to inside-whatsapp(Prob --> 90.0).',\n",
       " 'Between frame 44 and 45 there was a change screens from inside-whatsapp(Prob --> 91) to whatsapp(Prob --> 97.0).',\n",
       " 'Removed row 47 because the probability was less than 50 (47).',\n",
       " 'There was a total of 11 changes']"
      ]
     },
     "execution_count": 77,
     "metadata": {},
     "output_type": "execute_result"
    }
   ],
   "source": [
    "output_array"
   ]
  },
  {
   "cell_type": "code",
   "execution_count": 78,
   "metadata": {},
   "outputs": [],
   "source": [
    "seperator = \"\\n\"\n",
    "done = seperator.join(output_array)"
   ]
  },
  {
   "cell_type": "markdown",
   "metadata": {},
   "source": [
    "# EMAIL"
   ]
  },
  {
   "cell_type": "code",
   "execution_count": 79,
   "metadata": {},
   "outputs": [],
   "source": [
    "import smtplib\n",
    "from email.mime.multipart import MIMEMultipart\n",
    "from email.mime.text import MIMEText\n",
    "from email.mime.base import MIMEBase\n",
    "from email import encoders"
   ]
  },
  {
   "cell_type": "code",
   "execution_count": 80,
   "metadata": {},
   "outputs": [],
   "source": [
    "fromaddr = \"kunal.aneja101@gmail.com\"\n",
    "toaddr = \"kunal.aneja101@gmail.com\"\n",
    "\n",
    "msg = MIMEMultipart()\n"
   ]
  },
  {
   "cell_type": "code",
   "execution_count": 81,
   "metadata": {},
   "outputs": [],
   "source": [
    "\n",
    "msg['From'] = fromaddr\n",
    "msg['To'] = toaddr\n",
    "msg['Subject'] = \"Running\"\n",
    "\n",
    "body = done\n",
    "msg.attach(MIMEText(body, 'plain'))\n",
    "\n"
   ]
  },
  {
   "cell_type": "code",
   "execution_count": 82,
   "metadata": {},
   "outputs": [
    {
     "data": {
      "text/plain": [
       "'\\nfilename = \"fileName\"\\nattachment = open(\"/Users/kunal/Documents/VdartJob/KunalAneja_Resume.docx\", \"rb\")\\n\\npart = MIMEBase(\\'application\\', \\'octet-stream\\')\\npart.set_payload((attachment).read())\\nencoders.encode_base64(part)\\npart.add_header(\\'Content-Disposition\\', \"attachment; filename= %s\" % filename)\\n\\nmsg.attach(part)\\n'"
      ]
     },
     "execution_count": 82,
     "metadata": {},
     "output_type": "execute_result"
    }
   ],
   "source": [
    "\"\"\"\n",
    "filename = \"fileName\"\n",
    "attachment = open(\"/Users/kunal/Documents/VdartJob/KunalAneja_Resume.docx\", \"rb\")\n",
    "\n",
    "part = MIMEBase('application', 'octet-stream')\n",
    "part.set_payload((attachment).read())\n",
    "encoders.encode_base64(part)\n",
    "part.add_header('Content-Disposition', \"attachment; filename= %s\" % filename)\n",
    "\n",
    "msg.attach(part)\n",
    "\"\"\""
   ]
  },
  {
   "cell_type": "code",
   "execution_count": 83,
   "metadata": {},
   "outputs": [
    {
     "data": {
      "text/plain": [
       "(221, b'2.0.0 closing connection w67sm1024405yww.16 - gsmtp')"
      ]
     },
     "execution_count": 83,
     "metadata": {},
     "output_type": "execute_result"
    }
   ],
   "source": [
    "server = smtplib.SMTP('smtp.gmail.com', 587)\n",
    "server.starttls()\n",
    "server.login(fromaddr, \"1100339047\")\n",
    "text = msg.as_string()\n",
    "server.sendmail(fromaddr, toaddr, text)\n",
    "server.quit()"
   ]
  },
  {
   "cell_type": "code",
   "execution_count": null,
   "metadata": {},
   "outputs": [],
   "source": []
  },
  {
   "cell_type": "code",
   "execution_count": 84,
   "metadata": {},
   "outputs": [
    {
     "ename": "SyntaxError",
     "evalue": "invalid syntax (<ipython-input-84-2fddb62a88df>, line 1)",
     "output_type": "error",
     "traceback": [
      "\u001b[1;36m  File \u001b[1;32m\"<ipython-input-84-2fddb62a88df>\"\u001b[1;36m, line \u001b[1;32m1\u001b[0m\n\u001b[1;33m    ================================================================\u001b[0m\n\u001b[1;37m     ^\u001b[0m\n\u001b[1;31mSyntaxError\u001b[0m\u001b[1;31m:\u001b[0m invalid syntax\n"
     ]
    }
   ],
   "source": [
    "================================================================"
   ]
  },
  {
   "cell_type": "markdown",
   "metadata": {},
   "source": [
    "# Testing"
   ]
  },
  {
   "cell_type": "raw",
   "metadata": {},
   "source": [
    "import os"
   ]
  },
  {
   "cell_type": "raw",
   "metadata": {},
   "source": [
    "file = '/Users/kunal/Documents/VdartCode/Objects/CAFETERIA_face.mp4'\n",
    "dude = '/Users/kunal/Documents/VdartCode/Objects/'\n",
    "\n",
    "os.chdir(dude)"
   ]
  },
  {
   "cell_type": "raw",
   "metadata": {},
   "source": [
    "import cv2\n",
    "\n",
    "vidcap = cv2.VideoCapture(file)\n",
    "count = 0\n",
    "success = True\n",
    "fps = int(vidcap.get(cv2.CAP_PROP_FPS))\n",
    "\n",
    "while success:\n",
    "    success,image = vidcap.read()\n",
    "    #print('read a new frame:',success)\n",
    "    frame = 1\n",
    "    if count%(frame*fps) == 0 :\n",
    "        cv2.imwrite('frame%d.jpg'%count,image)\n",
    "        print('successfully written %th frame'%frame)\n",
    "    count+=1"
   ]
  },
  {
   "cell_type": "markdown",
   "metadata": {},
   "source": [
    "# Convert single image to edge detection"
   ]
  },
  {
   "cell_type": "raw",
   "metadata": {},
   "source": [
    "from PIL import Image, ImageFilter\n",
    "\n",
    "image = Image.open('frame1.png')\n",
    "image = image.filter(ImageFilter.FIND_EDGES)\n",
    "image.save('edited.png') "
   ]
  },
  {
   "cell_type": "markdown",
   "metadata": {},
   "source": [
    "# Running Live Edge Detection "
   ]
  },
  {
   "cell_type": "raw",
   "metadata": {},
   "source": [
    "import cv2\n",
    "import numpy as np\n",
    "\n",
    "cap = cv2.VideoCapture(1)\n",
    "\n",
    "while(1):\n",
    "\n",
    "    _, frame = cap.read()\n",
    "    hsv = cv2.cvtColor(frame, cv2.COLOR_BGR2HSV)\n",
    "    \n",
    "    lower_red = np.array([30,150,50])\n",
    "    upper_red = np.array([255,255,180])\n",
    "    \n",
    "    mask = cv2.inRange(hsv, lower_red, upper_red)\n",
    "    res = cv2.bitwise_and(frame,frame, mask= mask)\n",
    "\n",
    "    cv2.imshow('Original',frame)\n",
    "    edges = cv2.Canny(frame,100,200)\n",
    "    cv2.imshow('Edges',edges)\n",
    "    \n",
    "    k = cv2.waitKey(5) & 0xFF\n",
    "    if k == 27:\n",
    "        break\n",
    "\n",
    "cv2.destroyAllWindows()\n",
    "cap.release()"
   ]
  },
  {
   "cell_type": "markdown",
   "metadata": {},
   "source": [
    "# Other"
   ]
  },
  {
   "cell_type": "raw",
   "metadata": {},
   "source": [
    "'''\n",
    "for i in range(len(df)):\n",
    "    test = str(i+1)+ '.png'\n",
    "    print(test)\n",
    "    num = 0\n",
    "    orginal = str(num) + '.png'\n",
    "    print(orginal)\n",
    "    if (df.loc[df['image_name'] == orginal].any()):\n",
    "        next_val = test\n",
    "        print(next_val)\n",
    "        if (df.loc[df['App'] == 'whatsapp']):\n",
    "            next_val = test\n",
    "    num+=1\n",
    "'''"
   ]
  },
  {
   "cell_type": "raw",
   "metadata": {},
   "source": [
    "dfx = df"
   ]
  },
  {
   "cell_type": "raw",
   "metadata": {},
   "source": [
    "itm_tags = dfx.App.value_counts()\n",
    "itm_tags = pd.DataFrame(itm_tags)\n",
    "itm_tags.index.name = 'x'\n",
    "itm_tags.reset_index(inplace=True)\n",
    "itm_tags.columns = ['App', 'frequency']\n",
    "itm_tags"
   ]
  },
  {
   "cell_type": "raw",
   "metadata": {},
   "source": [
    "df.shape[0]"
   ]
  },
  {
   "cell_type": "raw",
   "metadata": {},
   "source": [
    "print(len(df))\n",
    "df.Probability = pd.to_numeric(df.Probability, errors = 'coerce')\n",
    "df = df.sort_values(['Probability'], ascending = False)\n",
    "#df = df.drop(df[df.Probability < 90].index)\n",
    "print(len(df))\n",
    "#df"
   ]
  },
  {
   "cell_type": "raw",
   "metadata": {},
   "source": [
    "itm_tags = df.App.value_counts()\n",
    "itm_tags = pd.DataFrame(itm_tags)\n",
    "itm_tags.index.name = 'x'\n",
    "itm_tags.reset_index(inplace=True)\n",
    "itm_tags.columns = ['App', 'frequency']\n",
    "itm_tags"
   ]
  },
  {
   "cell_type": "raw",
   "metadata": {},
   "source": [
    "dfx"
   ]
  },
  {
   "cell_type": "raw",
   "metadata": {},
   "source": [
    "itm_tags"
   ]
  },
  {
   "cell_type": "code",
   "execution_count": null,
   "metadata": {},
   "outputs": [],
   "source": []
  },
  {
   "cell_type": "raw",
   "metadata": {},
   "source": [
    "Matplot lib \n",
    "graphically represent the results of the epochs \n"
   ]
  },
  {
   "cell_type": "code",
   "execution_count": null,
   "metadata": {},
   "outputs": [],
   "source": []
  }
 ],
 "metadata": {
  "kernelspec": {
   "display_name": "Python 3",
   "language": "python",
   "name": "python3"
  },
  "language_info": {
   "codemirror_mode": {
    "name": "ipython",
    "version": 3
   },
   "file_extension": ".py",
   "mimetype": "text/x-python",
   "name": "python",
   "nbconvert_exporter": "python",
   "pygments_lexer": "ipython3",
   "version": "3.7.3"
  }
 },
 "nbformat": 4,
 "nbformat_minor": 2
}
